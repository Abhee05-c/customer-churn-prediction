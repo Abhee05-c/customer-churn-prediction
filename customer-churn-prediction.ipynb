{
 "cells": [
  {
   "cell_type": "markdown",
   "id": "1fbe6dfe",
   "metadata": {
    "_cell_guid": "b1076dfc-b9ad-4769-8c92-a6c4dae69d19",
    "_uuid": "8f2839f25d086af736a60e9eeb907d3b93b6e0e5",
    "papermill": {
     "duration": 0.019922,
     "end_time": "2025-01-16T16:37:52.995868",
     "exception": false,
     "start_time": "2025-01-16T16:37:52.975946",
     "status": "completed"
    },
    "tags": []
   },
   "source": [
    "###### TELECOM CUSTOMER CHURN PREDICTION.\n"
   ]
  },
  {
   "cell_type": "markdown",
   "id": "08741033",
   "metadata": {
    "papermill": {
     "duration": 0.019729,
     "end_time": "2025-01-16T16:37:53.034859",
     "exception": false,
     "start_time": "2025-01-16T16:37:53.015130",
     "status": "completed"
    },
    "tags": []
   },
   "source": [
    "# INTRODUCTION\n",
    "\n",
    "\n",
    "> 1.**What is Customer Churn** ?\n",
    "\n",
    "> Customer churn refers to the phenomenon where customers stop doing business with a company or        service provider.\n",
    "\n",
    "> So, usually it is more like availing the subscription of a firm and suddenly discontinuing the service for any reason.\n",
    "\n",
    "> Customer in the telecom industry has a variety of options for choosing a firm and simultaneosly switching from one industry to another industry if the choosed firm doesn't compel user's standard.\n",
    "\n",
    "> 2.**Why to reduce Customer Churn** ?\n",
    "\n",
    "> By reducing customer churn ,these firms will solidify their position,continue to grow and satisfy customer's standard. The greater the number of customers in their network, the lower the startup costs and the higher the profits. Therefore, the company prioritizes minimizing customer attrition and implementing effective retention strategies to ensure success.\n",
    "\n",
    "> 3.**Objective of the Project :**\n",
    "\n",
    "> The primary goal of this project is to **predict customer churn**—that is, to determine which customers are likely to stop using a service based on their historical data and behavioral patterns.\n",
    "\n",
    ">4.**My KEY Findings Includes :**\n",
    "\n",
    ">* In this project, i had analyzed data on customer demographics, service usage, past behaviors and visualized the relationship between features of the firm and the churned customers.\n",
    "\n",
    ">* **Visualization Includes :**\n",
    "> 1. Which of the customers are more likely to churn(Male,Female) ?\n",
    "> 2. What is the percentage of Churn Customers and active customers ?\n",
    "> 3. Does the Internet sevice firm became a concern for the Churned Customers ?\n",
    "> 4. Which of the customers are more likely to churn Existing or Newly joined ?\n",
    "> 5. Does Monthly charges became a concern for churned users ?\n",
    "> 6. Does the churned customers had to pay high total charges ?\n",
    "> 7. Does Online Security and Online backup is a concern for the churned users ?\n",
    "> 8. Does phone service feature, a concern for the churned customers ?\n",
    "> 9. Does tech support feature, a concern for the churned customers ?\n",
    "> 10.  Does service contracts reduce active customers ?\n",
    "> 11.  What type of users usually become in-active ?\n",
    "> 12.  Who have more partners(Male/female) and Is users with partners are more likely to churn or           not having any partner ?\n",
    "> 13.  Most used Payment Method by the churned users ?"
   ]
  },
  {
   "cell_type": "markdown",
   "id": "51ca7891",
   "metadata": {
    "papermill": {
     "duration": 0.018729,
     "end_time": "2025-01-16T16:37:53.074930",
     "exception": false,
     "start_time": "2025-01-16T16:37:53.056201",
     "status": "completed"
    },
    "tags": []
   },
   "source": [
    "# Import the libraries"
   ]
  },
  {
   "cell_type": "code",
   "execution_count": 1,
   "id": "caeccf60",
   "metadata": {
    "execution": {
     "iopub.execute_input": "2025-01-16T16:37:53.114748Z",
     "iopub.status.busy": "2025-01-16T16:37:53.114371Z",
     "iopub.status.idle": "2025-01-16T16:37:56.477708Z",
     "shell.execute_reply": "2025-01-16T16:37:56.476574Z"
    },
    "papermill": {
     "duration": 3.38565,
     "end_time": "2025-01-16T16:37:56.479908",
     "exception": false,
     "start_time": "2025-01-16T16:37:53.094258",
     "status": "completed"
    },
    "tags": []
   },
   "outputs": [],
   "source": [
    "import pandas as pd\n",
    "import numpy as np\n",
    "import matplotlib.pyplot as plt\n",
    "import seaborn as sns\n",
    "import warnings\n",
    "warnings.filterwarnings(\"ignore\")\n",
    "from sklearn.model_selection import train_test_split\n",
    "from sklearn.preprocessing import StandardScaler, LabelEncoder\n",
    "from sklearn.ensemble import RandomForestClassifier\n",
    "from sklearn.metrics import accuracy_score, classification_report, confusion_matrix, roc_auc_score\n",
    "from sklearn.model_selection import GridSearchCV"
   ]
  },
  {
   "cell_type": "markdown",
   "id": "6d82c82c",
   "metadata": {
    "papermill": {
     "duration": 0.018397,
     "end_time": "2025-01-16T16:37:56.518168",
     "exception": false,
     "start_time": "2025-01-16T16:37:56.499771",
     "status": "completed"
    },
    "tags": []
   },
   "source": [
    "# Data Collection."
   ]
  },
  {
   "cell_type": "code",
   "execution_count": 2,
   "id": "41e58e9a",
   "metadata": {
    "execution": {
     "iopub.execute_input": "2025-01-16T16:37:56.557425Z",
     "iopub.status.busy": "2025-01-16T16:37:56.556810Z",
     "iopub.status.idle": "2025-01-16T16:37:56.661001Z",
     "shell.execute_reply": "2025-01-16T16:37:56.659890Z"
    },
    "papermill": {
     "duration": 0.126394,
     "end_time": "2025-01-16T16:37:56.663147",
     "exception": false,
     "start_time": "2025-01-16T16:37:56.536753",
     "status": "completed"
    },
    "tags": []
   },
   "outputs": [
    {
     "data": {
      "text/html": [
       "<div>\n",
       "<style scoped>\n",
       "    .dataframe tbody tr th:only-of-type {\n",
       "        vertical-align: middle;\n",
       "    }\n",
       "\n",
       "    .dataframe tbody tr th {\n",
       "        vertical-align: top;\n",
       "    }\n",
       "\n",
       "    .dataframe thead th {\n",
       "        text-align: right;\n",
       "    }\n",
       "</style>\n",
       "<table border=\"1\" class=\"dataframe\">\n",
       "  <thead>\n",
       "    <tr style=\"text-align: right;\">\n",
       "      <th></th>\n",
       "      <th>customerID</th>\n",
       "      <th>gender</th>\n",
       "      <th>SeniorCitizen</th>\n",
       "      <th>Partner</th>\n",
       "      <th>Dependents</th>\n",
       "      <th>tenure</th>\n",
       "      <th>PhoneService</th>\n",
       "      <th>MultipleLines</th>\n",
       "      <th>InternetService</th>\n",
       "      <th>OnlineSecurity</th>\n",
       "      <th>...</th>\n",
       "      <th>DeviceProtection</th>\n",
       "      <th>TechSupport</th>\n",
       "      <th>StreamingTV</th>\n",
       "      <th>StreamingMovies</th>\n",
       "      <th>Contract</th>\n",
       "      <th>PaperlessBilling</th>\n",
       "      <th>PaymentMethod</th>\n",
       "      <th>MonthlyCharges</th>\n",
       "      <th>TotalCharges</th>\n",
       "      <th>Churn</th>\n",
       "    </tr>\n",
       "  </thead>\n",
       "  <tbody>\n",
       "    <tr>\n",
       "      <th>0</th>\n",
       "      <td>7590-VHVEG</td>\n",
       "      <td>Female</td>\n",
       "      <td>0</td>\n",
       "      <td>Yes</td>\n",
       "      <td>No</td>\n",
       "      <td>1</td>\n",
       "      <td>No</td>\n",
       "      <td>No phone service</td>\n",
       "      <td>DSL</td>\n",
       "      <td>No</td>\n",
       "      <td>...</td>\n",
       "      <td>No</td>\n",
       "      <td>No</td>\n",
       "      <td>No</td>\n",
       "      <td>No</td>\n",
       "      <td>Month-to-month</td>\n",
       "      <td>Yes</td>\n",
       "      <td>Electronic check</td>\n",
       "      <td>29.85</td>\n",
       "      <td>29.85</td>\n",
       "      <td>No</td>\n",
       "    </tr>\n",
       "    <tr>\n",
       "      <th>1</th>\n",
       "      <td>5575-GNVDE</td>\n",
       "      <td>Male</td>\n",
       "      <td>0</td>\n",
       "      <td>No</td>\n",
       "      <td>No</td>\n",
       "      <td>34</td>\n",
       "      <td>Yes</td>\n",
       "      <td>No</td>\n",
       "      <td>DSL</td>\n",
       "      <td>Yes</td>\n",
       "      <td>...</td>\n",
       "      <td>Yes</td>\n",
       "      <td>No</td>\n",
       "      <td>No</td>\n",
       "      <td>No</td>\n",
       "      <td>One year</td>\n",
       "      <td>No</td>\n",
       "      <td>Mailed check</td>\n",
       "      <td>56.95</td>\n",
       "      <td>1889.5</td>\n",
       "      <td>No</td>\n",
       "    </tr>\n",
       "    <tr>\n",
       "      <th>2</th>\n",
       "      <td>3668-QPYBK</td>\n",
       "      <td>Male</td>\n",
       "      <td>0</td>\n",
       "      <td>No</td>\n",
       "      <td>No</td>\n",
       "      <td>2</td>\n",
       "      <td>Yes</td>\n",
       "      <td>No</td>\n",
       "      <td>DSL</td>\n",
       "      <td>Yes</td>\n",
       "      <td>...</td>\n",
       "      <td>No</td>\n",
       "      <td>No</td>\n",
       "      <td>No</td>\n",
       "      <td>No</td>\n",
       "      <td>Month-to-month</td>\n",
       "      <td>Yes</td>\n",
       "      <td>Mailed check</td>\n",
       "      <td>53.85</td>\n",
       "      <td>108.15</td>\n",
       "      <td>Yes</td>\n",
       "    </tr>\n",
       "    <tr>\n",
       "      <th>3</th>\n",
       "      <td>7795-CFOCW</td>\n",
       "      <td>Male</td>\n",
       "      <td>0</td>\n",
       "      <td>No</td>\n",
       "      <td>No</td>\n",
       "      <td>45</td>\n",
       "      <td>No</td>\n",
       "      <td>No phone service</td>\n",
       "      <td>DSL</td>\n",
       "      <td>Yes</td>\n",
       "      <td>...</td>\n",
       "      <td>Yes</td>\n",
       "      <td>Yes</td>\n",
       "      <td>No</td>\n",
       "      <td>No</td>\n",
       "      <td>One year</td>\n",
       "      <td>No</td>\n",
       "      <td>Bank transfer (automatic)</td>\n",
       "      <td>42.30</td>\n",
       "      <td>1840.75</td>\n",
       "      <td>No</td>\n",
       "    </tr>\n",
       "    <tr>\n",
       "      <th>4</th>\n",
       "      <td>9237-HQITU</td>\n",
       "      <td>Female</td>\n",
       "      <td>0</td>\n",
       "      <td>No</td>\n",
       "      <td>No</td>\n",
       "      <td>2</td>\n",
       "      <td>Yes</td>\n",
       "      <td>No</td>\n",
       "      <td>Fiber optic</td>\n",
       "      <td>No</td>\n",
       "      <td>...</td>\n",
       "      <td>No</td>\n",
       "      <td>No</td>\n",
       "      <td>No</td>\n",
       "      <td>No</td>\n",
       "      <td>Month-to-month</td>\n",
       "      <td>Yes</td>\n",
       "      <td>Electronic check</td>\n",
       "      <td>70.70</td>\n",
       "      <td>151.65</td>\n",
       "      <td>Yes</td>\n",
       "    </tr>\n",
       "  </tbody>\n",
       "</table>\n",
       "<p>5 rows × 21 columns</p>\n",
       "</div>"
      ],
      "text/plain": [
       "   customerID  gender  SeniorCitizen Partner Dependents  tenure PhoneService  \\\n",
       "0  7590-VHVEG  Female              0     Yes         No       1           No   \n",
       "1  5575-GNVDE    Male              0      No         No      34          Yes   \n",
       "2  3668-QPYBK    Male              0      No         No       2          Yes   \n",
       "3  7795-CFOCW    Male              0      No         No      45           No   \n",
       "4  9237-HQITU  Female              0      No         No       2          Yes   \n",
       "\n",
       "      MultipleLines InternetService OnlineSecurity  ... DeviceProtection  \\\n",
       "0  No phone service             DSL             No  ...               No   \n",
       "1                No             DSL            Yes  ...              Yes   \n",
       "2                No             DSL            Yes  ...               No   \n",
       "3  No phone service             DSL            Yes  ...              Yes   \n",
       "4                No     Fiber optic             No  ...               No   \n",
       "\n",
       "  TechSupport StreamingTV StreamingMovies        Contract PaperlessBilling  \\\n",
       "0          No          No              No  Month-to-month              Yes   \n",
       "1          No          No              No        One year               No   \n",
       "2          No          No              No  Month-to-month              Yes   \n",
       "3         Yes          No              No        One year               No   \n",
       "4          No          No              No  Month-to-month              Yes   \n",
       "\n",
       "               PaymentMethod MonthlyCharges  TotalCharges Churn  \n",
       "0           Electronic check          29.85         29.85    No  \n",
       "1               Mailed check          56.95        1889.5    No  \n",
       "2               Mailed check          53.85        108.15   Yes  \n",
       "3  Bank transfer (automatic)          42.30       1840.75    No  \n",
       "4           Electronic check          70.70        151.65   Yes  \n",
       "\n",
       "[5 rows x 21 columns]"
      ]
     },
     "execution_count": 2,
     "metadata": {},
     "output_type": "execute_result"
    }
   ],
   "source": [
    "df=pd.read_csv('/kaggle/input/telco-customer-churn/WA_Fn-UseC_-Telco-Customer-Churn.csv')\n",
    "df.head()"
   ]
  },
  {
   "cell_type": "code",
   "execution_count": 3,
   "id": "cb50b547",
   "metadata": {
    "execution": {
     "iopub.execute_input": "2025-01-16T16:37:56.703002Z",
     "iopub.status.busy": "2025-01-16T16:37:56.702643Z",
     "iopub.status.idle": "2025-01-16T16:37:56.709008Z",
     "shell.execute_reply": "2025-01-16T16:37:56.707925Z"
    },
    "papermill": {
     "duration": 0.028328,
     "end_time": "2025-01-16T16:37:56.710906",
     "exception": false,
     "start_time": "2025-01-16T16:37:56.682578",
     "status": "completed"
    },
    "tags": []
   },
   "outputs": [
    {
     "data": {
      "text/plain": [
       "(7043, 21)"
      ]
     },
     "execution_count": 3,
     "metadata": {},
     "output_type": "execute_result"
    }
   ],
   "source": [
    "df.shape"
   ]
  },
  {
   "cell_type": "code",
   "execution_count": 4,
   "id": "01e9a383",
   "metadata": {
    "execution": {
     "iopub.execute_input": "2025-01-16T16:37:56.751134Z",
     "iopub.status.busy": "2025-01-16T16:37:56.750738Z",
     "iopub.status.idle": "2025-01-16T16:37:56.782065Z",
     "shell.execute_reply": "2025-01-16T16:37:56.780601Z"
    },
    "papermill": {
     "duration": 0.053658,
     "end_time": "2025-01-16T16:37:56.784081",
     "exception": false,
     "start_time": "2025-01-16T16:37:56.730423",
     "status": "completed"
    },
    "tags": []
   },
   "outputs": [
    {
     "name": "stdout",
     "output_type": "stream",
     "text": [
      "<class 'pandas.core.frame.DataFrame'>\n",
      "RangeIndex: 7043 entries, 0 to 7042\n",
      "Data columns (total 21 columns):\n",
      " #   Column            Non-Null Count  Dtype  \n",
      "---  ------            --------------  -----  \n",
      " 0   customerID        7043 non-null   object \n",
      " 1   gender            7043 non-null   object \n",
      " 2   SeniorCitizen     7043 non-null   int64  \n",
      " 3   Partner           7043 non-null   object \n",
      " 4   Dependents        7043 non-null   object \n",
      " 5   tenure            7043 non-null   int64  \n",
      " 6   PhoneService      7043 non-null   object \n",
      " 7   MultipleLines     7043 non-null   object \n",
      " 8   InternetService   7043 non-null   object \n",
      " 9   OnlineSecurity    7043 non-null   object \n",
      " 10  OnlineBackup      7043 non-null   object \n",
      " 11  DeviceProtection  7043 non-null   object \n",
      " 12  TechSupport       7043 non-null   object \n",
      " 13  StreamingTV       7043 non-null   object \n",
      " 14  StreamingMovies   7043 non-null   object \n",
      " 15  Contract          7043 non-null   object \n",
      " 16  PaperlessBilling  7043 non-null   object \n",
      " 17  PaymentMethod     7043 non-null   object \n",
      " 18  MonthlyCharges    7043 non-null   float64\n",
      " 19  TotalCharges      7043 non-null   object \n",
      " 20  Churn             7043 non-null   object \n",
      "dtypes: float64(1), int64(2), object(18)\n",
      "memory usage: 1.1+ MB\n"
     ]
    }
   ],
   "source": [
    "df.info()"
   ]
  },
  {
   "cell_type": "code",
   "execution_count": 5,
   "id": "242474e2",
   "metadata": {
    "execution": {
     "iopub.execute_input": "2025-01-16T16:37:56.825511Z",
     "iopub.status.busy": "2025-01-16T16:37:56.825086Z",
     "iopub.status.idle": "2025-01-16T16:37:56.831829Z",
     "shell.execute_reply": "2025-01-16T16:37:56.830645Z"
    },
    "papermill": {
     "duration": 0.030041,
     "end_time": "2025-01-16T16:37:56.833830",
     "exception": false,
     "start_time": "2025-01-16T16:37:56.803789",
     "status": "completed"
    },
    "tags": []
   },
   "outputs": [
    {
     "data": {
      "text/plain": [
       "Index(['customerID', 'gender', 'SeniorCitizen', 'Partner', 'Dependents',\n",
       "       'tenure', 'PhoneService', 'MultipleLines', 'InternetService',\n",
       "       'OnlineSecurity', 'OnlineBackup', 'DeviceProtection', 'TechSupport',\n",
       "       'StreamingTV', 'StreamingMovies', 'Contract', 'PaperlessBilling',\n",
       "       'PaymentMethod', 'MonthlyCharges', 'TotalCharges', 'Churn'],\n",
       "      dtype='object')"
      ]
     },
     "execution_count": 5,
     "metadata": {},
     "output_type": "execute_result"
    }
   ],
   "source": [
    "df.columns"
   ]
  },
  {
   "cell_type": "code",
   "execution_count": 6,
   "id": "51fa0a32",
   "metadata": {
    "execution": {
     "iopub.execute_input": "2025-01-16T16:37:56.874939Z",
     "iopub.status.busy": "2025-01-16T16:37:56.874595Z",
     "iopub.status.idle": "2025-01-16T16:37:56.888586Z",
     "shell.execute_reply": "2025-01-16T16:37:56.887404Z"
    },
    "papermill": {
     "duration": 0.037204,
     "end_time": "2025-01-16T16:37:56.890636",
     "exception": false,
     "start_time": "2025-01-16T16:37:56.853432",
     "status": "completed"
    },
    "tags": []
   },
   "outputs": [
    {
     "data": {
      "text/plain": [
       "customerID          0\n",
       "gender              0\n",
       "SeniorCitizen       0\n",
       "Partner             0\n",
       "Dependents          0\n",
       "tenure              0\n",
       "PhoneService        0\n",
       "MultipleLines       0\n",
       "InternetService     0\n",
       "OnlineSecurity      0\n",
       "OnlineBackup        0\n",
       "DeviceProtection    0\n",
       "TechSupport         0\n",
       "StreamingTV         0\n",
       "StreamingMovies     0\n",
       "Contract            0\n",
       "PaperlessBilling    0\n",
       "PaymentMethod       0\n",
       "MonthlyCharges      0\n",
       "TotalCharges        0\n",
       "Churn               0\n",
       "dtype: int64"
      ]
     },
     "execution_count": 6,
     "metadata": {},
     "output_type": "execute_result"
    }
   ],
   "source": [
    "df.isnull().sum()"
   ]
  },
  {
   "cell_type": "markdown",
   "id": "adbffb70",
   "metadata": {
    "papermill": {
     "duration": 0.019823,
     "end_time": "2025-01-16T16:37:56.930787",
     "exception": false,
     "start_time": "2025-01-16T16:37:56.910964",
     "status": "completed"
    },
    "tags": []
   },
   "source": [
    "# Data Cleaning."
   ]
  },
  {
   "cell_type": "code",
   "execution_count": 7,
   "id": "4a1be668",
   "metadata": {
    "execution": {
     "iopub.execute_input": "2025-01-16T16:37:56.973603Z",
     "iopub.status.busy": "2025-01-16T16:37:56.973225Z",
     "iopub.status.idle": "2025-01-16T16:37:56.996316Z",
     "shell.execute_reply": "2025-01-16T16:37:56.994914Z"
    },
    "papermill": {
     "duration": 0.046916,
     "end_time": "2025-01-16T16:37:56.998990",
     "exception": false,
     "start_time": "2025-01-16T16:37:56.952074",
     "status": "completed"
    },
    "tags": []
   },
   "outputs": [
    {
     "data": {
      "text/html": [
       "<div>\n",
       "<style scoped>\n",
       "    .dataframe tbody tr th:only-of-type {\n",
       "        vertical-align: middle;\n",
       "    }\n",
       "\n",
       "    .dataframe tbody tr th {\n",
       "        vertical-align: top;\n",
       "    }\n",
       "\n",
       "    .dataframe thead th {\n",
       "        text-align: right;\n",
       "    }\n",
       "</style>\n",
       "<table border=\"1\" class=\"dataframe\">\n",
       "  <thead>\n",
       "    <tr style=\"text-align: right;\">\n",
       "      <th></th>\n",
       "      <th>gender</th>\n",
       "      <th>SeniorCitizen</th>\n",
       "      <th>Partner</th>\n",
       "      <th>Dependents</th>\n",
       "      <th>tenure</th>\n",
       "      <th>PhoneService</th>\n",
       "      <th>MultipleLines</th>\n",
       "      <th>InternetService</th>\n",
       "      <th>OnlineSecurity</th>\n",
       "      <th>OnlineBackup</th>\n",
       "      <th>DeviceProtection</th>\n",
       "      <th>TechSupport</th>\n",
       "      <th>StreamingTV</th>\n",
       "      <th>StreamingMovies</th>\n",
       "      <th>Contract</th>\n",
       "      <th>PaperlessBilling</th>\n",
       "      <th>PaymentMethod</th>\n",
       "      <th>MonthlyCharges</th>\n",
       "      <th>TotalCharges</th>\n",
       "      <th>Churn</th>\n",
       "    </tr>\n",
       "  </thead>\n",
       "  <tbody>\n",
       "    <tr>\n",
       "      <th>0</th>\n",
       "      <td>Female</td>\n",
       "      <td>0</td>\n",
       "      <td>Yes</td>\n",
       "      <td>No</td>\n",
       "      <td>1</td>\n",
       "      <td>No</td>\n",
       "      <td>No phone service</td>\n",
       "      <td>DSL</td>\n",
       "      <td>No</td>\n",
       "      <td>Yes</td>\n",
       "      <td>No</td>\n",
       "      <td>No</td>\n",
       "      <td>No</td>\n",
       "      <td>No</td>\n",
       "      <td>Month-to-month</td>\n",
       "      <td>Yes</td>\n",
       "      <td>Electronic check</td>\n",
       "      <td>29.85</td>\n",
       "      <td>29.85</td>\n",
       "      <td>No</td>\n",
       "    </tr>\n",
       "    <tr>\n",
       "      <th>1</th>\n",
       "      <td>Male</td>\n",
       "      <td>0</td>\n",
       "      <td>No</td>\n",
       "      <td>No</td>\n",
       "      <td>34</td>\n",
       "      <td>Yes</td>\n",
       "      <td>No</td>\n",
       "      <td>DSL</td>\n",
       "      <td>Yes</td>\n",
       "      <td>No</td>\n",
       "      <td>Yes</td>\n",
       "      <td>No</td>\n",
       "      <td>No</td>\n",
       "      <td>No</td>\n",
       "      <td>One year</td>\n",
       "      <td>No</td>\n",
       "      <td>Mailed check</td>\n",
       "      <td>56.95</td>\n",
       "      <td>1889.5</td>\n",
       "      <td>No</td>\n",
       "    </tr>\n",
       "    <tr>\n",
       "      <th>2</th>\n",
       "      <td>Male</td>\n",
       "      <td>0</td>\n",
       "      <td>No</td>\n",
       "      <td>No</td>\n",
       "      <td>2</td>\n",
       "      <td>Yes</td>\n",
       "      <td>No</td>\n",
       "      <td>DSL</td>\n",
       "      <td>Yes</td>\n",
       "      <td>Yes</td>\n",
       "      <td>No</td>\n",
       "      <td>No</td>\n",
       "      <td>No</td>\n",
       "      <td>No</td>\n",
       "      <td>Month-to-month</td>\n",
       "      <td>Yes</td>\n",
       "      <td>Mailed check</td>\n",
       "      <td>53.85</td>\n",
       "      <td>108.15</td>\n",
       "      <td>Yes</td>\n",
       "    </tr>\n",
       "    <tr>\n",
       "      <th>3</th>\n",
       "      <td>Male</td>\n",
       "      <td>0</td>\n",
       "      <td>No</td>\n",
       "      <td>No</td>\n",
       "      <td>45</td>\n",
       "      <td>No</td>\n",
       "      <td>No phone service</td>\n",
       "      <td>DSL</td>\n",
       "      <td>Yes</td>\n",
       "      <td>No</td>\n",
       "      <td>Yes</td>\n",
       "      <td>Yes</td>\n",
       "      <td>No</td>\n",
       "      <td>No</td>\n",
       "      <td>One year</td>\n",
       "      <td>No</td>\n",
       "      <td>Bank transfer (automatic)</td>\n",
       "      <td>42.30</td>\n",
       "      <td>1840.75</td>\n",
       "      <td>No</td>\n",
       "    </tr>\n",
       "    <tr>\n",
       "      <th>4</th>\n",
       "      <td>Female</td>\n",
       "      <td>0</td>\n",
       "      <td>No</td>\n",
       "      <td>No</td>\n",
       "      <td>2</td>\n",
       "      <td>Yes</td>\n",
       "      <td>No</td>\n",
       "      <td>Fiber optic</td>\n",
       "      <td>No</td>\n",
       "      <td>No</td>\n",
       "      <td>No</td>\n",
       "      <td>No</td>\n",
       "      <td>No</td>\n",
       "      <td>No</td>\n",
       "      <td>Month-to-month</td>\n",
       "      <td>Yes</td>\n",
       "      <td>Electronic check</td>\n",
       "      <td>70.70</td>\n",
       "      <td>151.65</td>\n",
       "      <td>Yes</td>\n",
       "    </tr>\n",
       "  </tbody>\n",
       "</table>\n",
       "</div>"
      ],
      "text/plain": [
       "   gender  SeniorCitizen Partner Dependents  tenure PhoneService  \\\n",
       "0  Female              0     Yes         No       1           No   \n",
       "1    Male              0      No         No      34          Yes   \n",
       "2    Male              0      No         No       2          Yes   \n",
       "3    Male              0      No         No      45           No   \n",
       "4  Female              0      No         No       2          Yes   \n",
       "\n",
       "      MultipleLines InternetService OnlineSecurity OnlineBackup  \\\n",
       "0  No phone service             DSL             No          Yes   \n",
       "1                No             DSL            Yes           No   \n",
       "2                No             DSL            Yes          Yes   \n",
       "3  No phone service             DSL            Yes           No   \n",
       "4                No     Fiber optic             No           No   \n",
       "\n",
       "  DeviceProtection TechSupport StreamingTV StreamingMovies        Contract  \\\n",
       "0               No          No          No              No  Month-to-month   \n",
       "1              Yes          No          No              No        One year   \n",
       "2               No          No          No              No  Month-to-month   \n",
       "3              Yes         Yes          No              No        One year   \n",
       "4               No          No          No              No  Month-to-month   \n",
       "\n",
       "  PaperlessBilling              PaymentMethod  MonthlyCharges TotalCharges  \\\n",
       "0              Yes           Electronic check           29.85        29.85   \n",
       "1               No               Mailed check           56.95       1889.5   \n",
       "2              Yes               Mailed check           53.85       108.15   \n",
       "3               No  Bank transfer (automatic)           42.30      1840.75   \n",
       "4              Yes           Electronic check           70.70       151.65   \n",
       "\n",
       "  Churn  \n",
       "0    No  \n",
       "1    No  \n",
       "2   Yes  \n",
       "3    No  \n",
       "4   Yes  "
      ]
     },
     "execution_count": 7,
     "metadata": {},
     "output_type": "execute_result"
    }
   ],
   "source": [
    "df=df.drop(['customerID'],axis=1)\n",
    "df.head()"
   ]
  },
  {
   "cell_type": "markdown",
   "id": "8c511b8a",
   "metadata": {
    "papermill": {
     "duration": 0.022238,
     "end_time": "2025-01-16T16:37:57.044021",
     "exception": false,
     "start_time": "2025-01-16T16:37:57.021783",
     "status": "completed"
    },
    "tags": []
   },
   "source": [
    "# Data Manipulation."
   ]
  },
  {
   "cell_type": "markdown",
   "id": "435498be",
   "metadata": {
    "papermill": {
     "duration": 0.021498,
     "end_time": "2025-01-16T16:37:57.087508",
     "exception": false,
     "start_time": "2025-01-16T16:37:57.066010",
     "status": "completed"
    },
    "tags": []
   },
   "source": [
    "* **gender**"
   ]
  },
  {
   "cell_type": "code",
   "execution_count": 8,
   "id": "3e3a0897",
   "metadata": {
    "execution": {
     "iopub.execute_input": "2025-01-16T16:37:57.130434Z",
     "iopub.status.busy": "2025-01-16T16:37:57.130007Z",
     "iopub.status.idle": "2025-01-16T16:37:57.138772Z",
     "shell.execute_reply": "2025-01-16T16:37:57.137275Z"
    },
    "papermill": {
     "duration": 0.031995,
     "end_time": "2025-01-16T16:37:57.140723",
     "exception": false,
     "start_time": "2025-01-16T16:37:57.108728",
     "status": "completed"
    },
    "tags": []
   },
   "outputs": [
    {
     "data": {
      "text/plain": [
       "array(['Female', 'Male'], dtype=object)"
      ]
     },
     "execution_count": 8,
     "metadata": {},
     "output_type": "execute_result"
    }
   ],
   "source": [
    "df['gender'].unique()"
   ]
  },
  {
   "cell_type": "markdown",
   "id": "31e566c2",
   "metadata": {
    "papermill": {
     "duration": 0.029682,
     "end_time": "2025-01-16T16:37:57.197467",
     "exception": false,
     "start_time": "2025-01-16T16:37:57.167785",
     "status": "completed"
    },
    "tags": []
   },
   "source": [
    "> GENDER has definite values."
   ]
  },
  {
   "cell_type": "code",
   "execution_count": 9,
   "id": "2362e2fd",
   "metadata": {
    "execution": {
     "iopub.execute_input": "2025-01-16T16:37:57.249344Z",
     "iopub.status.busy": "2025-01-16T16:37:57.248835Z",
     "iopub.status.idle": "2025-01-16T16:37:57.267830Z",
     "shell.execute_reply": "2025-01-16T16:37:57.266643Z"
    },
    "papermill": {
     "duration": 0.044971,
     "end_time": "2025-01-16T16:37:57.269763",
     "exception": false,
     "start_time": "2025-01-16T16:37:57.224792",
     "status": "completed"
    },
    "tags": []
   },
   "outputs": [
    {
     "data": {
      "text/html": [
       "<div>\n",
       "<style scoped>\n",
       "    .dataframe tbody tr th:only-of-type {\n",
       "        vertical-align: middle;\n",
       "    }\n",
       "\n",
       "    .dataframe tbody tr th {\n",
       "        vertical-align: top;\n",
       "    }\n",
       "\n",
       "    .dataframe thead th {\n",
       "        text-align: right;\n",
       "    }\n",
       "</style>\n",
       "<table border=\"1\" class=\"dataframe\">\n",
       "  <thead>\n",
       "    <tr style=\"text-align: right;\">\n",
       "      <th></th>\n",
       "      <th>gender</th>\n",
       "      <th>SeniorCitizen</th>\n",
       "      <th>Partner</th>\n",
       "      <th>Dependents</th>\n",
       "      <th>tenure</th>\n",
       "      <th>PhoneService</th>\n",
       "      <th>MultipleLines</th>\n",
       "      <th>InternetService</th>\n",
       "      <th>OnlineSecurity</th>\n",
       "      <th>OnlineBackup</th>\n",
       "      <th>DeviceProtection</th>\n",
       "      <th>TechSupport</th>\n",
       "      <th>StreamingTV</th>\n",
       "      <th>StreamingMovies</th>\n",
       "      <th>Contract</th>\n",
       "      <th>PaperlessBilling</th>\n",
       "      <th>PaymentMethod</th>\n",
       "      <th>MonthlyCharges</th>\n",
       "      <th>TotalCharges</th>\n",
       "      <th>Churn</th>\n",
       "    </tr>\n",
       "  </thead>\n",
       "  <tbody>\n",
       "    <tr>\n",
       "      <th>0</th>\n",
       "      <td>Female</td>\n",
       "      <td>0</td>\n",
       "      <td>Yes</td>\n",
       "      <td>No</td>\n",
       "      <td>1</td>\n",
       "      <td>No</td>\n",
       "      <td>No phone service</td>\n",
       "      <td>DSL</td>\n",
       "      <td>No</td>\n",
       "      <td>Yes</td>\n",
       "      <td>No</td>\n",
       "      <td>No</td>\n",
       "      <td>No</td>\n",
       "      <td>No</td>\n",
       "      <td>Month-to-month</td>\n",
       "      <td>Yes</td>\n",
       "      <td>Electronic check</td>\n",
       "      <td>29.85</td>\n",
       "      <td>29.85</td>\n",
       "      <td>No</td>\n",
       "    </tr>\n",
       "    <tr>\n",
       "      <th>1</th>\n",
       "      <td>Male</td>\n",
       "      <td>0</td>\n",
       "      <td>No</td>\n",
       "      <td>No</td>\n",
       "      <td>34</td>\n",
       "      <td>Yes</td>\n",
       "      <td>No</td>\n",
       "      <td>DSL</td>\n",
       "      <td>Yes</td>\n",
       "      <td>No</td>\n",
       "      <td>Yes</td>\n",
       "      <td>No</td>\n",
       "      <td>No</td>\n",
       "      <td>No</td>\n",
       "      <td>One year</td>\n",
       "      <td>No</td>\n",
       "      <td>Mailed check</td>\n",
       "      <td>56.95</td>\n",
       "      <td>1889.5</td>\n",
       "      <td>No</td>\n",
       "    </tr>\n",
       "    <tr>\n",
       "      <th>2</th>\n",
       "      <td>Male</td>\n",
       "      <td>0</td>\n",
       "      <td>No</td>\n",
       "      <td>No</td>\n",
       "      <td>2</td>\n",
       "      <td>Yes</td>\n",
       "      <td>No</td>\n",
       "      <td>DSL</td>\n",
       "      <td>Yes</td>\n",
       "      <td>Yes</td>\n",
       "      <td>No</td>\n",
       "      <td>No</td>\n",
       "      <td>No</td>\n",
       "      <td>No</td>\n",
       "      <td>Month-to-month</td>\n",
       "      <td>Yes</td>\n",
       "      <td>Mailed check</td>\n",
       "      <td>53.85</td>\n",
       "      <td>108.15</td>\n",
       "      <td>Yes</td>\n",
       "    </tr>\n",
       "    <tr>\n",
       "      <th>3</th>\n",
       "      <td>Male</td>\n",
       "      <td>0</td>\n",
       "      <td>No</td>\n",
       "      <td>No</td>\n",
       "      <td>45</td>\n",
       "      <td>No</td>\n",
       "      <td>No phone service</td>\n",
       "      <td>DSL</td>\n",
       "      <td>Yes</td>\n",
       "      <td>No</td>\n",
       "      <td>Yes</td>\n",
       "      <td>Yes</td>\n",
       "      <td>No</td>\n",
       "      <td>No</td>\n",
       "      <td>One year</td>\n",
       "      <td>No</td>\n",
       "      <td>Bank transfer (automatic)</td>\n",
       "      <td>42.30</td>\n",
       "      <td>1840.75</td>\n",
       "      <td>No</td>\n",
       "    </tr>\n",
       "    <tr>\n",
       "      <th>4</th>\n",
       "      <td>Female</td>\n",
       "      <td>0</td>\n",
       "      <td>No</td>\n",
       "      <td>No</td>\n",
       "      <td>2</td>\n",
       "      <td>Yes</td>\n",
       "      <td>No</td>\n",
       "      <td>Fiber optic</td>\n",
       "      <td>No</td>\n",
       "      <td>No</td>\n",
       "      <td>No</td>\n",
       "      <td>No</td>\n",
       "      <td>No</td>\n",
       "      <td>No</td>\n",
       "      <td>Month-to-month</td>\n",
       "      <td>Yes</td>\n",
       "      <td>Electronic check</td>\n",
       "      <td>70.70</td>\n",
       "      <td>151.65</td>\n",
       "      <td>Yes</td>\n",
       "    </tr>\n",
       "  </tbody>\n",
       "</table>\n",
       "</div>"
      ],
      "text/plain": [
       "   gender  SeniorCitizen Partner Dependents  tenure PhoneService  \\\n",
       "0  Female              0     Yes         No       1           No   \n",
       "1    Male              0      No         No      34          Yes   \n",
       "2    Male              0      No         No       2          Yes   \n",
       "3    Male              0      No         No      45           No   \n",
       "4  Female              0      No         No       2          Yes   \n",
       "\n",
       "      MultipleLines InternetService OnlineSecurity OnlineBackup  \\\n",
       "0  No phone service             DSL             No          Yes   \n",
       "1                No             DSL            Yes           No   \n",
       "2                No             DSL            Yes          Yes   \n",
       "3  No phone service             DSL            Yes           No   \n",
       "4                No     Fiber optic             No           No   \n",
       "\n",
       "  DeviceProtection TechSupport StreamingTV StreamingMovies        Contract  \\\n",
       "0               No          No          No              No  Month-to-month   \n",
       "1              Yes          No          No              No        One year   \n",
       "2               No          No          No              No  Month-to-month   \n",
       "3              Yes         Yes          No              No        One year   \n",
       "4               No          No          No              No  Month-to-month   \n",
       "\n",
       "  PaperlessBilling              PaymentMethod  MonthlyCharges TotalCharges  \\\n",
       "0              Yes           Electronic check           29.85        29.85   \n",
       "1               No               Mailed check           56.95       1889.5   \n",
       "2              Yes               Mailed check           53.85       108.15   \n",
       "3               No  Bank transfer (automatic)           42.30      1840.75   \n",
       "4              Yes           Electronic check           70.70       151.65   \n",
       "\n",
       "  Churn  \n",
       "0    No  \n",
       "1    No  \n",
       "2   Yes  \n",
       "3    No  \n",
       "4   Yes  "
      ]
     },
     "execution_count": 9,
     "metadata": {},
     "output_type": "execute_result"
    }
   ],
   "source": [
    "df.head()"
   ]
  },
  {
   "cell_type": "markdown",
   "id": "89a5a1f8",
   "metadata": {
    "papermill": {
     "duration": 0.023793,
     "end_time": "2025-01-16T16:37:57.315519",
     "exception": false,
     "start_time": "2025-01-16T16:37:57.291726",
     "status": "completed"
    },
    "tags": []
   },
   "source": [
    " * **Senior Citizen**"
   ]
  },
  {
   "cell_type": "code",
   "execution_count": 10,
   "id": "b651747c",
   "metadata": {
    "execution": {
     "iopub.execute_input": "2025-01-16T16:37:57.370852Z",
     "iopub.status.busy": "2025-01-16T16:37:57.370330Z",
     "iopub.status.idle": "2025-01-16T16:37:57.399408Z",
     "shell.execute_reply": "2025-01-16T16:37:57.397588Z"
    },
    "papermill": {
     "duration": 0.063071,
     "end_time": "2025-01-16T16:37:57.401666",
     "exception": false,
     "start_time": "2025-01-16T16:37:57.338595",
     "status": "completed"
    },
    "tags": []
   },
   "outputs": [
    {
     "data": {
      "text/html": [
       "<div>\n",
       "<style scoped>\n",
       "    .dataframe tbody tr th:only-of-type {\n",
       "        vertical-align: middle;\n",
       "    }\n",
       "\n",
       "    .dataframe tbody tr th {\n",
       "        vertical-align: top;\n",
       "    }\n",
       "\n",
       "    .dataframe thead th {\n",
       "        text-align: right;\n",
       "    }\n",
       "</style>\n",
       "<table border=\"1\" class=\"dataframe\">\n",
       "  <thead>\n",
       "    <tr style=\"text-align: right;\">\n",
       "      <th></th>\n",
       "      <th>gender</th>\n",
       "      <th>SeniorCitizen</th>\n",
       "      <th>Partner</th>\n",
       "      <th>Dependents</th>\n",
       "      <th>tenure</th>\n",
       "      <th>PhoneService</th>\n",
       "      <th>MultipleLines</th>\n",
       "      <th>InternetService</th>\n",
       "      <th>OnlineSecurity</th>\n",
       "      <th>OnlineBackup</th>\n",
       "      <th>DeviceProtection</th>\n",
       "      <th>TechSupport</th>\n",
       "      <th>StreamingTV</th>\n",
       "      <th>StreamingMovies</th>\n",
       "      <th>Contract</th>\n",
       "      <th>PaperlessBilling</th>\n",
       "      <th>PaymentMethod</th>\n",
       "      <th>MonthlyCharges</th>\n",
       "      <th>TotalCharges</th>\n",
       "      <th>Churn</th>\n",
       "    </tr>\n",
       "  </thead>\n",
       "  <tbody>\n",
       "    <tr>\n",
       "      <th>0</th>\n",
       "      <td>Female</td>\n",
       "      <td>No</td>\n",
       "      <td>Yes</td>\n",
       "      <td>No</td>\n",
       "      <td>1</td>\n",
       "      <td>No</td>\n",
       "      <td>No phone service</td>\n",
       "      <td>DSL</td>\n",
       "      <td>No</td>\n",
       "      <td>Yes</td>\n",
       "      <td>No</td>\n",
       "      <td>No</td>\n",
       "      <td>No</td>\n",
       "      <td>No</td>\n",
       "      <td>Month-to-month</td>\n",
       "      <td>Yes</td>\n",
       "      <td>Electronic check</td>\n",
       "      <td>29.85</td>\n",
       "      <td>29.85</td>\n",
       "      <td>No</td>\n",
       "    </tr>\n",
       "    <tr>\n",
       "      <th>1</th>\n",
       "      <td>Male</td>\n",
       "      <td>No</td>\n",
       "      <td>No</td>\n",
       "      <td>No</td>\n",
       "      <td>34</td>\n",
       "      <td>Yes</td>\n",
       "      <td>No</td>\n",
       "      <td>DSL</td>\n",
       "      <td>Yes</td>\n",
       "      <td>No</td>\n",
       "      <td>Yes</td>\n",
       "      <td>No</td>\n",
       "      <td>No</td>\n",
       "      <td>No</td>\n",
       "      <td>One year</td>\n",
       "      <td>No</td>\n",
       "      <td>Mailed check</td>\n",
       "      <td>56.95</td>\n",
       "      <td>1889.5</td>\n",
       "      <td>No</td>\n",
       "    </tr>\n",
       "    <tr>\n",
       "      <th>2</th>\n",
       "      <td>Male</td>\n",
       "      <td>No</td>\n",
       "      <td>No</td>\n",
       "      <td>No</td>\n",
       "      <td>2</td>\n",
       "      <td>Yes</td>\n",
       "      <td>No</td>\n",
       "      <td>DSL</td>\n",
       "      <td>Yes</td>\n",
       "      <td>Yes</td>\n",
       "      <td>No</td>\n",
       "      <td>No</td>\n",
       "      <td>No</td>\n",
       "      <td>No</td>\n",
       "      <td>Month-to-month</td>\n",
       "      <td>Yes</td>\n",
       "      <td>Mailed check</td>\n",
       "      <td>53.85</td>\n",
       "      <td>108.15</td>\n",
       "      <td>Yes</td>\n",
       "    </tr>\n",
       "    <tr>\n",
       "      <th>3</th>\n",
       "      <td>Male</td>\n",
       "      <td>No</td>\n",
       "      <td>No</td>\n",
       "      <td>No</td>\n",
       "      <td>45</td>\n",
       "      <td>No</td>\n",
       "      <td>No phone service</td>\n",
       "      <td>DSL</td>\n",
       "      <td>Yes</td>\n",
       "      <td>No</td>\n",
       "      <td>Yes</td>\n",
       "      <td>Yes</td>\n",
       "      <td>No</td>\n",
       "      <td>No</td>\n",
       "      <td>One year</td>\n",
       "      <td>No</td>\n",
       "      <td>Bank transfer (automatic)</td>\n",
       "      <td>42.30</td>\n",
       "      <td>1840.75</td>\n",
       "      <td>No</td>\n",
       "    </tr>\n",
       "    <tr>\n",
       "      <th>4</th>\n",
       "      <td>Female</td>\n",
       "      <td>No</td>\n",
       "      <td>No</td>\n",
       "      <td>No</td>\n",
       "      <td>2</td>\n",
       "      <td>Yes</td>\n",
       "      <td>No</td>\n",
       "      <td>Fiber optic</td>\n",
       "      <td>No</td>\n",
       "      <td>No</td>\n",
       "      <td>No</td>\n",
       "      <td>No</td>\n",
       "      <td>No</td>\n",
       "      <td>No</td>\n",
       "      <td>Month-to-month</td>\n",
       "      <td>Yes</td>\n",
       "      <td>Electronic check</td>\n",
       "      <td>70.70</td>\n",
       "      <td>151.65</td>\n",
       "      <td>Yes</td>\n",
       "    </tr>\n",
       "  </tbody>\n",
       "</table>\n",
       "</div>"
      ],
      "text/plain": [
       "   gender SeniorCitizen Partner Dependents  tenure PhoneService  \\\n",
       "0  Female            No     Yes         No       1           No   \n",
       "1    Male            No      No         No      34          Yes   \n",
       "2    Male            No      No         No       2          Yes   \n",
       "3    Male            No      No         No      45           No   \n",
       "4  Female            No      No         No       2          Yes   \n",
       "\n",
       "      MultipleLines InternetService OnlineSecurity OnlineBackup  \\\n",
       "0  No phone service             DSL             No          Yes   \n",
       "1                No             DSL            Yes           No   \n",
       "2                No             DSL            Yes          Yes   \n",
       "3  No phone service             DSL            Yes           No   \n",
       "4                No     Fiber optic             No           No   \n",
       "\n",
       "  DeviceProtection TechSupport StreamingTV StreamingMovies        Contract  \\\n",
       "0               No          No          No              No  Month-to-month   \n",
       "1              Yes          No          No              No        One year   \n",
       "2               No          No          No              No  Month-to-month   \n",
       "3              Yes         Yes          No              No        One year   \n",
       "4               No          No          No              No  Month-to-month   \n",
       "\n",
       "  PaperlessBilling              PaymentMethod  MonthlyCharges TotalCharges  \\\n",
       "0              Yes           Electronic check           29.85        29.85   \n",
       "1               No               Mailed check           56.95       1889.5   \n",
       "2              Yes               Mailed check           53.85       108.15   \n",
       "3               No  Bank transfer (automatic)           42.30      1840.75   \n",
       "4              Yes           Electronic check           70.70       151.65   \n",
       "\n",
       "  Churn  \n",
       "0    No  \n",
       "1    No  \n",
       "2   Yes  \n",
       "3    No  \n",
       "4   Yes  "
      ]
     },
     "execution_count": 10,
     "metadata": {},
     "output_type": "execute_result"
    }
   ],
   "source": [
    "df['SeniorCitizen']=df['SeniorCitizen'].map({0:'No',1:'Yes'})\n",
    "df.head()"
   ]
  },
  {
   "cell_type": "code",
   "execution_count": 11,
   "id": "a4ca02c9",
   "metadata": {
    "execution": {
     "iopub.execute_input": "2025-01-16T16:37:57.444890Z",
     "iopub.status.busy": "2025-01-16T16:37:57.444491Z",
     "iopub.status.idle": "2025-01-16T16:37:57.451313Z",
     "shell.execute_reply": "2025-01-16T16:37:57.450258Z"
    },
    "papermill": {
     "duration": 0.030401,
     "end_time": "2025-01-16T16:37:57.453225",
     "exception": false,
     "start_time": "2025-01-16T16:37:57.422824",
     "status": "completed"
    },
    "tags": []
   },
   "outputs": [
    {
     "data": {
      "text/plain": [
       "array(['No', 'Yes'], dtype=object)"
      ]
     },
     "execution_count": 11,
     "metadata": {},
     "output_type": "execute_result"
    }
   ],
   "source": [
    "df['SeniorCitizen'].unique()"
   ]
  },
  {
   "cell_type": "code",
   "execution_count": 12,
   "id": "5fb2c7dc",
   "metadata": {
    "execution": {
     "iopub.execute_input": "2025-01-16T16:37:57.498058Z",
     "iopub.status.busy": "2025-01-16T16:37:57.497634Z",
     "iopub.status.idle": "2025-01-16T16:37:57.504689Z",
     "shell.execute_reply": "2025-01-16T16:37:57.503549Z"
    },
    "papermill": {
     "duration": 0.031529,
     "end_time": "2025-01-16T16:37:57.506559",
     "exception": false,
     "start_time": "2025-01-16T16:37:57.475030",
     "status": "completed"
    },
    "tags": []
   },
   "outputs": [
    {
     "data": {
      "text/plain": [
       "0"
      ]
     },
     "execution_count": 12,
     "metadata": {},
     "output_type": "execute_result"
    }
   ],
   "source": [
    "df['SeniorCitizen'].isnull().sum()"
   ]
  },
  {
   "cell_type": "code",
   "execution_count": 13,
   "id": "819f5cec",
   "metadata": {
    "execution": {
     "iopub.execute_input": "2025-01-16T16:37:57.550366Z",
     "iopub.status.busy": "2025-01-16T16:37:57.549879Z",
     "iopub.status.idle": "2025-01-16T16:37:57.568859Z",
     "shell.execute_reply": "2025-01-16T16:37:57.567629Z"
    },
    "papermill": {
     "duration": 0.043497,
     "end_time": "2025-01-16T16:37:57.571226",
     "exception": false,
     "start_time": "2025-01-16T16:37:57.527729",
     "status": "completed"
    },
    "tags": []
   },
   "outputs": [
    {
     "data": {
      "text/html": [
       "<div>\n",
       "<style scoped>\n",
       "    .dataframe tbody tr th:only-of-type {\n",
       "        vertical-align: middle;\n",
       "    }\n",
       "\n",
       "    .dataframe tbody tr th {\n",
       "        vertical-align: top;\n",
       "    }\n",
       "\n",
       "    .dataframe thead th {\n",
       "        text-align: right;\n",
       "    }\n",
       "</style>\n",
       "<table border=\"1\" class=\"dataframe\">\n",
       "  <thead>\n",
       "    <tr style=\"text-align: right;\">\n",
       "      <th></th>\n",
       "      <th>gender</th>\n",
       "      <th>SeniorCitizen</th>\n",
       "      <th>Partner</th>\n",
       "      <th>Dependents</th>\n",
       "      <th>tenure</th>\n",
       "      <th>PhoneService</th>\n",
       "      <th>MultipleLines</th>\n",
       "      <th>InternetService</th>\n",
       "      <th>OnlineSecurity</th>\n",
       "      <th>OnlineBackup</th>\n",
       "      <th>DeviceProtection</th>\n",
       "      <th>TechSupport</th>\n",
       "      <th>StreamingTV</th>\n",
       "      <th>StreamingMovies</th>\n",
       "      <th>Contract</th>\n",
       "      <th>PaperlessBilling</th>\n",
       "      <th>PaymentMethod</th>\n",
       "      <th>MonthlyCharges</th>\n",
       "      <th>TotalCharges</th>\n",
       "      <th>Churn</th>\n",
       "    </tr>\n",
       "  </thead>\n",
       "  <tbody>\n",
       "    <tr>\n",
       "      <th>0</th>\n",
       "      <td>Female</td>\n",
       "      <td>No</td>\n",
       "      <td>Yes</td>\n",
       "      <td>No</td>\n",
       "      <td>1</td>\n",
       "      <td>No</td>\n",
       "      <td>No phone service</td>\n",
       "      <td>DSL</td>\n",
       "      <td>No</td>\n",
       "      <td>Yes</td>\n",
       "      <td>No</td>\n",
       "      <td>No</td>\n",
       "      <td>No</td>\n",
       "      <td>No</td>\n",
       "      <td>Month-to-month</td>\n",
       "      <td>Yes</td>\n",
       "      <td>Electronic check</td>\n",
       "      <td>29.85</td>\n",
       "      <td>29.85</td>\n",
       "      <td>No</td>\n",
       "    </tr>\n",
       "    <tr>\n",
       "      <th>1</th>\n",
       "      <td>Male</td>\n",
       "      <td>No</td>\n",
       "      <td>No</td>\n",
       "      <td>No</td>\n",
       "      <td>34</td>\n",
       "      <td>Yes</td>\n",
       "      <td>No</td>\n",
       "      <td>DSL</td>\n",
       "      <td>Yes</td>\n",
       "      <td>No</td>\n",
       "      <td>Yes</td>\n",
       "      <td>No</td>\n",
       "      <td>No</td>\n",
       "      <td>No</td>\n",
       "      <td>One year</td>\n",
       "      <td>No</td>\n",
       "      <td>Mailed check</td>\n",
       "      <td>56.95</td>\n",
       "      <td>1889.5</td>\n",
       "      <td>No</td>\n",
       "    </tr>\n",
       "    <tr>\n",
       "      <th>2</th>\n",
       "      <td>Male</td>\n",
       "      <td>No</td>\n",
       "      <td>No</td>\n",
       "      <td>No</td>\n",
       "      <td>2</td>\n",
       "      <td>Yes</td>\n",
       "      <td>No</td>\n",
       "      <td>DSL</td>\n",
       "      <td>Yes</td>\n",
       "      <td>Yes</td>\n",
       "      <td>No</td>\n",
       "      <td>No</td>\n",
       "      <td>No</td>\n",
       "      <td>No</td>\n",
       "      <td>Month-to-month</td>\n",
       "      <td>Yes</td>\n",
       "      <td>Mailed check</td>\n",
       "      <td>53.85</td>\n",
       "      <td>108.15</td>\n",
       "      <td>Yes</td>\n",
       "    </tr>\n",
       "    <tr>\n",
       "      <th>3</th>\n",
       "      <td>Male</td>\n",
       "      <td>No</td>\n",
       "      <td>No</td>\n",
       "      <td>No</td>\n",
       "      <td>45</td>\n",
       "      <td>No</td>\n",
       "      <td>No phone service</td>\n",
       "      <td>DSL</td>\n",
       "      <td>Yes</td>\n",
       "      <td>No</td>\n",
       "      <td>Yes</td>\n",
       "      <td>Yes</td>\n",
       "      <td>No</td>\n",
       "      <td>No</td>\n",
       "      <td>One year</td>\n",
       "      <td>No</td>\n",
       "      <td>Bank transfer (automatic)</td>\n",
       "      <td>42.30</td>\n",
       "      <td>1840.75</td>\n",
       "      <td>No</td>\n",
       "    </tr>\n",
       "    <tr>\n",
       "      <th>4</th>\n",
       "      <td>Female</td>\n",
       "      <td>No</td>\n",
       "      <td>No</td>\n",
       "      <td>No</td>\n",
       "      <td>2</td>\n",
       "      <td>Yes</td>\n",
       "      <td>No</td>\n",
       "      <td>Fiber optic</td>\n",
       "      <td>No</td>\n",
       "      <td>No</td>\n",
       "      <td>No</td>\n",
       "      <td>No</td>\n",
       "      <td>No</td>\n",
       "      <td>No</td>\n",
       "      <td>Month-to-month</td>\n",
       "      <td>Yes</td>\n",
       "      <td>Electronic check</td>\n",
       "      <td>70.70</td>\n",
       "      <td>151.65</td>\n",
       "      <td>Yes</td>\n",
       "    </tr>\n",
       "  </tbody>\n",
       "</table>\n",
       "</div>"
      ],
      "text/plain": [
       "   gender SeniorCitizen Partner Dependents  tenure PhoneService  \\\n",
       "0  Female            No     Yes         No       1           No   \n",
       "1    Male            No      No         No      34          Yes   \n",
       "2    Male            No      No         No       2          Yes   \n",
       "3    Male            No      No         No      45           No   \n",
       "4  Female            No      No         No       2          Yes   \n",
       "\n",
       "      MultipleLines InternetService OnlineSecurity OnlineBackup  \\\n",
       "0  No phone service             DSL             No          Yes   \n",
       "1                No             DSL            Yes           No   \n",
       "2                No             DSL            Yes          Yes   \n",
       "3  No phone service             DSL            Yes           No   \n",
       "4                No     Fiber optic             No           No   \n",
       "\n",
       "  DeviceProtection TechSupport StreamingTV StreamingMovies        Contract  \\\n",
       "0               No          No          No              No  Month-to-month   \n",
       "1              Yes          No          No              No        One year   \n",
       "2               No          No          No              No  Month-to-month   \n",
       "3              Yes         Yes          No              No        One year   \n",
       "4               No          No          No              No  Month-to-month   \n",
       "\n",
       "  PaperlessBilling              PaymentMethod  MonthlyCharges TotalCharges  \\\n",
       "0              Yes           Electronic check           29.85        29.85   \n",
       "1               No               Mailed check           56.95       1889.5   \n",
       "2              Yes               Mailed check           53.85       108.15   \n",
       "3               No  Bank transfer (automatic)           42.30      1840.75   \n",
       "4              Yes           Electronic check           70.70       151.65   \n",
       "\n",
       "  Churn  \n",
       "0    No  \n",
       "1    No  \n",
       "2   Yes  \n",
       "3    No  \n",
       "4   Yes  "
      ]
     },
     "execution_count": 13,
     "metadata": {},
     "output_type": "execute_result"
    }
   ],
   "source": [
    "df.head()"
   ]
  },
  {
   "cell_type": "markdown",
   "id": "756e6f6a",
   "metadata": {
    "papermill": {
     "duration": 0.030394,
     "end_time": "2025-01-16T16:37:57.631884",
     "exception": false,
     "start_time": "2025-01-16T16:37:57.601490",
     "status": "completed"
    },
    "tags": []
   },
   "source": [
    "* **Partner**"
   ]
  },
  {
   "cell_type": "code",
   "execution_count": 14,
   "id": "6255c524",
   "metadata": {
    "execution": {
     "iopub.execute_input": "2025-01-16T16:37:57.680271Z",
     "iopub.status.busy": "2025-01-16T16:37:57.679851Z",
     "iopub.status.idle": "2025-01-16T16:37:57.688861Z",
     "shell.execute_reply": "2025-01-16T16:37:57.687237Z"
    },
    "papermill": {
     "duration": 0.036018,
     "end_time": "2025-01-16T16:37:57.691795",
     "exception": false,
     "start_time": "2025-01-16T16:37:57.655777",
     "status": "completed"
    },
    "tags": []
   },
   "outputs": [
    {
     "data": {
      "text/plain": [
       "0"
      ]
     },
     "execution_count": 14,
     "metadata": {},
     "output_type": "execute_result"
    }
   ],
   "source": [
    "df['Partner'].isnull().sum()"
   ]
  },
  {
   "cell_type": "code",
   "execution_count": 15,
   "id": "006f7c82",
   "metadata": {
    "execution": {
     "iopub.execute_input": "2025-01-16T16:37:57.740876Z",
     "iopub.status.busy": "2025-01-16T16:37:57.740486Z",
     "iopub.status.idle": "2025-01-16T16:37:57.749387Z",
     "shell.execute_reply": "2025-01-16T16:37:57.747873Z"
    },
    "papermill": {
     "duration": 0.035916,
     "end_time": "2025-01-16T16:37:57.751532",
     "exception": false,
     "start_time": "2025-01-16T16:37:57.715616",
     "status": "completed"
    },
    "tags": []
   },
   "outputs": [
    {
     "data": {
      "text/plain": [
       "array(['Yes', 'No'], dtype=object)"
      ]
     },
     "execution_count": 15,
     "metadata": {},
     "output_type": "execute_result"
    }
   ],
   "source": [
    "df['Partner'].unique()"
   ]
  },
  {
   "cell_type": "code",
   "execution_count": 16,
   "id": "893e3007",
   "metadata": {
    "execution": {
     "iopub.execute_input": "2025-01-16T16:37:57.797557Z",
     "iopub.status.busy": "2025-01-16T16:37:57.797191Z",
     "iopub.status.idle": "2025-01-16T16:37:57.817009Z",
     "shell.execute_reply": "2025-01-16T16:37:57.815663Z"
    },
    "papermill": {
     "duration": 0.045881,
     "end_time": "2025-01-16T16:37:57.819021",
     "exception": false,
     "start_time": "2025-01-16T16:37:57.773140",
     "status": "completed"
    },
    "tags": []
   },
   "outputs": [
    {
     "data": {
      "text/html": [
       "<div>\n",
       "<style scoped>\n",
       "    .dataframe tbody tr th:only-of-type {\n",
       "        vertical-align: middle;\n",
       "    }\n",
       "\n",
       "    .dataframe tbody tr th {\n",
       "        vertical-align: top;\n",
       "    }\n",
       "\n",
       "    .dataframe thead th {\n",
       "        text-align: right;\n",
       "    }\n",
       "</style>\n",
       "<table border=\"1\" class=\"dataframe\">\n",
       "  <thead>\n",
       "    <tr style=\"text-align: right;\">\n",
       "      <th></th>\n",
       "      <th>gender</th>\n",
       "      <th>SeniorCitizen</th>\n",
       "      <th>Partner</th>\n",
       "      <th>Dependents</th>\n",
       "      <th>tenure</th>\n",
       "      <th>PhoneService</th>\n",
       "      <th>MultipleLines</th>\n",
       "      <th>InternetService</th>\n",
       "      <th>OnlineSecurity</th>\n",
       "      <th>OnlineBackup</th>\n",
       "      <th>DeviceProtection</th>\n",
       "      <th>TechSupport</th>\n",
       "      <th>StreamingTV</th>\n",
       "      <th>StreamingMovies</th>\n",
       "      <th>Contract</th>\n",
       "      <th>PaperlessBilling</th>\n",
       "      <th>PaymentMethod</th>\n",
       "      <th>MonthlyCharges</th>\n",
       "      <th>TotalCharges</th>\n",
       "      <th>Churn</th>\n",
       "    </tr>\n",
       "  </thead>\n",
       "  <tbody>\n",
       "    <tr>\n",
       "      <th>0</th>\n",
       "      <td>Female</td>\n",
       "      <td>No</td>\n",
       "      <td>Yes</td>\n",
       "      <td>No</td>\n",
       "      <td>1</td>\n",
       "      <td>No</td>\n",
       "      <td>No phone service</td>\n",
       "      <td>DSL</td>\n",
       "      <td>No</td>\n",
       "      <td>Yes</td>\n",
       "      <td>No</td>\n",
       "      <td>No</td>\n",
       "      <td>No</td>\n",
       "      <td>No</td>\n",
       "      <td>Month-to-month</td>\n",
       "      <td>Yes</td>\n",
       "      <td>Electronic check</td>\n",
       "      <td>29.85</td>\n",
       "      <td>29.85</td>\n",
       "      <td>No</td>\n",
       "    </tr>\n",
       "    <tr>\n",
       "      <th>1</th>\n",
       "      <td>Male</td>\n",
       "      <td>No</td>\n",
       "      <td>No</td>\n",
       "      <td>No</td>\n",
       "      <td>34</td>\n",
       "      <td>Yes</td>\n",
       "      <td>No</td>\n",
       "      <td>DSL</td>\n",
       "      <td>Yes</td>\n",
       "      <td>No</td>\n",
       "      <td>Yes</td>\n",
       "      <td>No</td>\n",
       "      <td>No</td>\n",
       "      <td>No</td>\n",
       "      <td>One year</td>\n",
       "      <td>No</td>\n",
       "      <td>Mailed check</td>\n",
       "      <td>56.95</td>\n",
       "      <td>1889.5</td>\n",
       "      <td>No</td>\n",
       "    </tr>\n",
       "    <tr>\n",
       "      <th>2</th>\n",
       "      <td>Male</td>\n",
       "      <td>No</td>\n",
       "      <td>No</td>\n",
       "      <td>No</td>\n",
       "      <td>2</td>\n",
       "      <td>Yes</td>\n",
       "      <td>No</td>\n",
       "      <td>DSL</td>\n",
       "      <td>Yes</td>\n",
       "      <td>Yes</td>\n",
       "      <td>No</td>\n",
       "      <td>No</td>\n",
       "      <td>No</td>\n",
       "      <td>No</td>\n",
       "      <td>Month-to-month</td>\n",
       "      <td>Yes</td>\n",
       "      <td>Mailed check</td>\n",
       "      <td>53.85</td>\n",
       "      <td>108.15</td>\n",
       "      <td>Yes</td>\n",
       "    </tr>\n",
       "    <tr>\n",
       "      <th>3</th>\n",
       "      <td>Male</td>\n",
       "      <td>No</td>\n",
       "      <td>No</td>\n",
       "      <td>No</td>\n",
       "      <td>45</td>\n",
       "      <td>No</td>\n",
       "      <td>No phone service</td>\n",
       "      <td>DSL</td>\n",
       "      <td>Yes</td>\n",
       "      <td>No</td>\n",
       "      <td>Yes</td>\n",
       "      <td>Yes</td>\n",
       "      <td>No</td>\n",
       "      <td>No</td>\n",
       "      <td>One year</td>\n",
       "      <td>No</td>\n",
       "      <td>Bank transfer (automatic)</td>\n",
       "      <td>42.30</td>\n",
       "      <td>1840.75</td>\n",
       "      <td>No</td>\n",
       "    </tr>\n",
       "    <tr>\n",
       "      <th>4</th>\n",
       "      <td>Female</td>\n",
       "      <td>No</td>\n",
       "      <td>No</td>\n",
       "      <td>No</td>\n",
       "      <td>2</td>\n",
       "      <td>Yes</td>\n",
       "      <td>No</td>\n",
       "      <td>Fiber optic</td>\n",
       "      <td>No</td>\n",
       "      <td>No</td>\n",
       "      <td>No</td>\n",
       "      <td>No</td>\n",
       "      <td>No</td>\n",
       "      <td>No</td>\n",
       "      <td>Month-to-month</td>\n",
       "      <td>Yes</td>\n",
       "      <td>Electronic check</td>\n",
       "      <td>70.70</td>\n",
       "      <td>151.65</td>\n",
       "      <td>Yes</td>\n",
       "    </tr>\n",
       "  </tbody>\n",
       "</table>\n",
       "</div>"
      ],
      "text/plain": [
       "   gender SeniorCitizen Partner Dependents  tenure PhoneService  \\\n",
       "0  Female            No     Yes         No       1           No   \n",
       "1    Male            No      No         No      34          Yes   \n",
       "2    Male            No      No         No       2          Yes   \n",
       "3    Male            No      No         No      45           No   \n",
       "4  Female            No      No         No       2          Yes   \n",
       "\n",
       "      MultipleLines InternetService OnlineSecurity OnlineBackup  \\\n",
       "0  No phone service             DSL             No          Yes   \n",
       "1                No             DSL            Yes           No   \n",
       "2                No             DSL            Yes          Yes   \n",
       "3  No phone service             DSL            Yes           No   \n",
       "4                No     Fiber optic             No           No   \n",
       "\n",
       "  DeviceProtection TechSupport StreamingTV StreamingMovies        Contract  \\\n",
       "0               No          No          No              No  Month-to-month   \n",
       "1              Yes          No          No              No        One year   \n",
       "2               No          No          No              No  Month-to-month   \n",
       "3              Yes         Yes          No              No        One year   \n",
       "4               No          No          No              No  Month-to-month   \n",
       "\n",
       "  PaperlessBilling              PaymentMethod  MonthlyCharges TotalCharges  \\\n",
       "0              Yes           Electronic check           29.85        29.85   \n",
       "1               No               Mailed check           56.95       1889.5   \n",
       "2              Yes               Mailed check           53.85       108.15   \n",
       "3               No  Bank transfer (automatic)           42.30      1840.75   \n",
       "4              Yes           Electronic check           70.70       151.65   \n",
       "\n",
       "  Churn  \n",
       "0    No  \n",
       "1    No  \n",
       "2   Yes  \n",
       "3    No  \n",
       "4   Yes  "
      ]
     },
     "execution_count": 16,
     "metadata": {},
     "output_type": "execute_result"
    }
   ],
   "source": [
    "df.head()"
   ]
  },
  {
   "cell_type": "markdown",
   "id": "256b9980",
   "metadata": {
    "papermill": {
     "duration": 0.021779,
     "end_time": "2025-01-16T16:37:57.863621",
     "exception": false,
     "start_time": "2025-01-16T16:37:57.841842",
     "status": "completed"
    },
    "tags": []
   },
   "source": [
    "* **Dependents**"
   ]
  },
  {
   "cell_type": "code",
   "execution_count": 17,
   "id": "96fb474c",
   "metadata": {
    "execution": {
     "iopub.execute_input": "2025-01-16T16:37:57.908526Z",
     "iopub.status.busy": "2025-01-16T16:37:57.908157Z",
     "iopub.status.idle": "2025-01-16T16:37:57.915377Z",
     "shell.execute_reply": "2025-01-16T16:37:57.914162Z"
    },
    "papermill": {
     "duration": 0.03169,
     "end_time": "2025-01-16T16:37:57.917142",
     "exception": false,
     "start_time": "2025-01-16T16:37:57.885452",
     "status": "completed"
    },
    "tags": []
   },
   "outputs": [
    {
     "data": {
      "text/plain": [
       "array(['No', 'Yes'], dtype=object)"
      ]
     },
     "execution_count": 17,
     "metadata": {},
     "output_type": "execute_result"
    }
   ],
   "source": [
    "df['Dependents'].unique()"
   ]
  },
  {
   "cell_type": "code",
   "execution_count": 18,
   "id": "58685a76",
   "metadata": {
    "execution": {
     "iopub.execute_input": "2025-01-16T16:37:57.962301Z",
     "iopub.status.busy": "2025-01-16T16:37:57.961907Z",
     "iopub.status.idle": "2025-01-16T16:37:57.981966Z",
     "shell.execute_reply": "2025-01-16T16:37:57.980552Z"
    },
    "papermill": {
     "duration": 0.045413,
     "end_time": "2025-01-16T16:37:57.984153",
     "exception": false,
     "start_time": "2025-01-16T16:37:57.938740",
     "status": "completed"
    },
    "tags": []
   },
   "outputs": [
    {
     "data": {
      "text/html": [
       "<div>\n",
       "<style scoped>\n",
       "    .dataframe tbody tr th:only-of-type {\n",
       "        vertical-align: middle;\n",
       "    }\n",
       "\n",
       "    .dataframe tbody tr th {\n",
       "        vertical-align: top;\n",
       "    }\n",
       "\n",
       "    .dataframe thead th {\n",
       "        text-align: right;\n",
       "    }\n",
       "</style>\n",
       "<table border=\"1\" class=\"dataframe\">\n",
       "  <thead>\n",
       "    <tr style=\"text-align: right;\">\n",
       "      <th></th>\n",
       "      <th>gender</th>\n",
       "      <th>SeniorCitizen</th>\n",
       "      <th>Partner</th>\n",
       "      <th>Dependents</th>\n",
       "      <th>tenure</th>\n",
       "      <th>PhoneService</th>\n",
       "      <th>MultipleLines</th>\n",
       "      <th>InternetService</th>\n",
       "      <th>OnlineSecurity</th>\n",
       "      <th>OnlineBackup</th>\n",
       "      <th>DeviceProtection</th>\n",
       "      <th>TechSupport</th>\n",
       "      <th>StreamingTV</th>\n",
       "      <th>StreamingMovies</th>\n",
       "      <th>Contract</th>\n",
       "      <th>PaperlessBilling</th>\n",
       "      <th>PaymentMethod</th>\n",
       "      <th>MonthlyCharges</th>\n",
       "      <th>TotalCharges</th>\n",
       "      <th>Churn</th>\n",
       "    </tr>\n",
       "  </thead>\n",
       "  <tbody>\n",
       "    <tr>\n",
       "      <th>0</th>\n",
       "      <td>Female</td>\n",
       "      <td>No</td>\n",
       "      <td>Yes</td>\n",
       "      <td>No</td>\n",
       "      <td>1</td>\n",
       "      <td>No</td>\n",
       "      <td>No phone service</td>\n",
       "      <td>DSL</td>\n",
       "      <td>No</td>\n",
       "      <td>Yes</td>\n",
       "      <td>No</td>\n",
       "      <td>No</td>\n",
       "      <td>No</td>\n",
       "      <td>No</td>\n",
       "      <td>Month-to-month</td>\n",
       "      <td>Yes</td>\n",
       "      <td>Electronic check</td>\n",
       "      <td>29.85</td>\n",
       "      <td>29.85</td>\n",
       "      <td>No</td>\n",
       "    </tr>\n",
       "    <tr>\n",
       "      <th>1</th>\n",
       "      <td>Male</td>\n",
       "      <td>No</td>\n",
       "      <td>No</td>\n",
       "      <td>No</td>\n",
       "      <td>34</td>\n",
       "      <td>Yes</td>\n",
       "      <td>No</td>\n",
       "      <td>DSL</td>\n",
       "      <td>Yes</td>\n",
       "      <td>No</td>\n",
       "      <td>Yes</td>\n",
       "      <td>No</td>\n",
       "      <td>No</td>\n",
       "      <td>No</td>\n",
       "      <td>One year</td>\n",
       "      <td>No</td>\n",
       "      <td>Mailed check</td>\n",
       "      <td>56.95</td>\n",
       "      <td>1889.5</td>\n",
       "      <td>No</td>\n",
       "    </tr>\n",
       "    <tr>\n",
       "      <th>2</th>\n",
       "      <td>Male</td>\n",
       "      <td>No</td>\n",
       "      <td>No</td>\n",
       "      <td>No</td>\n",
       "      <td>2</td>\n",
       "      <td>Yes</td>\n",
       "      <td>No</td>\n",
       "      <td>DSL</td>\n",
       "      <td>Yes</td>\n",
       "      <td>Yes</td>\n",
       "      <td>No</td>\n",
       "      <td>No</td>\n",
       "      <td>No</td>\n",
       "      <td>No</td>\n",
       "      <td>Month-to-month</td>\n",
       "      <td>Yes</td>\n",
       "      <td>Mailed check</td>\n",
       "      <td>53.85</td>\n",
       "      <td>108.15</td>\n",
       "      <td>Yes</td>\n",
       "    </tr>\n",
       "    <tr>\n",
       "      <th>3</th>\n",
       "      <td>Male</td>\n",
       "      <td>No</td>\n",
       "      <td>No</td>\n",
       "      <td>No</td>\n",
       "      <td>45</td>\n",
       "      <td>No</td>\n",
       "      <td>No phone service</td>\n",
       "      <td>DSL</td>\n",
       "      <td>Yes</td>\n",
       "      <td>No</td>\n",
       "      <td>Yes</td>\n",
       "      <td>Yes</td>\n",
       "      <td>No</td>\n",
       "      <td>No</td>\n",
       "      <td>One year</td>\n",
       "      <td>No</td>\n",
       "      <td>Bank transfer (automatic)</td>\n",
       "      <td>42.30</td>\n",
       "      <td>1840.75</td>\n",
       "      <td>No</td>\n",
       "    </tr>\n",
       "    <tr>\n",
       "      <th>4</th>\n",
       "      <td>Female</td>\n",
       "      <td>No</td>\n",
       "      <td>No</td>\n",
       "      <td>No</td>\n",
       "      <td>2</td>\n",
       "      <td>Yes</td>\n",
       "      <td>No</td>\n",
       "      <td>Fiber optic</td>\n",
       "      <td>No</td>\n",
       "      <td>No</td>\n",
       "      <td>No</td>\n",
       "      <td>No</td>\n",
       "      <td>No</td>\n",
       "      <td>No</td>\n",
       "      <td>Month-to-month</td>\n",
       "      <td>Yes</td>\n",
       "      <td>Electronic check</td>\n",
       "      <td>70.70</td>\n",
       "      <td>151.65</td>\n",
       "      <td>Yes</td>\n",
       "    </tr>\n",
       "  </tbody>\n",
       "</table>\n",
       "</div>"
      ],
      "text/plain": [
       "   gender SeniorCitizen Partner Dependents  tenure PhoneService  \\\n",
       "0  Female            No     Yes         No       1           No   \n",
       "1    Male            No      No         No      34          Yes   \n",
       "2    Male            No      No         No       2          Yes   \n",
       "3    Male            No      No         No      45           No   \n",
       "4  Female            No      No         No       2          Yes   \n",
       "\n",
       "      MultipleLines InternetService OnlineSecurity OnlineBackup  \\\n",
       "0  No phone service             DSL             No          Yes   \n",
       "1                No             DSL            Yes           No   \n",
       "2                No             DSL            Yes          Yes   \n",
       "3  No phone service             DSL            Yes           No   \n",
       "4                No     Fiber optic             No           No   \n",
       "\n",
       "  DeviceProtection TechSupport StreamingTV StreamingMovies        Contract  \\\n",
       "0               No          No          No              No  Month-to-month   \n",
       "1              Yes          No          No              No        One year   \n",
       "2               No          No          No              No  Month-to-month   \n",
       "3              Yes         Yes          No              No        One year   \n",
       "4               No          No          No              No  Month-to-month   \n",
       "\n",
       "  PaperlessBilling              PaymentMethod  MonthlyCharges TotalCharges  \\\n",
       "0              Yes           Electronic check           29.85        29.85   \n",
       "1               No               Mailed check           56.95       1889.5   \n",
       "2              Yes               Mailed check           53.85       108.15   \n",
       "3               No  Bank transfer (automatic)           42.30      1840.75   \n",
       "4              Yes           Electronic check           70.70       151.65   \n",
       "\n",
       "  Churn  \n",
       "0    No  \n",
       "1    No  \n",
       "2   Yes  \n",
       "3    No  \n",
       "4   Yes  "
      ]
     },
     "execution_count": 18,
     "metadata": {},
     "output_type": "execute_result"
    }
   ],
   "source": [
    "df.head()"
   ]
  },
  {
   "cell_type": "markdown",
   "id": "54ccec29",
   "metadata": {
    "papermill": {
     "duration": 0.021921,
     "end_time": "2025-01-16T16:37:58.028388",
     "exception": false,
     "start_time": "2025-01-16T16:37:58.006467",
     "status": "completed"
    },
    "tags": []
   },
   "source": [
    "* **Tenure**"
   ]
  },
  {
   "cell_type": "code",
   "execution_count": 19,
   "id": "0b747fec",
   "metadata": {
    "execution": {
     "iopub.execute_input": "2025-01-16T16:37:58.075075Z",
     "iopub.status.busy": "2025-01-16T16:37:58.074734Z",
     "iopub.status.idle": "2025-01-16T16:37:58.080239Z",
     "shell.execute_reply": "2025-01-16T16:37:58.078984Z"
    },
    "papermill": {
     "duration": 0.031269,
     "end_time": "2025-01-16T16:37:58.082204",
     "exception": false,
     "start_time": "2025-01-16T16:37:58.050935",
     "status": "completed"
    },
    "tags": []
   },
   "outputs": [],
   "source": [
    "df.rename(columns={'tenure':'Tenure'},inplace=True)"
   ]
  },
  {
   "cell_type": "code",
   "execution_count": 20,
   "id": "56904593",
   "metadata": {
    "execution": {
     "iopub.execute_input": "2025-01-16T16:37:58.127847Z",
     "iopub.status.busy": "2025-01-16T16:37:58.127495Z",
     "iopub.status.idle": "2025-01-16T16:37:58.135365Z",
     "shell.execute_reply": "2025-01-16T16:37:58.134257Z"
    },
    "papermill": {
     "duration": 0.032645,
     "end_time": "2025-01-16T16:37:58.137032",
     "exception": false,
     "start_time": "2025-01-16T16:37:58.104387",
     "status": "completed"
    },
    "tags": []
   },
   "outputs": [
    {
     "data": {
      "text/plain": [
       "array([ 1, 34,  2, 45,  8, 22, 10, 28, 62, 13, 16, 58, 49, 25, 69, 52, 71,\n",
       "       21, 12, 30, 47, 72, 17, 27,  5, 46, 11, 70, 63, 43, 15, 60, 18, 66,\n",
       "        9,  3, 31, 50, 64, 56,  7, 42, 35, 48, 29, 65, 38, 68, 32, 55, 37,\n",
       "       36, 41,  6,  4, 33, 67, 23, 57, 61, 14, 20, 53, 40, 59, 24, 44, 19,\n",
       "       54, 51, 26,  0, 39])"
      ]
     },
     "execution_count": 20,
     "metadata": {},
     "output_type": "execute_result"
    }
   ],
   "source": [
    "df['Tenure'].unique()"
   ]
  },
  {
   "cell_type": "code",
   "execution_count": 21,
   "id": "f945a96d",
   "metadata": {
    "execution": {
     "iopub.execute_input": "2025-01-16T16:37:58.195623Z",
     "iopub.status.busy": "2025-01-16T16:37:58.195242Z",
     "iopub.status.idle": "2025-01-16T16:37:58.203558Z",
     "shell.execute_reply": "2025-01-16T16:37:58.201652Z"
    },
    "papermill": {
     "duration": 0.03895,
     "end_time": "2025-01-16T16:37:58.205712",
     "exception": false,
     "start_time": "2025-01-16T16:37:58.166762",
     "status": "completed"
    },
    "tags": []
   },
   "outputs": [
    {
     "data": {
      "text/plain": [
       "Index([488, 753, 936, 1082, 1340, 3331, 3826, 4380, 5218, 6670, 6754], dtype='int64')"
      ]
     },
     "execution_count": 21,
     "metadata": {},
     "output_type": "execute_result"
    }
   ],
   "source": [
    "df[df['Tenure']==0].index"
   ]
  },
  {
   "cell_type": "code",
   "execution_count": 22,
   "id": "92bda1e3",
   "metadata": {
    "execution": {
     "iopub.execute_input": "2025-01-16T16:37:58.252288Z",
     "iopub.status.busy": "2025-01-16T16:37:58.251837Z",
     "iopub.status.idle": "2025-01-16T16:37:58.263287Z",
     "shell.execute_reply": "2025-01-16T16:37:58.262087Z"
    },
    "papermill": {
     "duration": 0.036693,
     "end_time": "2025-01-16T16:37:58.265078",
     "exception": false,
     "start_time": "2025-01-16T16:37:58.228385",
     "status": "completed"
    },
    "tags": []
   },
   "outputs": [
    {
     "data": {
      "text/plain": [
       "Index([], dtype='int64')"
      ]
     },
     "execution_count": 22,
     "metadata": {},
     "output_type": "execute_result"
    }
   ],
   "source": [
    "df.drop(labels=df[df['Tenure']==0].index,axis=0,inplace=True)\n",
    "df[df['Tenure']==0].index"
   ]
  },
  {
   "cell_type": "code",
   "execution_count": 23,
   "id": "112a24fe",
   "metadata": {
    "execution": {
     "iopub.execute_input": "2025-01-16T16:37:58.311473Z",
     "iopub.status.busy": "2025-01-16T16:37:58.311029Z",
     "iopub.status.idle": "2025-01-16T16:37:58.317095Z",
     "shell.execute_reply": "2025-01-16T16:37:58.316036Z"
    },
    "papermill": {
     "duration": 0.031193,
     "end_time": "2025-01-16T16:37:58.318882",
     "exception": false,
     "start_time": "2025-01-16T16:37:58.287689",
     "status": "completed"
    },
    "tags": []
   },
   "outputs": [
    {
     "data": {
      "text/plain": [
       "(7032, 20)"
      ]
     },
     "execution_count": 23,
     "metadata": {},
     "output_type": "execute_result"
    }
   ],
   "source": [
    "df.shape"
   ]
  },
  {
   "cell_type": "code",
   "execution_count": 24,
   "id": "cf88272e",
   "metadata": {
    "execution": {
     "iopub.execute_input": "2025-01-16T16:37:58.365685Z",
     "iopub.status.busy": "2025-01-16T16:37:58.365266Z",
     "iopub.status.idle": "2025-01-16T16:37:58.384085Z",
     "shell.execute_reply": "2025-01-16T16:37:58.382893Z"
    },
    "papermill": {
     "duration": 0.044957,
     "end_time": "2025-01-16T16:37:58.386298",
     "exception": false,
     "start_time": "2025-01-16T16:37:58.341341",
     "status": "completed"
    },
    "tags": []
   },
   "outputs": [
    {
     "data": {
      "text/html": [
       "<div>\n",
       "<style scoped>\n",
       "    .dataframe tbody tr th:only-of-type {\n",
       "        vertical-align: middle;\n",
       "    }\n",
       "\n",
       "    .dataframe tbody tr th {\n",
       "        vertical-align: top;\n",
       "    }\n",
       "\n",
       "    .dataframe thead th {\n",
       "        text-align: right;\n",
       "    }\n",
       "</style>\n",
       "<table border=\"1\" class=\"dataframe\">\n",
       "  <thead>\n",
       "    <tr style=\"text-align: right;\">\n",
       "      <th></th>\n",
       "      <th>gender</th>\n",
       "      <th>SeniorCitizen</th>\n",
       "      <th>Partner</th>\n",
       "      <th>Dependents</th>\n",
       "      <th>Tenure</th>\n",
       "      <th>PhoneService</th>\n",
       "      <th>MultipleLines</th>\n",
       "      <th>InternetService</th>\n",
       "      <th>OnlineSecurity</th>\n",
       "      <th>OnlineBackup</th>\n",
       "      <th>DeviceProtection</th>\n",
       "      <th>TechSupport</th>\n",
       "      <th>StreamingTV</th>\n",
       "      <th>StreamingMovies</th>\n",
       "      <th>Contract</th>\n",
       "      <th>PaperlessBilling</th>\n",
       "      <th>PaymentMethod</th>\n",
       "      <th>MonthlyCharges</th>\n",
       "      <th>TotalCharges</th>\n",
       "      <th>Churn</th>\n",
       "    </tr>\n",
       "  </thead>\n",
       "  <tbody>\n",
       "    <tr>\n",
       "      <th>0</th>\n",
       "      <td>Female</td>\n",
       "      <td>No</td>\n",
       "      <td>Yes</td>\n",
       "      <td>No</td>\n",
       "      <td>1</td>\n",
       "      <td>No</td>\n",
       "      <td>No phone service</td>\n",
       "      <td>DSL</td>\n",
       "      <td>No</td>\n",
       "      <td>Yes</td>\n",
       "      <td>No</td>\n",
       "      <td>No</td>\n",
       "      <td>No</td>\n",
       "      <td>No</td>\n",
       "      <td>Month-to-month</td>\n",
       "      <td>Yes</td>\n",
       "      <td>Electronic check</td>\n",
       "      <td>29.85</td>\n",
       "      <td>29.85</td>\n",
       "      <td>No</td>\n",
       "    </tr>\n",
       "    <tr>\n",
       "      <th>1</th>\n",
       "      <td>Male</td>\n",
       "      <td>No</td>\n",
       "      <td>No</td>\n",
       "      <td>No</td>\n",
       "      <td>34</td>\n",
       "      <td>Yes</td>\n",
       "      <td>No</td>\n",
       "      <td>DSL</td>\n",
       "      <td>Yes</td>\n",
       "      <td>No</td>\n",
       "      <td>Yes</td>\n",
       "      <td>No</td>\n",
       "      <td>No</td>\n",
       "      <td>No</td>\n",
       "      <td>One year</td>\n",
       "      <td>No</td>\n",
       "      <td>Mailed check</td>\n",
       "      <td>56.95</td>\n",
       "      <td>1889.5</td>\n",
       "      <td>No</td>\n",
       "    </tr>\n",
       "    <tr>\n",
       "      <th>2</th>\n",
       "      <td>Male</td>\n",
       "      <td>No</td>\n",
       "      <td>No</td>\n",
       "      <td>No</td>\n",
       "      <td>2</td>\n",
       "      <td>Yes</td>\n",
       "      <td>No</td>\n",
       "      <td>DSL</td>\n",
       "      <td>Yes</td>\n",
       "      <td>Yes</td>\n",
       "      <td>No</td>\n",
       "      <td>No</td>\n",
       "      <td>No</td>\n",
       "      <td>No</td>\n",
       "      <td>Month-to-month</td>\n",
       "      <td>Yes</td>\n",
       "      <td>Mailed check</td>\n",
       "      <td>53.85</td>\n",
       "      <td>108.15</td>\n",
       "      <td>Yes</td>\n",
       "    </tr>\n",
       "    <tr>\n",
       "      <th>3</th>\n",
       "      <td>Male</td>\n",
       "      <td>No</td>\n",
       "      <td>No</td>\n",
       "      <td>No</td>\n",
       "      <td>45</td>\n",
       "      <td>No</td>\n",
       "      <td>No phone service</td>\n",
       "      <td>DSL</td>\n",
       "      <td>Yes</td>\n",
       "      <td>No</td>\n",
       "      <td>Yes</td>\n",
       "      <td>Yes</td>\n",
       "      <td>No</td>\n",
       "      <td>No</td>\n",
       "      <td>One year</td>\n",
       "      <td>No</td>\n",
       "      <td>Bank transfer (automatic)</td>\n",
       "      <td>42.30</td>\n",
       "      <td>1840.75</td>\n",
       "      <td>No</td>\n",
       "    </tr>\n",
       "    <tr>\n",
       "      <th>4</th>\n",
       "      <td>Female</td>\n",
       "      <td>No</td>\n",
       "      <td>No</td>\n",
       "      <td>No</td>\n",
       "      <td>2</td>\n",
       "      <td>Yes</td>\n",
       "      <td>No</td>\n",
       "      <td>Fiber optic</td>\n",
       "      <td>No</td>\n",
       "      <td>No</td>\n",
       "      <td>No</td>\n",
       "      <td>No</td>\n",
       "      <td>No</td>\n",
       "      <td>No</td>\n",
       "      <td>Month-to-month</td>\n",
       "      <td>Yes</td>\n",
       "      <td>Electronic check</td>\n",
       "      <td>70.70</td>\n",
       "      <td>151.65</td>\n",
       "      <td>Yes</td>\n",
       "    </tr>\n",
       "  </tbody>\n",
       "</table>\n",
       "</div>"
      ],
      "text/plain": [
       "   gender SeniorCitizen Partner Dependents  Tenure PhoneService  \\\n",
       "0  Female            No     Yes         No       1           No   \n",
       "1    Male            No      No         No      34          Yes   \n",
       "2    Male            No      No         No       2          Yes   \n",
       "3    Male            No      No         No      45           No   \n",
       "4  Female            No      No         No       2          Yes   \n",
       "\n",
       "      MultipleLines InternetService OnlineSecurity OnlineBackup  \\\n",
       "0  No phone service             DSL             No          Yes   \n",
       "1                No             DSL            Yes           No   \n",
       "2                No             DSL            Yes          Yes   \n",
       "3  No phone service             DSL            Yes           No   \n",
       "4                No     Fiber optic             No           No   \n",
       "\n",
       "  DeviceProtection TechSupport StreamingTV StreamingMovies        Contract  \\\n",
       "0               No          No          No              No  Month-to-month   \n",
       "1              Yes          No          No              No        One year   \n",
       "2               No          No          No              No  Month-to-month   \n",
       "3              Yes         Yes          No              No        One year   \n",
       "4               No          No          No              No  Month-to-month   \n",
       "\n",
       "  PaperlessBilling              PaymentMethod  MonthlyCharges TotalCharges  \\\n",
       "0              Yes           Electronic check           29.85        29.85   \n",
       "1               No               Mailed check           56.95       1889.5   \n",
       "2              Yes               Mailed check           53.85       108.15   \n",
       "3               No  Bank transfer (automatic)           42.30      1840.75   \n",
       "4              Yes           Electronic check           70.70       151.65   \n",
       "\n",
       "  Churn  \n",
       "0    No  \n",
       "1    No  \n",
       "2   Yes  \n",
       "3    No  \n",
       "4   Yes  "
      ]
     },
     "execution_count": 24,
     "metadata": {},
     "output_type": "execute_result"
    }
   ],
   "source": [
    "df.head()"
   ]
  },
  {
   "cell_type": "markdown",
   "id": "b4e883f5",
   "metadata": {
    "papermill": {
     "duration": 0.02254,
     "end_time": "2025-01-16T16:37:58.432762",
     "exception": false,
     "start_time": "2025-01-16T16:37:58.410222",
     "status": "completed"
    },
    "tags": []
   },
   "source": [
    "* **ALL THE SERVICES AVAILED BY THE USERS(COLUMNS)**"
   ]
  },
  {
   "cell_type": "code",
   "execution_count": 25,
   "id": "6e0ea243",
   "metadata": {
    "execution": {
     "iopub.execute_input": "2025-01-16T16:37:58.479775Z",
     "iopub.status.busy": "2025-01-16T16:37:58.479422Z",
     "iopub.status.idle": "2025-01-16T16:37:58.496817Z",
     "shell.execute_reply": "2025-01-16T16:37:58.495567Z"
    },
    "papermill": {
     "duration": 0.043123,
     "end_time": "2025-01-16T16:37:58.498694",
     "exception": false,
     "start_time": "2025-01-16T16:37:58.455571",
     "status": "completed"
    },
    "tags": []
   },
   "outputs": [
    {
     "name": "stdout",
     "output_type": "stream",
     "text": [
      "['No' 'Yes']\n",
      "['No phone service' 'No' 'Yes']\n",
      "['DSL' 'Fiber optic' 'No']\n",
      "['No' 'Yes' 'No internet service']\n",
      "['Yes' 'No' 'No internet service']\n",
      "['No' 'Yes' 'No internet service']\n",
      "['No' 'Yes' 'No internet service']\n",
      "['No' 'Yes' 'No internet service']\n",
      "['No' 'Yes' 'No internet service']\n"
     ]
    }
   ],
   "source": [
    "a=df['PhoneService'].unique()\n",
    "print(a)\n",
    "b=df['MultipleLines'].unique()\n",
    "print(b)\n",
    "c=df['InternetService'].unique()\n",
    "print(c)\n",
    "d=df['OnlineSecurity'].unique()\n",
    "print(d)\n",
    "e=df['OnlineBackup'].unique()\n",
    "print(e)\n",
    "f=df['DeviceProtection'].unique()\n",
    "print(f)\n",
    "g=df['TechSupport'].unique()\n",
    "print(g)\n",
    "h=df['StreamingTV'].unique()\n",
    "print(h)\n",
    "i=df['StreamingMovies'].unique()\n",
    "print(i)"
   ]
  },
  {
   "cell_type": "code",
   "execution_count": 26,
   "id": "574f43de",
   "metadata": {
    "execution": {
     "iopub.execute_input": "2025-01-16T16:37:58.545771Z",
     "iopub.status.busy": "2025-01-16T16:37:58.545366Z",
     "iopub.status.idle": "2025-01-16T16:37:58.564733Z",
     "shell.execute_reply": "2025-01-16T16:37:58.563558Z"
    },
    "papermill": {
     "duration": 0.045338,
     "end_time": "2025-01-16T16:37:58.566895",
     "exception": false,
     "start_time": "2025-01-16T16:37:58.521557",
     "status": "completed"
    },
    "tags": []
   },
   "outputs": [
    {
     "data": {
      "text/html": [
       "<div>\n",
       "<style scoped>\n",
       "    .dataframe tbody tr th:only-of-type {\n",
       "        vertical-align: middle;\n",
       "    }\n",
       "\n",
       "    .dataframe tbody tr th {\n",
       "        vertical-align: top;\n",
       "    }\n",
       "\n",
       "    .dataframe thead th {\n",
       "        text-align: right;\n",
       "    }\n",
       "</style>\n",
       "<table border=\"1\" class=\"dataframe\">\n",
       "  <thead>\n",
       "    <tr style=\"text-align: right;\">\n",
       "      <th></th>\n",
       "      <th>gender</th>\n",
       "      <th>SeniorCitizen</th>\n",
       "      <th>Partner</th>\n",
       "      <th>Dependents</th>\n",
       "      <th>Tenure</th>\n",
       "      <th>PhoneService</th>\n",
       "      <th>MultipleLines</th>\n",
       "      <th>InternetService</th>\n",
       "      <th>OnlineSecurity</th>\n",
       "      <th>OnlineBackup</th>\n",
       "      <th>DeviceProtection</th>\n",
       "      <th>TechSupport</th>\n",
       "      <th>StreamingTV</th>\n",
       "      <th>StreamingMovies</th>\n",
       "      <th>Contract</th>\n",
       "      <th>PaperlessBilling</th>\n",
       "      <th>PaymentMethod</th>\n",
       "      <th>MonthlyCharges</th>\n",
       "      <th>TotalCharges</th>\n",
       "      <th>Churn</th>\n",
       "    </tr>\n",
       "  </thead>\n",
       "  <tbody>\n",
       "    <tr>\n",
       "      <th>0</th>\n",
       "      <td>Female</td>\n",
       "      <td>No</td>\n",
       "      <td>Yes</td>\n",
       "      <td>No</td>\n",
       "      <td>1</td>\n",
       "      <td>No</td>\n",
       "      <td>No phone service</td>\n",
       "      <td>DSL</td>\n",
       "      <td>No</td>\n",
       "      <td>Yes</td>\n",
       "      <td>No</td>\n",
       "      <td>No</td>\n",
       "      <td>No</td>\n",
       "      <td>No</td>\n",
       "      <td>Month-to-month</td>\n",
       "      <td>Yes</td>\n",
       "      <td>Electronic check</td>\n",
       "      <td>29.85</td>\n",
       "      <td>29.85</td>\n",
       "      <td>No</td>\n",
       "    </tr>\n",
       "    <tr>\n",
       "      <th>1</th>\n",
       "      <td>Male</td>\n",
       "      <td>No</td>\n",
       "      <td>No</td>\n",
       "      <td>No</td>\n",
       "      <td>34</td>\n",
       "      <td>Yes</td>\n",
       "      <td>No</td>\n",
       "      <td>DSL</td>\n",
       "      <td>Yes</td>\n",
       "      <td>No</td>\n",
       "      <td>Yes</td>\n",
       "      <td>No</td>\n",
       "      <td>No</td>\n",
       "      <td>No</td>\n",
       "      <td>One year</td>\n",
       "      <td>No</td>\n",
       "      <td>Mailed check</td>\n",
       "      <td>56.95</td>\n",
       "      <td>1889.5</td>\n",
       "      <td>No</td>\n",
       "    </tr>\n",
       "    <tr>\n",
       "      <th>2</th>\n",
       "      <td>Male</td>\n",
       "      <td>No</td>\n",
       "      <td>No</td>\n",
       "      <td>No</td>\n",
       "      <td>2</td>\n",
       "      <td>Yes</td>\n",
       "      <td>No</td>\n",
       "      <td>DSL</td>\n",
       "      <td>Yes</td>\n",
       "      <td>Yes</td>\n",
       "      <td>No</td>\n",
       "      <td>No</td>\n",
       "      <td>No</td>\n",
       "      <td>No</td>\n",
       "      <td>Month-to-month</td>\n",
       "      <td>Yes</td>\n",
       "      <td>Mailed check</td>\n",
       "      <td>53.85</td>\n",
       "      <td>108.15</td>\n",
       "      <td>Yes</td>\n",
       "    </tr>\n",
       "    <tr>\n",
       "      <th>3</th>\n",
       "      <td>Male</td>\n",
       "      <td>No</td>\n",
       "      <td>No</td>\n",
       "      <td>No</td>\n",
       "      <td>45</td>\n",
       "      <td>No</td>\n",
       "      <td>No phone service</td>\n",
       "      <td>DSL</td>\n",
       "      <td>Yes</td>\n",
       "      <td>No</td>\n",
       "      <td>Yes</td>\n",
       "      <td>Yes</td>\n",
       "      <td>No</td>\n",
       "      <td>No</td>\n",
       "      <td>One year</td>\n",
       "      <td>No</td>\n",
       "      <td>Bank transfer (automatic)</td>\n",
       "      <td>42.30</td>\n",
       "      <td>1840.75</td>\n",
       "      <td>No</td>\n",
       "    </tr>\n",
       "    <tr>\n",
       "      <th>4</th>\n",
       "      <td>Female</td>\n",
       "      <td>No</td>\n",
       "      <td>No</td>\n",
       "      <td>No</td>\n",
       "      <td>2</td>\n",
       "      <td>Yes</td>\n",
       "      <td>No</td>\n",
       "      <td>Fiber optic</td>\n",
       "      <td>No</td>\n",
       "      <td>No</td>\n",
       "      <td>No</td>\n",
       "      <td>No</td>\n",
       "      <td>No</td>\n",
       "      <td>No</td>\n",
       "      <td>Month-to-month</td>\n",
       "      <td>Yes</td>\n",
       "      <td>Electronic check</td>\n",
       "      <td>70.70</td>\n",
       "      <td>151.65</td>\n",
       "      <td>Yes</td>\n",
       "    </tr>\n",
       "  </tbody>\n",
       "</table>\n",
       "</div>"
      ],
      "text/plain": [
       "   gender SeniorCitizen Partner Dependents  Tenure PhoneService  \\\n",
       "0  Female            No     Yes         No       1           No   \n",
       "1    Male            No      No         No      34          Yes   \n",
       "2    Male            No      No         No       2          Yes   \n",
       "3    Male            No      No         No      45           No   \n",
       "4  Female            No      No         No       2          Yes   \n",
       "\n",
       "      MultipleLines InternetService OnlineSecurity OnlineBackup  \\\n",
       "0  No phone service             DSL             No          Yes   \n",
       "1                No             DSL            Yes           No   \n",
       "2                No             DSL            Yes          Yes   \n",
       "3  No phone service             DSL            Yes           No   \n",
       "4                No     Fiber optic             No           No   \n",
       "\n",
       "  DeviceProtection TechSupport StreamingTV StreamingMovies        Contract  \\\n",
       "0               No          No          No              No  Month-to-month   \n",
       "1              Yes          No          No              No        One year   \n",
       "2               No          No          No              No  Month-to-month   \n",
       "3              Yes         Yes          No              No        One year   \n",
       "4               No          No          No              No  Month-to-month   \n",
       "\n",
       "  PaperlessBilling              PaymentMethod  MonthlyCharges TotalCharges  \\\n",
       "0              Yes           Electronic check           29.85        29.85   \n",
       "1               No               Mailed check           56.95       1889.5   \n",
       "2              Yes               Mailed check           53.85       108.15   \n",
       "3               No  Bank transfer (automatic)           42.30      1840.75   \n",
       "4              Yes           Electronic check           70.70       151.65   \n",
       "\n",
       "  Churn  \n",
       "0    No  \n",
       "1    No  \n",
       "2   Yes  \n",
       "3    No  \n",
       "4   Yes  "
      ]
     },
     "execution_count": 26,
     "metadata": {},
     "output_type": "execute_result"
    }
   ],
   "source": [
    "df.head()"
   ]
  },
  {
   "cell_type": "markdown",
   "id": "32bb557c",
   "metadata": {
    "papermill": {
     "duration": 0.023961,
     "end_time": "2025-01-16T16:37:58.614579",
     "exception": false,
     "start_time": "2025-01-16T16:37:58.590618",
     "status": "completed"
    },
    "tags": []
   },
   "source": [
    "* **TotalCharges column check**"
   ]
  },
  {
   "cell_type": "code",
   "execution_count": 27,
   "id": "664b71aa",
   "metadata": {
    "execution": {
     "iopub.execute_input": "2025-01-16T16:37:58.663351Z",
     "iopub.status.busy": "2025-01-16T16:37:58.662872Z",
     "iopub.status.idle": "2025-01-16T16:37:58.669521Z",
     "shell.execute_reply": "2025-01-16T16:37:58.668205Z"
    },
    "papermill": {
     "duration": 0.033124,
     "end_time": "2025-01-16T16:37:58.671276",
     "exception": false,
     "start_time": "2025-01-16T16:37:58.638152",
     "status": "completed"
    },
    "tags": []
   },
   "outputs": [
    {
     "name": "stdout",
     "output_type": "stream",
     "text": [
      "['29.85' '1889.5' '108.15' ... '346.45' '306.6' '6844.5']\n"
     ]
    }
   ],
   "source": [
    "print(df['TotalCharges'].unique())"
   ]
  },
  {
   "cell_type": "code",
   "execution_count": 28,
   "id": "1fb980da",
   "metadata": {
    "execution": {
     "iopub.execute_input": "2025-01-16T16:37:58.719472Z",
     "iopub.status.busy": "2025-01-16T16:37:58.718920Z",
     "iopub.status.idle": "2025-01-16T16:37:58.729052Z",
     "shell.execute_reply": "2025-01-16T16:37:58.727862Z"
    },
    "papermill": {
     "duration": 0.036116,
     "end_time": "2025-01-16T16:37:58.730845",
     "exception": false,
     "start_time": "2025-01-16T16:37:58.694729",
     "status": "completed"
    },
    "tags": []
   },
   "outputs": [
    {
     "name": "stdout",
     "output_type": "stream",
     "text": [
      "[  29.85 1889.5   108.15 ...  346.45  306.6  6844.5 ]\n"
     ]
    }
   ],
   "source": [
    "def handle_total_charges(value):\n",
    "    return float(value)\n",
    "\n",
    "# Apply the function to the 'TotalCharges' column\n",
    "df['TotalCharges'] = df['TotalCharges'].apply(handle_total_charges)\n",
    "\n",
    "# Check the unique values in the 'TotalCharges' column\n",
    "print(df['TotalCharges'].unique())\n"
   ]
  },
  {
   "cell_type": "code",
   "execution_count": 29,
   "id": "7e617783",
   "metadata": {
    "execution": {
     "iopub.execute_input": "2025-01-16T16:37:58.778704Z",
     "iopub.status.busy": "2025-01-16T16:37:58.778294Z",
     "iopub.status.idle": "2025-01-16T16:37:58.786247Z",
     "shell.execute_reply": "2025-01-16T16:37:58.785069Z"
    },
    "papermill": {
     "duration": 0.033963,
     "end_time": "2025-01-16T16:37:58.787979",
     "exception": false,
     "start_time": "2025-01-16T16:37:58.754016",
     "status": "completed"
    },
    "tags": []
   },
   "outputs": [
    {
     "data": {
      "text/plain": [
       "Index([], dtype='int64')"
      ]
     },
     "execution_count": 29,
     "metadata": {},
     "output_type": "execute_result"
    }
   ],
   "source": [
    "df[df['TotalCharges']==0].index"
   ]
  },
  {
   "cell_type": "markdown",
   "id": "70391fe9",
   "metadata": {
    "papermill": {
     "duration": 0.022945,
     "end_time": "2025-01-16T16:37:58.834762",
     "exception": false,
     "start_time": "2025-01-16T16:37:58.811817",
     "status": "completed"
    },
    "tags": []
   },
   "source": [
    "* **Contract and Billing methods**"
   ]
  },
  {
   "cell_type": "code",
   "execution_count": 30,
   "id": "82b8a6b7",
   "metadata": {
    "execution": {
     "iopub.execute_input": "2025-01-16T16:37:58.883252Z",
     "iopub.status.busy": "2025-01-16T16:37:58.882793Z",
     "iopub.status.idle": "2025-01-16T16:37:58.893318Z",
     "shell.execute_reply": "2025-01-16T16:37:58.892228Z"
    },
    "papermill": {
     "duration": 0.036855,
     "end_time": "2025-01-16T16:37:58.895212",
     "exception": false,
     "start_time": "2025-01-16T16:37:58.858357",
     "status": "completed"
    },
    "tags": []
   },
   "outputs": [
    {
     "name": "stdout",
     "output_type": "stream",
     "text": [
      "['Month-to-month' 'One year' 'Two year']\n",
      "['Electronic check' 'Mailed check' 'Bank transfer (automatic)'\n",
      " 'Credit card (automatic)']\n",
      "Index([], dtype='int64')\n",
      "['No' 'Yes']\n"
     ]
    }
   ],
   "source": [
    "x=df['Contract'].unique()\n",
    "print(x)\n",
    "y=df['PaymentMethod'].unique()\n",
    "print(y)\n",
    "z=df[df['MonthlyCharges']==0].index\n",
    "print(z)\n",
    "b=df['Churn'].unique()\n",
    "print(b)"
   ]
  },
  {
   "cell_type": "code",
   "execution_count": 31,
   "id": "6926190f",
   "metadata": {
    "execution": {
     "iopub.execute_input": "2025-01-16T16:37:58.943745Z",
     "iopub.status.busy": "2025-01-16T16:37:58.943394Z",
     "iopub.status.idle": "2025-01-16T16:37:58.963962Z",
     "shell.execute_reply": "2025-01-16T16:37:58.962672Z"
    },
    "papermill": {
     "duration": 0.047409,
     "end_time": "2025-01-16T16:37:58.966190",
     "exception": false,
     "start_time": "2025-01-16T16:37:58.918781",
     "status": "completed"
    },
    "tags": []
   },
   "outputs": [
    {
     "data": {
      "text/html": [
       "<div>\n",
       "<style scoped>\n",
       "    .dataframe tbody tr th:only-of-type {\n",
       "        vertical-align: middle;\n",
       "    }\n",
       "\n",
       "    .dataframe tbody tr th {\n",
       "        vertical-align: top;\n",
       "    }\n",
       "\n",
       "    .dataframe thead th {\n",
       "        text-align: right;\n",
       "    }\n",
       "</style>\n",
       "<table border=\"1\" class=\"dataframe\">\n",
       "  <thead>\n",
       "    <tr style=\"text-align: right;\">\n",
       "      <th></th>\n",
       "      <th>gender</th>\n",
       "      <th>SeniorCitizen</th>\n",
       "      <th>Partner</th>\n",
       "      <th>Dependents</th>\n",
       "      <th>Tenure</th>\n",
       "      <th>PhoneService</th>\n",
       "      <th>MultipleLines</th>\n",
       "      <th>InternetService</th>\n",
       "      <th>OnlineSecurity</th>\n",
       "      <th>OnlineBackup</th>\n",
       "      <th>DeviceProtection</th>\n",
       "      <th>TechSupport</th>\n",
       "      <th>StreamingTV</th>\n",
       "      <th>StreamingMovies</th>\n",
       "      <th>Contract</th>\n",
       "      <th>PaperlessBilling</th>\n",
       "      <th>PaymentMethod</th>\n",
       "      <th>MonthlyCharges</th>\n",
       "      <th>TotalCharges</th>\n",
       "      <th>Churn</th>\n",
       "    </tr>\n",
       "  </thead>\n",
       "  <tbody>\n",
       "    <tr>\n",
       "      <th>0</th>\n",
       "      <td>Female</td>\n",
       "      <td>No</td>\n",
       "      <td>Yes</td>\n",
       "      <td>No</td>\n",
       "      <td>1</td>\n",
       "      <td>No</td>\n",
       "      <td>No phone service</td>\n",
       "      <td>DSL</td>\n",
       "      <td>No</td>\n",
       "      <td>Yes</td>\n",
       "      <td>No</td>\n",
       "      <td>No</td>\n",
       "      <td>No</td>\n",
       "      <td>No</td>\n",
       "      <td>Month-to-month</td>\n",
       "      <td>Yes</td>\n",
       "      <td>Electronic check</td>\n",
       "      <td>29.85</td>\n",
       "      <td>29.85</td>\n",
       "      <td>No</td>\n",
       "    </tr>\n",
       "    <tr>\n",
       "      <th>1</th>\n",
       "      <td>Male</td>\n",
       "      <td>No</td>\n",
       "      <td>No</td>\n",
       "      <td>No</td>\n",
       "      <td>34</td>\n",
       "      <td>Yes</td>\n",
       "      <td>No</td>\n",
       "      <td>DSL</td>\n",
       "      <td>Yes</td>\n",
       "      <td>No</td>\n",
       "      <td>Yes</td>\n",
       "      <td>No</td>\n",
       "      <td>No</td>\n",
       "      <td>No</td>\n",
       "      <td>One year</td>\n",
       "      <td>No</td>\n",
       "      <td>Mailed check</td>\n",
       "      <td>56.95</td>\n",
       "      <td>1889.50</td>\n",
       "      <td>No</td>\n",
       "    </tr>\n",
       "    <tr>\n",
       "      <th>2</th>\n",
       "      <td>Male</td>\n",
       "      <td>No</td>\n",
       "      <td>No</td>\n",
       "      <td>No</td>\n",
       "      <td>2</td>\n",
       "      <td>Yes</td>\n",
       "      <td>No</td>\n",
       "      <td>DSL</td>\n",
       "      <td>Yes</td>\n",
       "      <td>Yes</td>\n",
       "      <td>No</td>\n",
       "      <td>No</td>\n",
       "      <td>No</td>\n",
       "      <td>No</td>\n",
       "      <td>Month-to-month</td>\n",
       "      <td>Yes</td>\n",
       "      <td>Mailed check</td>\n",
       "      <td>53.85</td>\n",
       "      <td>108.15</td>\n",
       "      <td>Yes</td>\n",
       "    </tr>\n",
       "    <tr>\n",
       "      <th>3</th>\n",
       "      <td>Male</td>\n",
       "      <td>No</td>\n",
       "      <td>No</td>\n",
       "      <td>No</td>\n",
       "      <td>45</td>\n",
       "      <td>No</td>\n",
       "      <td>No phone service</td>\n",
       "      <td>DSL</td>\n",
       "      <td>Yes</td>\n",
       "      <td>No</td>\n",
       "      <td>Yes</td>\n",
       "      <td>Yes</td>\n",
       "      <td>No</td>\n",
       "      <td>No</td>\n",
       "      <td>One year</td>\n",
       "      <td>No</td>\n",
       "      <td>Bank transfer (automatic)</td>\n",
       "      <td>42.30</td>\n",
       "      <td>1840.75</td>\n",
       "      <td>No</td>\n",
       "    </tr>\n",
       "    <tr>\n",
       "      <th>4</th>\n",
       "      <td>Female</td>\n",
       "      <td>No</td>\n",
       "      <td>No</td>\n",
       "      <td>No</td>\n",
       "      <td>2</td>\n",
       "      <td>Yes</td>\n",
       "      <td>No</td>\n",
       "      <td>Fiber optic</td>\n",
       "      <td>No</td>\n",
       "      <td>No</td>\n",
       "      <td>No</td>\n",
       "      <td>No</td>\n",
       "      <td>No</td>\n",
       "      <td>No</td>\n",
       "      <td>Month-to-month</td>\n",
       "      <td>Yes</td>\n",
       "      <td>Electronic check</td>\n",
       "      <td>70.70</td>\n",
       "      <td>151.65</td>\n",
       "      <td>Yes</td>\n",
       "    </tr>\n",
       "  </tbody>\n",
       "</table>\n",
       "</div>"
      ],
      "text/plain": [
       "   gender SeniorCitizen Partner Dependents  Tenure PhoneService  \\\n",
       "0  Female            No     Yes         No       1           No   \n",
       "1    Male            No      No         No      34          Yes   \n",
       "2    Male            No      No         No       2          Yes   \n",
       "3    Male            No      No         No      45           No   \n",
       "4  Female            No      No         No       2          Yes   \n",
       "\n",
       "      MultipleLines InternetService OnlineSecurity OnlineBackup  \\\n",
       "0  No phone service             DSL             No          Yes   \n",
       "1                No             DSL            Yes           No   \n",
       "2                No             DSL            Yes          Yes   \n",
       "3  No phone service             DSL            Yes           No   \n",
       "4                No     Fiber optic             No           No   \n",
       "\n",
       "  DeviceProtection TechSupport StreamingTV StreamingMovies        Contract  \\\n",
       "0               No          No          No              No  Month-to-month   \n",
       "1              Yes          No          No              No        One year   \n",
       "2               No          No          No              No  Month-to-month   \n",
       "3              Yes         Yes          No              No        One year   \n",
       "4               No          No          No              No  Month-to-month   \n",
       "\n",
       "  PaperlessBilling              PaymentMethod  MonthlyCharges  TotalCharges  \\\n",
       "0              Yes           Electronic check           29.85         29.85   \n",
       "1               No               Mailed check           56.95       1889.50   \n",
       "2              Yes               Mailed check           53.85        108.15   \n",
       "3               No  Bank transfer (automatic)           42.30       1840.75   \n",
       "4              Yes           Electronic check           70.70        151.65   \n",
       "\n",
       "  Churn  \n",
       "0    No  \n",
       "1    No  \n",
       "2   Yes  \n",
       "3    No  \n",
       "4   Yes  "
      ]
     },
     "execution_count": 31,
     "metadata": {},
     "output_type": "execute_result"
    }
   ],
   "source": [
    "df.head()"
   ]
  },
  {
   "cell_type": "code",
   "execution_count": 32,
   "id": "cabfc500",
   "metadata": {
    "execution": {
     "iopub.execute_input": "2025-01-16T16:37:59.017658Z",
     "iopub.status.busy": "2025-01-16T16:37:59.017297Z",
     "iopub.status.idle": "2025-01-16T16:37:59.038444Z",
     "shell.execute_reply": "2025-01-16T16:37:59.037165Z"
    },
    "papermill": {
     "duration": 0.048659,
     "end_time": "2025-01-16T16:37:59.040203",
     "exception": false,
     "start_time": "2025-01-16T16:37:58.991544",
     "status": "completed"
    },
    "tags": []
   },
   "outputs": [
    {
     "data": {
      "text/html": [
       "<div>\n",
       "<style scoped>\n",
       "    .dataframe tbody tr th:only-of-type {\n",
       "        vertical-align: middle;\n",
       "    }\n",
       "\n",
       "    .dataframe tbody tr th {\n",
       "        vertical-align: top;\n",
       "    }\n",
       "\n",
       "    .dataframe thead th {\n",
       "        text-align: right;\n",
       "    }\n",
       "</style>\n",
       "<table border=\"1\" class=\"dataframe\">\n",
       "  <thead>\n",
       "    <tr style=\"text-align: right;\">\n",
       "      <th></th>\n",
       "      <th>Tenure</th>\n",
       "      <th>MonthlyCharges</th>\n",
       "      <th>TotalCharges</th>\n",
       "    </tr>\n",
       "  </thead>\n",
       "  <tbody>\n",
       "    <tr>\n",
       "      <th>count</th>\n",
       "      <td>7032.000000</td>\n",
       "      <td>7032.000000</td>\n",
       "      <td>7032.000000</td>\n",
       "    </tr>\n",
       "    <tr>\n",
       "      <th>mean</th>\n",
       "      <td>32.421786</td>\n",
       "      <td>64.798208</td>\n",
       "      <td>2283.300441</td>\n",
       "    </tr>\n",
       "    <tr>\n",
       "      <th>std</th>\n",
       "      <td>24.545260</td>\n",
       "      <td>30.085974</td>\n",
       "      <td>2266.771362</td>\n",
       "    </tr>\n",
       "    <tr>\n",
       "      <th>min</th>\n",
       "      <td>1.000000</td>\n",
       "      <td>18.250000</td>\n",
       "      <td>18.800000</td>\n",
       "    </tr>\n",
       "    <tr>\n",
       "      <th>25%</th>\n",
       "      <td>9.000000</td>\n",
       "      <td>35.587500</td>\n",
       "      <td>401.450000</td>\n",
       "    </tr>\n",
       "    <tr>\n",
       "      <th>50%</th>\n",
       "      <td>29.000000</td>\n",
       "      <td>70.350000</td>\n",
       "      <td>1397.475000</td>\n",
       "    </tr>\n",
       "    <tr>\n",
       "      <th>75%</th>\n",
       "      <td>55.000000</td>\n",
       "      <td>89.862500</td>\n",
       "      <td>3794.737500</td>\n",
       "    </tr>\n",
       "    <tr>\n",
       "      <th>max</th>\n",
       "      <td>72.000000</td>\n",
       "      <td>118.750000</td>\n",
       "      <td>8684.800000</td>\n",
       "    </tr>\n",
       "  </tbody>\n",
       "</table>\n",
       "</div>"
      ],
      "text/plain": [
       "            Tenure  MonthlyCharges  TotalCharges\n",
       "count  7032.000000     7032.000000   7032.000000\n",
       "mean     32.421786       64.798208   2283.300441\n",
       "std      24.545260       30.085974   2266.771362\n",
       "min       1.000000       18.250000     18.800000\n",
       "25%       9.000000       35.587500    401.450000\n",
       "50%      29.000000       70.350000   1397.475000\n",
       "75%      55.000000       89.862500   3794.737500\n",
       "max      72.000000      118.750000   8684.800000"
      ]
     },
     "execution_count": 32,
     "metadata": {},
     "output_type": "execute_result"
    }
   ],
   "source": [
    "df.describe()"
   ]
  },
  {
   "cell_type": "markdown",
   "id": "9b3b7c49",
   "metadata": {
    "papermill": {
     "duration": 0.024768,
     "end_time": "2025-01-16T16:37:59.089022",
     "exception": false,
     "start_time": "2025-01-16T16:37:59.064254",
     "status": "completed"
    },
    "tags": []
   },
   "source": [
    "**ALL COLUMNS CLEANED**"
   ]
  },
  {
   "cell_type": "markdown",
   "id": "565c2f5e",
   "metadata": {
    "papermill": {
     "duration": 0.023509,
     "end_time": "2025-01-16T16:37:59.137679",
     "exception": false,
     "start_time": "2025-01-16T16:37:59.114170",
     "status": "completed"
    },
    "tags": []
   },
   "source": [
    "# Data Visualization"
   ]
  },
  {
   "cell_type": "markdown",
   "id": "855d58ec",
   "metadata": {
    "papermill": {
     "duration": 0.025016,
     "end_time": "2025-01-16T16:37:59.186859",
     "exception": false,
     "start_time": "2025-01-16T16:37:59.161843",
     "status": "completed"
    },
    "tags": []
   },
   "source": [
    "**Customer churn w.r.t Gender**\n",
    "* **Which of the customers are more likely to churn(Male,Female) ?**"
   ]
  },
  {
   "cell_type": "code",
   "execution_count": 33,
   "id": "7c56afc1",
   "metadata": {
    "execution": {
     "iopub.execute_input": "2025-01-16T16:37:59.237068Z",
     "iopub.status.busy": "2025-01-16T16:37:59.236674Z",
     "iopub.status.idle": "2025-01-16T16:37:59.476900Z",
     "shell.execute_reply": "2025-01-16T16:37:59.475518Z"
    },
    "papermill": {
     "duration": 0.267158,
     "end_time": "2025-01-16T16:37:59.478656",
     "exception": false,
     "start_time": "2025-01-16T16:37:59.211498",
     "status": "completed"
    },
    "tags": []
   },
   "outputs": [
    {
     "data": {
      "image/png": "[encoded data removed]",
      "text/plain": [
       "<Figure size 500x500 with 1 Axes>"
      ]
     },
     "metadata": {},
     "output_type": "display_data"
    }
   ],
   "source": [
    "plt.figure(figsize=(5,5))\n",
    "sns.countplot(x='Churn',data=df,hue='gender',palette='inferno',saturation=200)\n",
    "\n",
    "for p in plt.gca().patches:  \n",
    "    height=p.get_height()\n",
    "    plt.text(p.get_x()+p.get_width()/2,height,int(height),ha='center',va='bottom')\n",
    "\n",
    "plt.title('Customer churn w.r.t Gender')\n",
    "plt.show()\n",
    "    "
   ]
  },
  {
   "cell_type": "markdown",
   "id": "ddea5d4c",
   "metadata": {
    "papermill": {
     "duration": 0.024115,
     "end_time": "2025-01-16T16:37:59.527596",
     "exception": false,
     "start_time": "2025-01-16T16:37:59.503481",
     "status": "completed"
    },
    "tags": []
   },
   "source": [
    "> Conclusion --> **This shows that both the male and female customers equally stops using the service with a negligible difference between the numbers.**"
   ]
  },
  {
   "cell_type": "markdown",
   "id": "fb9459cb",
   "metadata": {
    "execution": {
     "iopub.execute_input": "2025-01-13T19:17:22.434400Z",
     "iopub.status.busy": "2025-01-13T19:17:22.434070Z",
     "iopub.status.idle": "2025-01-13T19:17:22.440645Z",
     "shell.execute_reply": "2025-01-13T19:17:22.439223Z",
     "shell.execute_reply.started": "2025-01-13T19:17:22.434374Z"
    },
    "papermill": {
     "duration": 0.024009,
     "end_time": "2025-01-16T16:37:59.575827",
     "exception": false,
     "start_time": "2025-01-16T16:37:59.551818",
     "status": "completed"
    },
    "tags": []
   },
   "source": [
    " **Churned Customers vs Active Customers**\n",
    "\n",
    "* **What is the percentage of Churn Customers and active customers ?**"
   ]
  },
  {
   "cell_type": "code",
   "execution_count": 34,
   "id": "c0442b42",
   "metadata": {
    "execution": {
     "iopub.execute_input": "2025-01-16T16:37:59.626729Z",
     "iopub.status.busy": "2025-01-16T16:37:59.626159Z",
     "iopub.status.idle": "2025-01-16T16:37:59.793560Z",
     "shell.execute_reply": "2025-01-16T16:37:59.792327Z"
    },
    "papermill": {
     "duration": 0.195095,
     "end_time": "2025-01-16T16:37:59.795306",
     "exception": false,
     "start_time": "2025-01-16T16:37:59.600211",
     "status": "completed"
    },
    "tags": []
   },
   "outputs": [
    {
     "data": {
      "image/png": "[encoded data removed]",
      "text/plain": [
       "<Figure size 640x480 with 1 Axes>"
      ]
     },
     "metadata": {},
     "output_type": "display_data"
    }
   ],
   "source": [
    "sns.countplot(x='Churn',data=df,palette='rocket_r',saturation=100)\n",
    "\n",
    "\n",
    "for p in plt.gca().patches:\n",
    "    height=p.get_height()\n",
    "    total=len(df)\n",
    "    percentage=(height*100)/total\n",
    "    plt.text(p.get_x() + p.get_width() / 2,height,f'{percentage:.2f}%',\n",
    "             ha='center',va='bottom',label=True)\n",
    "   \n",
    "plt.show()"
   ]
  },
  {
   "cell_type": "markdown",
   "id": "0844512e",
   "metadata": {
    "papermill": {
     "duration": 0.024706,
     "end_time": "2025-01-16T16:37:59.845686",
     "exception": false,
     "start_time": "2025-01-16T16:37:59.820980",
     "status": "completed"
    },
    "tags": []
   },
   "source": [
    "> Conclusion :\n",
    "\n",
    "> **26.58% are Churned Customers.**\n",
    "\n",
    "> **73.42% are Active Cutomers.**"
   ]
  },
  {
   "cell_type": "markdown",
   "id": "5972b8de",
   "metadata": {
    "papermill": {
     "duration": 0.024618,
     "end_time": "2025-01-16T16:37:59.895244",
     "exception": false,
     "start_time": "2025-01-16T16:37:59.870626",
     "status": "completed"
    },
    "tags": []
   },
   "source": [
    "**Most used internet service by the Churned Customers**\n",
    "\n",
    "* **Does the Internet sevice firm became a concern for the Churned Customers ?** "
   ]
  },
  {
   "cell_type": "code",
   "execution_count": 35,
   "id": "9fba6b11",
   "metadata": {
    "execution": {
     "iopub.execute_input": "2025-01-16T16:37:59.948958Z",
     "iopub.status.busy": "2025-01-16T16:37:59.948591Z",
     "iopub.status.idle": "2025-01-16T16:38:00.227547Z",
     "shell.execute_reply": "2025-01-16T16:38:00.226293Z"
    },
    "papermill": {
     "duration": 0.307614,
     "end_time": "2025-01-16T16:38:00.229362",
     "exception": false,
     "start_time": "2025-01-16T16:37:59.921748",
     "status": "completed"
    },
    "tags": []
   },
   "outputs": [
    {
     "data": {
      "image/png": "[encoded data removed]",
      "text/plain": [
       "<Figure size 500x500 with 1 Axes>"
      ]
     },
     "metadata": {},
     "output_type": "display_data"
    }
   ],
   "source": [
    "plt.figure(figsize=(5,5))\n",
    "sns.countplot(x='Churn',data=df,hue='InternetService',palette='rocket_r',saturation=10)\n",
    "\n",
    "for p in plt.gca().patches:  \n",
    "    height=p.get_height()\n",
    "    plt.text(p.get_x()+p.get_width()/2,height,int(height),ha='center',va='bottom')\n",
    "\n",
    "plt.title('Most used internet service by the Churned Customers')\n",
    "plt.show()\n",
    "    "
   ]
  },
  {
   "cell_type": "markdown",
   "id": "3da3cf72",
   "metadata": {
    "papermill": {
     "duration": 0.026896,
     "end_time": "2025-01-16T16:38:00.282452",
     "exception": false,
     "start_time": "2025-01-16T16:38:00.255556",
     "status": "completed"
    },
    "tags": []
   },
   "source": [
    ">CONCLUSION :\n",
    "\n",
    "> **A lot of customers choose the Fiber optic service and it's also evident that the customers who use Fiber optic have high churn rate, this might suggest a dissatisfaction with this type of internet service.**\n",
    "\n",
    "> **Customers having DSL service are majority in number and have less churn rate compared to Fibre optic service.**"
   ]
  },
  {
   "cell_type": "markdown",
   "id": "81293fc5",
   "metadata": {
    "papermill": {
     "duration": 0.025641,
     "end_time": "2025-01-16T16:38:00.333943",
     "exception": false,
     "start_time": "2025-01-16T16:38:00.308302",
     "status": "completed"
    },
    "tags": []
   },
   "source": [
    "**Tenure of Existing Customers vs Newly Joined Customers.**\n",
    "  \n",
    "  * **Which of the customers are more likely to churn Existing or Newly joined ?**"
   ]
  },
  {
   "cell_type": "code",
   "execution_count": 36,
   "id": "6f20af76",
   "metadata": {
    "execution": {
     "iopub.execute_input": "2025-01-16T16:38:00.386787Z",
     "iopub.status.busy": "2025-01-16T16:38:00.386407Z",
     "iopub.status.idle": "2025-01-16T16:38:00.614555Z",
     "shell.execute_reply": "2025-01-16T16:38:00.613285Z"
    },
    "papermill": {
     "duration": 0.256882,
     "end_time": "2025-01-16T16:38:00.616493",
     "exception": false,
     "start_time": "2025-01-16T16:38:00.359611",
     "status": "completed"
    },
    "tags": []
   },
   "outputs": [
    {
     "data": {
      "image/png": "[encoded data removed]",
      "text/plain": [
       "<Figure size 500x500 with 1 Axes>"
      ]
     },
     "metadata": {},
     "output_type": "display_data"
    }
   ],
   "source": [
    "plt.figure(figsize=(5,5))\n",
    "sns.boxplot(x='Churn',y='Tenure',data=df,palette='Purples',\n",
    "            showmeans=True,\n",
    "            medianprops={'color':\"white\"},\n",
    "            meanprops={'markerfacecolor':'black','markersize':10},saturation=100)\n",
    "plt.title('Tenure w.r.t Existing Customers vs Newly Joined Customers.')\n",
    "\n",
    "plt.grid()\n",
    "plt.show()"
   ]
  },
  {
   "cell_type": "markdown",
   "id": "4075d806",
   "metadata": {
    "papermill": {
     "duration": 0.028517,
     "end_time": "2025-01-16T16:38:00.672399",
     "exception": false,
     "start_time": "2025-01-16T16:38:00.643882",
     "status": "completed"
    },
    "tags": []
   },
   "source": [
    ">CONCLUSION :\n",
    "\n",
    "> The **Lowest mean(small triangle)** in churned customers plot tells that the new customers are more likely to unsubscribe the firm/service.\n"
   ]
  },
  {
   "cell_type": "code",
   "execution_count": 37,
   "id": "7c093442",
   "metadata": {
    "execution": {
     "iopub.execute_input": "2025-01-16T16:38:00.729368Z",
     "iopub.status.busy": "2025-01-16T16:38:00.728965Z",
     "iopub.status.idle": "2025-01-16T16:38:00.736590Z",
     "shell.execute_reply": "2025-01-16T16:38:00.735406Z"
    },
    "papermill": {
     "duration": 0.037948,
     "end_time": "2025-01-16T16:38:00.738482",
     "exception": false,
     "start_time": "2025-01-16T16:38:00.700534",
     "status": "completed"
    },
    "tags": []
   },
   "outputs": [
    {
     "data": {
      "text/plain": [
       "array([29.85, 56.95, 53.85, ..., 63.1 , 44.2 , 78.7 ])"
      ]
     },
     "execution_count": 37,
     "metadata": {},
     "output_type": "execute_result"
    }
   ],
   "source": [
    "df['MonthlyCharges'].unique()"
   ]
  },
  {
   "cell_type": "markdown",
   "id": "57060184",
   "metadata": {
    "papermill": {
     "duration": 0.026978,
     "end_time": "2025-01-16T16:38:00.792164",
     "exception": false,
     "start_time": "2025-01-16T16:38:00.765186",
     "status": "completed"
    },
    "tags": []
   },
   "source": [
    "**Monthly Charges w.r.t Active Users and Churned Users.**\n",
    "\n",
    " * **Does Monthly charges became a concern for churned users ?**"
   ]
  },
  {
   "cell_type": "code",
   "execution_count": 38,
   "id": "5b487df5",
   "metadata": {
    "execution": {
     "iopub.execute_input": "2025-01-16T16:38:00.847792Z",
     "iopub.status.busy": "2025-01-16T16:38:00.847426Z",
     "iopub.status.idle": "2025-01-16T16:38:01.161018Z",
     "shell.execute_reply": "2025-01-16T16:38:01.159762Z"
    },
    "papermill": {
     "duration": 0.343684,
     "end_time": "2025-01-16T16:38:01.163083",
     "exception": false,
     "start_time": "2025-01-16T16:38:00.819399",
     "status": "completed"
    },
    "tags": []
   },
   "outputs": [
    {
     "data": {
      "image/png": "[encoded data removed]",
      "text/plain": [
       "<Figure size 1000x500 with 1 Axes>"
      ]
     },
     "metadata": {},
     "output_type": "display_data"
    }
   ],
   "source": [
    "plt.figure(figsize=(10,5))\n",
    "sns.barplot(x='Churn',y='MonthlyCharges',data=df,palette='inferno')\n",
    "plt.title('Monthly Charges w.r.t Active Users and Churned Users.')\n",
    "\n",
    "plt.grid()\n",
    "plt.show()"
   ]
  },
  {
   "cell_type": "markdown",
   "id": "c34e051a",
   "metadata": {
    "papermill": {
     "duration": 0.027225,
     "end_time": "2025-01-16T16:38:01.219222",
     "exception": false,
     "start_time": "2025-01-16T16:38:01.191997",
     "status": "completed"
    },
    "tags": []
   },
   "source": [
    ">CONCLUSION :\n",
    "\n",
    "> **The Churned Users has to pay high monthly charges.** \n"
   ]
  },
  {
   "cell_type": "markdown",
   "id": "2584d474",
   "metadata": {
    "papermill": {
     "duration": 0.027142,
     "end_time": "2025-01-16T16:38:01.274182",
     "exception": false,
     "start_time": "2025-01-16T16:38:01.247040",
     "status": "completed"
    },
    "tags": []
   },
   "source": [
    "**Total Charges w.r.t Active Users and Churned Users.**\n",
    "\n",
    " * **Does the churned customers had to pay high total charges ?**"
   ]
  },
  {
   "cell_type": "code",
   "execution_count": 39,
   "id": "fa0ef4fa",
   "metadata": {
    "execution": {
     "iopub.execute_input": "2025-01-16T16:38:01.331070Z",
     "iopub.status.busy": "2025-01-16T16:38:01.330662Z",
     "iopub.status.idle": "2025-01-16T16:38:01.615824Z",
     "shell.execute_reply": "2025-01-16T16:38:01.614484Z"
    },
    "papermill": {
     "duration": 0.315886,
     "end_time": "2025-01-16T16:38:01.617973",
     "exception": false,
     "start_time": "2025-01-16T16:38:01.302087",
     "status": "completed"
    },
    "tags": []
   },
   "outputs": [
    {
     "data": {
      "image/png": "[encoded data removed]",
      "text/plain": [
       "<Figure size 800x500 with 1 Axes>"
      ]
     },
     "metadata": {},
     "output_type": "display_data"
    }
   ],
   "source": [
    "plt.figure(figsize=(8,5))\n",
    "sns.barplot(x='Churn',y='TotalCharges',data=df,palette='magma',saturation=100)\n",
    "\n",
    "for p in plt.gca().patches:\n",
    "    height=p.get_height()\n",
    "    plt.text(p.get_x()+p.get_width()/2,height,int(height),\n",
    "             ha='left',va='bottom')\n",
    "\n",
    "plt.title(\"Total Charges w.r.t Active Users and Churned Users.\")\n",
    "\n",
    "plt.grid()\n",
    "plt.show()"
   ]
  },
  {
   "cell_type": "markdown",
   "id": "54c9fbe2",
   "metadata": {
    "papermill": {
     "duration": 0.029074,
     "end_time": "2025-01-16T16:38:01.675989",
     "exception": false,
     "start_time": "2025-01-16T16:38:01.646915",
     "status": "completed"
    },
    "tags": []
   },
   "source": [
    ">CONCLUSION :\n",
    "\n",
    "> **The above plot suggest that, the churned customers had to pay less total charges since they were      discontinuing the service due to high monthly charges.**"
   ]
  },
  {
   "cell_type": "markdown",
   "id": "506c161f",
   "metadata": {
    "papermill": {
     "duration": 0.027932,
     "end_time": "2025-01-16T16:38:01.733378",
     "exception": false,
     "start_time": "2025-01-16T16:38:01.705446",
     "status": "completed"
    },
    "tags": []
   },
   "source": [
    "**Senior Citizens vs noraml users interms of switching off the service**\n",
    "\n",
    " * **What type of users usually become in-active ?**"
   ]
  },
  {
   "cell_type": "code",
   "execution_count": 40,
   "id": "9f280562",
   "metadata": {
    "execution": {
     "iopub.execute_input": "2025-01-16T16:38:01.791451Z",
     "iopub.status.busy": "2025-01-16T16:38:01.791009Z",
     "iopub.status.idle": "2025-01-16T16:38:02.025191Z",
     "shell.execute_reply": "2025-01-16T16:38:02.023943Z"
    },
    "papermill": {
     "duration": 0.265907,
     "end_time": "2025-01-16T16:38:02.026971",
     "exception": false,
     "start_time": "2025-01-16T16:38:01.761064",
     "status": "completed"
    },
    "tags": []
   },
   "outputs": [
    {
     "data": {
      "image/png": "[encoded data removed]",
      "text/plain": [
       "<Figure size 640x480 with 1 Axes>"
      ]
     },
     "metadata": {},
     "output_type": "display_data"
    }
   ],
   "source": [
    "sns.countplot(x='Churn',hue='SeniorCitizen',data=df,palette='ocean',dodge=False)\n",
    "\n",
    "for p in plt.gca().patches:\n",
    "    height=p.get_height()\n",
    "    plt.text(p.get_x()+p.get_width()/2,height,int(height),\n",
    "             ha='center',va='bottom',color='red')\n",
    "\n",
    "plt.grid()\n",
    "plt.title('Senior Citizens vs noraml users interms of switching off the service')\n",
    "plt.show()"
   ]
  },
  {
   "cell_type": "markdown",
   "id": "c828cefd",
   "metadata": {
    "papermill": {
     "duration": 0.078446,
     "end_time": "2025-01-16T16:38:02.135673",
     "exception": false,
     "start_time": "2025-01-16T16:38:02.057227",
     "status": "completed"
    },
    "tags": []
   },
   "source": [
    ">CONCLUSION :\n",
    "\n",
    "> **The above plot suggest that, out of the total users churned, most of the users are not senior citizens.**"
   ]
  },
  {
   "cell_type": "markdown",
   "id": "8c1a4b59",
   "metadata": {
    "papermill": {
     "duration": 0.030011,
     "end_time": "2025-01-16T16:38:02.194640",
     "exception": false,
     "start_time": "2025-01-16T16:38:02.164629",
     "status": "completed"
    },
    "tags": []
   },
   "source": [
    "**Partner w.r.t Churned users and Active Users.**\n",
    "\n",
    " * **Who have more partners(Male/female) and Is users with partners are more likely to churn or           not having any partner ?**"
   ]
  },
  {
   "cell_type": "code",
   "execution_count": 41,
   "id": "2fc9bde9",
   "metadata": {
    "execution": {
     "iopub.execute_input": "2025-01-16T16:38:02.255093Z",
     "iopub.status.busy": "2025-01-16T16:38:02.254713Z",
     "iopub.status.idle": "2025-01-16T16:38:02.698474Z",
     "shell.execute_reply": "2025-01-16T16:38:02.696867Z"
    },
    "papermill": {
     "duration": 0.476158,
     "end_time": "2025-01-16T16:38:02.700254",
     "exception": false,
     "start_time": "2025-01-16T16:38:02.224096",
     "status": "completed"
    },
    "tags": []
   },
   "outputs": [
    {
     "data": {
      "image/png": "[encoded data removed]",
      "text/plain": [
       "<Figure size 1500x500 with 2 Axes>"
      ]
     },
     "metadata": {},
     "output_type": "display_data"
    }
   ],
   "source": [
    "plt.figure(figsize=(15,5))\n",
    "\n",
    "#plot 1\n",
    "plt.subplot(1,2,1)\n",
    "\n",
    "plt.grid()\n",
    "plt.title('Partners w.r.t Male and Female')\n",
    "sns.countplot(x='gender',hue='Partner',palette='Oranges',data=df)\n",
    "for p in plt.gca().patches:\n",
    "    height=p.get_height()\n",
    "    plt.text(p.get_x()+p.get_width()/2,height,int(height),\n",
    "             ha='center',va='bottom',color='red')\n",
    "\n",
    "plt.legend(title='Partner',loc='lower right')\n",
    "\n",
    "\n",
    "#plot 2\n",
    "plt.subplot(1,2,2)\n",
    "sns.countplot(x='Churn',hue='Partner',data=df,palette='ocean',dodge=True)\n",
    "\n",
    "for p in plt.gca().patches:\n",
    "    height=p.get_height()\n",
    "    plt.text(p.get_x()+p.get_width()/2,height,int(height),\n",
    "             ha='center',va='bottom',color='red')\n",
    "\n",
    "plt.grid()\n",
    "plt.title('Partner w.r.t Churned Users and Active Users')\n",
    "\n",
    "plt.show()"
   ]
  },
  {
   "cell_type": "markdown",
   "id": "8d22d6b3",
   "metadata": {
    "papermill": {
     "duration": 0.02975,
     "end_time": "2025-01-16T16:38:02.760882",
     "exception": false,
     "start_time": "2025-01-16T16:38:02.731132",
     "status": "completed"
    },
    "tags": []
   },
   "source": [
    ">CONCLUSION :\n",
    "\n",
    "> **The 1st plot suggest that, Male have 1710 partners and Female have 1683 partners.**\n",
    "\n",
    "> **The 2nd plot suggest that, Users having no partners are more likely to churn.**"
   ]
  },
  {
   "cell_type": "markdown",
   "id": "92544d0b",
   "metadata": {
    "papermill": {
     "duration": 0.030036,
     "end_time": "2025-01-16T16:38:02.820983",
     "exception": false,
     "start_time": "2025-01-16T16:38:02.790947",
     "status": "completed"
    },
    "tags": []
   },
   "source": [
    "**Online Backup and Online Security**\n",
    "\n",
    " * **Does Online Security and Online backup is a concern for the churned users ?**"
   ]
  },
  {
   "cell_type": "code",
   "execution_count": 42,
   "id": "91dd081b",
   "metadata": {
    "execution": {
     "iopub.execute_input": "2025-01-16T16:38:02.883252Z",
     "iopub.status.busy": "2025-01-16T16:38:02.882836Z",
     "iopub.status.idle": "2025-01-16T16:38:03.439059Z",
     "shell.execute_reply": "2025-01-16T16:38:03.437961Z"
    },
    "papermill": {
     "duration": 0.58934,
     "end_time": "2025-01-16T16:38:03.440828",
     "exception": false,
     "start_time": "2025-01-16T16:38:02.851488",
     "status": "completed"
    },
    "tags": []
   },
   "outputs": [
    {
     "data": {
      "image/png": "[encoded data removed]",
      "text/plain": [
       "<Figure size 1200x800 with 2 Axes>"
      ]
     },
     "metadata": {},
     "output_type": "display_data"
    }
   ],
   "source": [
    "plt.figure(figsize=(12,8))\n",
    "\n",
    "#plot 1\n",
    "plt.subplot(1,2,1)\n",
    "sns.countplot(x='Churn',hue='OnlineBackup',data=df,palette='viridis',dodge=True,saturation=10)\n",
    "plt.title('Online Backup w.r.t Churned and Active Users')\n",
    "plt.legend(title='OnlineBackup',loc='upper right',fontsize='small')\n",
    "plt.grid()\n",
    "\n",
    "#plot 2\n",
    "plt.subplot(1,2,2)\n",
    "sns.countplot(x='Churn',hue='OnlineSecurity',data=df,palette='rocket_r',dodge=True,saturation=10)\n",
    "plt.title('Online Security w.r.t Churned and Active Users')\n",
    "plt.legend(title='OnlineSecurity',loc='upper right',fontsize='small')\n",
    "plt.grid()\n",
    "\n",
    "plt.show()"
   ]
  },
  {
   "cell_type": "markdown",
   "id": "a3663bd7",
   "metadata": {
    "papermill": {
     "duration": 0.033199,
     "end_time": "2025-01-16T16:38:03.506560",
     "exception": false,
     "start_time": "2025-01-16T16:38:03.473361",
     "status": "completed"
    },
    "tags": []
   },
   "source": [
    ">CONCLUSION :\n",
    "\n",
    "> **Users with less online security are more likely to churn.**\n",
    "\n",
    "> **Users with less online backup are more likely to churn.**"
   ]
  },
  {
   "cell_type": "markdown",
   "id": "7f005bac",
   "metadata": {
    "papermill": {
     "duration": 0.031617,
     "end_time": "2025-01-16T16:38:03.570524",
     "exception": false,
     "start_time": "2025-01-16T16:38:03.538907",
     "status": "completed"
    },
    "tags": []
   },
   "source": [
    "**Payment Method w.r.t Churned and Active Users**\n",
    "\n",
    " * **Most used Payment Method by the churned users ?**"
   ]
  },
  {
   "cell_type": "code",
   "execution_count": 43,
   "id": "0ca7d0f0",
   "metadata": {
    "execution": {
     "iopub.execute_input": "2025-01-16T16:38:03.635846Z",
     "iopub.status.busy": "2025-01-16T16:38:03.635471Z",
     "iopub.status.idle": "2025-01-16T16:38:03.923244Z",
     "shell.execute_reply": "2025-01-16T16:38:03.922018Z"
    },
    "papermill": {
     "duration": 0.322949,
     "end_time": "2025-01-16T16:38:03.925364",
     "exception": false,
     "start_time": "2025-01-16T16:38:03.602415",
     "status": "completed"
    },
    "tags": []
   },
   "outputs": [
    {
     "data": {
      "image/png": "[encoded data removed]",
      "text/plain": [
       "<Figure size 640x480 with 1 Axes>"
      ]
     },
     "metadata": {},
     "output_type": "display_data"
    }
   ],
   "source": [
    "sns.countplot(x='Churn',hue='PaymentMethod',data=df,palette='inferno',saturation=100)\n",
    "\n",
    "for p in plt.gca().patches:\n",
    "    height=p.get_height()\n",
    "    plt.text(p.get_x()+p.get_width()/2,height,int(height),\n",
    "             ha='center',va='bottom',color='red')\n",
    "\n",
    "plt.title('Payment Method w.r.t Churned and Active Users')\n",
    "plt.legend(title='PaymentMethod',fontsize=7)\n",
    "plt.grid()\n",
    "plt.show()"
   ]
  },
  {
   "cell_type": "markdown",
   "id": "150c6c43",
   "metadata": {
    "papermill": {
     "duration": 0.032824,
     "end_time": "2025-01-16T16:38:03.991966",
     "exception": false,
     "start_time": "2025-01-16T16:38:03.959142",
     "status": "completed"
    },
    "tags": []
   },
   "source": [
    ">CONCLUSION :\n",
    "\n",
    "> **Users performing transactions through \"Electronic Check Method\" are more likely to churn.**"
   ]
  },
  {
   "cell_type": "markdown",
   "id": "b2e8d5e8",
   "metadata": {
    "papermill": {
     "duration": 0.032767,
     "end_time": "2025-01-16T16:38:04.057922",
     "exception": false,
     "start_time": "2025-01-16T16:38:04.025155",
     "status": "completed"
    },
    "tags": []
   },
   "source": [
    "**Phone Service w.r.t Churned and Active Users**\n",
    "\n",
    " * **Does phone service feature, a concern for the churned customers ?**"
   ]
  },
  {
   "cell_type": "code",
   "execution_count": 44,
   "id": "59e0d785",
   "metadata": {
    "execution": {
     "iopub.execute_input": "2025-01-16T16:38:04.125975Z",
     "iopub.status.busy": "2025-01-16T16:38:04.125555Z",
     "iopub.status.idle": "2025-01-16T16:38:04.329026Z",
     "shell.execute_reply": "2025-01-16T16:38:04.327580Z"
    },
    "papermill": {
     "duration": 0.240498,
     "end_time": "2025-01-16T16:38:04.331166",
     "exception": false,
     "start_time": "2025-01-16T16:38:04.090668",
     "status": "completed"
    },
    "tags": []
   },
   "outputs": [
    {
     "data": {
      "image/png": "[encoded data removed]",
      "text/plain": [
       "<Figure size 640x480 with 1 Axes>"
      ]
     },
     "metadata": {},
     "output_type": "display_data"
    }
   ],
   "source": [
    "sns.countplot(x='Churn',hue='PhoneService',data=df,palette='inferno',saturation=100)\n",
    "\n",
    "total=len(df)\n",
    "\n",
    "for p in plt.gca().patches:\n",
    "    height=p.get_height()\n",
    "    percentage=(height*100)/total\n",
    "    plt.text(p.get_x()+p.get_width()/2,height,f'{percentage:.1f}%',\n",
    "             ha='center',va='bottom',color='red')\n",
    "\n",
    "plt.gca().set(title='Phone Service w.r.t Churned and Active Users')\n",
    "\n",
    "plt.grid()\n",
    "plt.show()\n"
   ]
  },
  {
   "cell_type": "markdown",
   "id": "7c3ce061",
   "metadata": {
    "execution": {
     "iopub.execute_input": "2025-01-14T15:37:20.627739Z",
     "iopub.status.busy": "2025-01-14T15:37:20.627278Z",
     "iopub.status.idle": "2025-01-14T15:37:20.634854Z",
     "shell.execute_reply": "2025-01-14T15:37:20.633361Z",
     "shell.execute_reply.started": "2025-01-14T15:37:20.627700Z"
    },
    "papermill": {
     "duration": 0.033345,
     "end_time": "2025-01-16T16:38:04.398272",
     "exception": false,
     "start_time": "2025-01-16T16:38:04.364927",
     "status": "completed"
    },
    "tags": []
   },
   "source": [
    ">CONCLUSION :\n",
    "\n",
    "> **Very few users don't use phone service ,so phone service is not a concern for the churned customers.**"
   ]
  },
  {
   "cell_type": "markdown",
   "id": "54227952",
   "metadata": {
    "execution": {
     "iopub.execute_input": "2025-01-14T15:43:08.799725Z",
     "iopub.status.busy": "2025-01-14T15:43:08.799215Z",
     "iopub.status.idle": "2025-01-14T15:43:08.806611Z",
     "shell.execute_reply": "2025-01-14T15:43:08.805171Z",
     "shell.execute_reply.started": "2025-01-14T15:43:08.799678Z"
    },
    "papermill": {
     "duration": 0.033012,
     "end_time": "2025-01-16T16:38:04.464627",
     "exception": false,
     "start_time": "2025-01-16T16:38:04.431615",
     "status": "completed"
    },
    "tags": []
   },
   "source": [
    "**Tech Support w.r.t Churned and Active Users**\n",
    "\n",
    " * **Does tech support feature, a concern for the churned customers ?**"
   ]
  },
  {
   "cell_type": "code",
   "execution_count": 45,
   "id": "8c1d06ce",
   "metadata": {
    "execution": {
     "iopub.execute_input": "2025-01-16T16:38:04.533015Z",
     "iopub.status.busy": "2025-01-16T16:38:04.532667Z",
     "iopub.status.idle": "2025-01-16T16:38:04.809543Z",
     "shell.execute_reply": "2025-01-16T16:38:04.807946Z"
    },
    "papermill": {
     "duration": 0.31345,
     "end_time": "2025-01-16T16:38:04.811603",
     "exception": false,
     "start_time": "2025-01-16T16:38:04.498153",
     "status": "completed"
    },
    "tags": []
   },
   "outputs": [
    {
     "data": {
      "image/png": "[encoded data removed]",
      "text/plain": [
       "<Figure size 640x480 with 1 Axes>"
      ]
     },
     "metadata": {},
     "output_type": "display_data"
    }
   ],
   "source": [
    "sns.countplot(x='Churn',hue='TechSupport',data=df,palette='inferno',saturation=100)\n",
    "\n",
    "total=len(df)\n",
    "\n",
    "for p in plt.gca().patches:\n",
    "    height=p.get_height()\n",
    "    percentage=(height*100)/total\n",
    "    plt.text(p.get_x()+p.get_width()/2,height,f'{percentage:.1f}%',\n",
    "             ha='center',va='bottom',color='red')\n",
    "\n",
    "plt.gca().set(title='Tech Support w.r.t Churned and Active Users')\n",
    "\n",
    "plt.grid()\n",
    "plt.show()"
   ]
  },
  {
   "cell_type": "markdown",
   "id": "b5fe6f06",
   "metadata": {
    "papermill": {
     "duration": 0.034283,
     "end_time": "2025-01-16T16:38:04.880706",
     "exception": false,
     "start_time": "2025-01-16T16:38:04.846423",
     "status": "completed"
    },
    "tags": []
   },
   "source": [
    ">CONCLUSION :\n",
    "\n",
    "> **Users with no tech support are more likely to Churn.**"
   ]
  },
  {
   "cell_type": "markdown",
   "id": "2b37b156",
   "metadata": {
    "papermill": {
     "duration": 0.0343,
     "end_time": "2025-01-16T16:38:04.949699",
     "exception": false,
     "start_time": "2025-01-16T16:38:04.915399",
     "status": "completed"
    },
    "tags": []
   },
   "source": [
    "**Contact w.r.t Churned and Active Users**\n",
    "\n",
    " * **Does service contracts reduce active customers ?**"
   ]
  },
  {
   "cell_type": "code",
   "execution_count": 46,
   "id": "8aa7a4d9",
   "metadata": {
    "execution": {
     "iopub.execute_input": "2025-01-16T16:38:05.023715Z",
     "iopub.status.busy": "2025-01-16T16:38:05.023340Z",
     "iopub.status.idle": "2025-01-16T16:38:05.252500Z",
     "shell.execute_reply": "2025-01-16T16:38:05.251346Z"
    },
    "papermill": {
     "duration": 0.270059,
     "end_time": "2025-01-16T16:38:05.254362",
     "exception": false,
     "start_time": "2025-01-16T16:38:04.984303",
     "status": "completed"
    },
    "tags": []
   },
   "outputs": [
    {
     "data": {
      "image/png": "[encoded data removed]",
      "text/plain": [
       "<Figure size 640x480 with 1 Axes>"
      ]
     },
     "metadata": {},
     "output_type": "display_data"
    }
   ],
   "source": [
    "sns.countplot(x='Churn',hue='Contract',data=df,palette='inferno',saturation=100)\n",
    "\n",
    "total=len(df)\n",
    "\n",
    "for p in plt.gca().patches:\n",
    "    height=p.get_height()\n",
    "    percentage=(height*100)/total\n",
    "    plt.text(p.get_x()+p.get_width()/2,height,f'{percentage:.1f}%',\n",
    "             ha='center',va='bottom',color='red')\n",
    "\n",
    "plt.gca().set(title='Contract w.r.t Churned and Active Users')\n",
    "\n",
    "plt.grid()\n",
    "plt.show()"
   ]
  },
  {
   "cell_type": "markdown",
   "id": "b10095d9",
   "metadata": {
    "papermill": {
     "duration": 0.03612,
     "end_time": "2025-01-16T16:38:05.326214",
     "exception": false,
     "start_time": "2025-01-16T16:38:05.290094",
     "status": "completed"
    },
    "tags": []
   },
   "source": [
    ">CONCLUSION :\n",
    "\n",
    "> **Users with month_to_month contracts are more likely to Churn while users with one year and two year contracts are less likely to churn.**"
   ]
  },
  {
   "cell_type": "code",
   "execution_count": 47,
   "id": "5eff69a9",
   "metadata": {
    "execution": {
     "iopub.execute_input": "2025-01-16T16:38:05.400840Z",
     "iopub.status.busy": "2025-01-16T16:38:05.400489Z",
     "iopub.status.idle": "2025-01-16T16:38:05.421025Z",
     "shell.execute_reply": "2025-01-16T16:38:05.419881Z"
    },
    "papermill": {
     "duration": 0.06023,
     "end_time": "2025-01-16T16:38:05.422997",
     "exception": false,
     "start_time": "2025-01-16T16:38:05.362767",
     "status": "completed"
    },
    "tags": []
   },
   "outputs": [
    {
     "data": {
      "text/html": [
       "<div>\n",
       "<style scoped>\n",
       "    .dataframe tbody tr th:only-of-type {\n",
       "        vertical-align: middle;\n",
       "    }\n",
       "\n",
       "    .dataframe tbody tr th {\n",
       "        vertical-align: top;\n",
       "    }\n",
       "\n",
       "    .dataframe thead th {\n",
       "        text-align: right;\n",
       "    }\n",
       "</style>\n",
       "<table border=\"1\" class=\"dataframe\">\n",
       "  <thead>\n",
       "    <tr style=\"text-align: right;\">\n",
       "      <th></th>\n",
       "      <th>gender</th>\n",
       "      <th>SeniorCitizen</th>\n",
       "      <th>Partner</th>\n",
       "      <th>Dependents</th>\n",
       "      <th>Tenure</th>\n",
       "      <th>PhoneService</th>\n",
       "      <th>MultipleLines</th>\n",
       "      <th>InternetService</th>\n",
       "      <th>OnlineSecurity</th>\n",
       "      <th>OnlineBackup</th>\n",
       "      <th>DeviceProtection</th>\n",
       "      <th>TechSupport</th>\n",
       "      <th>StreamingTV</th>\n",
       "      <th>StreamingMovies</th>\n",
       "      <th>Contract</th>\n",
       "      <th>PaperlessBilling</th>\n",
       "      <th>PaymentMethod</th>\n",
       "      <th>MonthlyCharges</th>\n",
       "      <th>TotalCharges</th>\n",
       "      <th>Churn</th>\n",
       "    </tr>\n",
       "  </thead>\n",
       "  <tbody>\n",
       "    <tr>\n",
       "      <th>0</th>\n",
       "      <td>Female</td>\n",
       "      <td>No</td>\n",
       "      <td>Yes</td>\n",
       "      <td>No</td>\n",
       "      <td>1</td>\n",
       "      <td>No</td>\n",
       "      <td>No phone service</td>\n",
       "      <td>DSL</td>\n",
       "      <td>No</td>\n",
       "      <td>Yes</td>\n",
       "      <td>No</td>\n",
       "      <td>No</td>\n",
       "      <td>No</td>\n",
       "      <td>No</td>\n",
       "      <td>Month-to-month</td>\n",
       "      <td>Yes</td>\n",
       "      <td>Electronic check</td>\n",
       "      <td>29.85</td>\n",
       "      <td>29.85</td>\n",
       "      <td>No</td>\n",
       "    </tr>\n",
       "    <tr>\n",
       "      <th>1</th>\n",
       "      <td>Male</td>\n",
       "      <td>No</td>\n",
       "      <td>No</td>\n",
       "      <td>No</td>\n",
       "      <td>34</td>\n",
       "      <td>Yes</td>\n",
       "      <td>No</td>\n",
       "      <td>DSL</td>\n",
       "      <td>Yes</td>\n",
       "      <td>No</td>\n",
       "      <td>Yes</td>\n",
       "      <td>No</td>\n",
       "      <td>No</td>\n",
       "      <td>No</td>\n",
       "      <td>One year</td>\n",
       "      <td>No</td>\n",
       "      <td>Mailed check</td>\n",
       "      <td>56.95</td>\n",
       "      <td>1889.50</td>\n",
       "      <td>No</td>\n",
       "    </tr>\n",
       "    <tr>\n",
       "      <th>2</th>\n",
       "      <td>Male</td>\n",
       "      <td>No</td>\n",
       "      <td>No</td>\n",
       "      <td>No</td>\n",
       "      <td>2</td>\n",
       "      <td>Yes</td>\n",
       "      <td>No</td>\n",
       "      <td>DSL</td>\n",
       "      <td>Yes</td>\n",
       "      <td>Yes</td>\n",
       "      <td>No</td>\n",
       "      <td>No</td>\n",
       "      <td>No</td>\n",
       "      <td>No</td>\n",
       "      <td>Month-to-month</td>\n",
       "      <td>Yes</td>\n",
       "      <td>Mailed check</td>\n",
       "      <td>53.85</td>\n",
       "      <td>108.15</td>\n",
       "      <td>Yes</td>\n",
       "    </tr>\n",
       "    <tr>\n",
       "      <th>3</th>\n",
       "      <td>Male</td>\n",
       "      <td>No</td>\n",
       "      <td>No</td>\n",
       "      <td>No</td>\n",
       "      <td>45</td>\n",
       "      <td>No</td>\n",
       "      <td>No phone service</td>\n",
       "      <td>DSL</td>\n",
       "      <td>Yes</td>\n",
       "      <td>No</td>\n",
       "      <td>Yes</td>\n",
       "      <td>Yes</td>\n",
       "      <td>No</td>\n",
       "      <td>No</td>\n",
       "      <td>One year</td>\n",
       "      <td>No</td>\n",
       "      <td>Bank transfer (automatic)</td>\n",
       "      <td>42.30</td>\n",
       "      <td>1840.75</td>\n",
       "      <td>No</td>\n",
       "    </tr>\n",
       "    <tr>\n",
       "      <th>4</th>\n",
       "      <td>Female</td>\n",
       "      <td>No</td>\n",
       "      <td>No</td>\n",
       "      <td>No</td>\n",
       "      <td>2</td>\n",
       "      <td>Yes</td>\n",
       "      <td>No</td>\n",
       "      <td>Fiber optic</td>\n",
       "      <td>No</td>\n",
       "      <td>No</td>\n",
       "      <td>No</td>\n",
       "      <td>No</td>\n",
       "      <td>No</td>\n",
       "      <td>No</td>\n",
       "      <td>Month-to-month</td>\n",
       "      <td>Yes</td>\n",
       "      <td>Electronic check</td>\n",
       "      <td>70.70</td>\n",
       "      <td>151.65</td>\n",
       "      <td>Yes</td>\n",
       "    </tr>\n",
       "  </tbody>\n",
       "</table>\n",
       "</div>"
      ],
      "text/plain": [
       "   gender SeniorCitizen Partner Dependents  Tenure PhoneService  \\\n",
       "0  Female            No     Yes         No       1           No   \n",
       "1    Male            No      No         No      34          Yes   \n",
       "2    Male            No      No         No       2          Yes   \n",
       "3    Male            No      No         No      45           No   \n",
       "4  Female            No      No         No       2          Yes   \n",
       "\n",
       "      MultipleLines InternetService OnlineSecurity OnlineBackup  \\\n",
       "0  No phone service             DSL             No          Yes   \n",
       "1                No             DSL            Yes           No   \n",
       "2                No             DSL            Yes          Yes   \n",
       "3  No phone service             DSL            Yes           No   \n",
       "4                No     Fiber optic             No           No   \n",
       "\n",
       "  DeviceProtection TechSupport StreamingTV StreamingMovies        Contract  \\\n",
       "0               No          No          No              No  Month-to-month   \n",
       "1              Yes          No          No              No        One year   \n",
       "2               No          No          No              No  Month-to-month   \n",
       "3              Yes         Yes          No              No        One year   \n",
       "4               No          No          No              No  Month-to-month   \n",
       "\n",
       "  PaperlessBilling              PaymentMethod  MonthlyCharges  TotalCharges  \\\n",
       "0              Yes           Electronic check           29.85         29.85   \n",
       "1               No               Mailed check           56.95       1889.50   \n",
       "2              Yes               Mailed check           53.85        108.15   \n",
       "3               No  Bank transfer (automatic)           42.30       1840.75   \n",
       "4              Yes           Electronic check           70.70        151.65   \n",
       "\n",
       "  Churn  \n",
       "0    No  \n",
       "1    No  \n",
       "2   Yes  \n",
       "3    No  \n",
       "4   Yes  "
      ]
     },
     "execution_count": 47,
     "metadata": {},
     "output_type": "execute_result"
    }
   ],
   "source": [
    "df.head()"
   ]
  },
  {
   "cell_type": "code",
   "execution_count": 48,
   "id": "7a36e676",
   "metadata": {
    "execution": {
     "iopub.execute_input": "2025-01-16T16:38:05.499290Z",
     "iopub.status.busy": "2025-01-16T16:38:05.498847Z",
     "iopub.status.idle": "2025-01-16T16:38:05.505468Z",
     "shell.execute_reply": "2025-01-16T16:38:05.504201Z"
    },
    "papermill": {
     "duration": 0.047891,
     "end_time": "2025-01-16T16:38:05.507419",
     "exception": false,
     "start_time": "2025-01-16T16:38:05.459528",
     "status": "completed"
    },
    "tags": []
   },
   "outputs": [
    {
     "data": {
      "text/plain": [
       "(7032, 20)"
      ]
     },
     "execution_count": 48,
     "metadata": {},
     "output_type": "execute_result"
    }
   ],
   "source": [
    "df.shape"
   ]
  },
  {
   "cell_type": "markdown",
   "id": "770ccb0e",
   "metadata": {
    "papermill": {
     "duration": 0.036317,
     "end_time": "2025-01-16T16:38:05.580051",
     "exception": false,
     "start_time": "2025-01-16T16:38:05.543734",
     "status": "completed"
    },
    "tags": []
   },
   "source": [
    "# Data Preprocessing."
   ]
  },
  {
   "cell_type": "markdown",
   "id": "27a134c0",
   "metadata": {
    "papermill": {
     "duration": 0.03692,
     "end_time": "2025-01-16T16:38:05.652930",
     "exception": false,
     "start_time": "2025-01-16T16:38:05.616010",
     "status": "completed"
    },
    "tags": []
   },
   "source": [
    "> **We need to convert categorical columns to numeric values for model training.**"
   ]
  },
  {
   "cell_type": "code",
   "execution_count": 49,
   "id": "8f9a8e27",
   "metadata": {
    "execution": {
     "iopub.execute_input": "2025-01-16T16:38:05.726716Z",
     "iopub.status.busy": "2025-01-16T16:38:05.726317Z",
     "iopub.status.idle": "2025-01-16T16:38:05.776740Z",
     "shell.execute_reply": "2025-01-16T16:38:05.775496Z"
    },
    "papermill": {
     "duration": 0.090035,
     "end_time": "2025-01-16T16:38:05.778823",
     "exception": false,
     "start_time": "2025-01-16T16:38:05.688788",
     "status": "completed"
    },
    "tags": []
   },
   "outputs": [
    {
     "data": {
      "text/html": [
       "<div>\n",
       "<style scoped>\n",
       "    .dataframe tbody tr th:only-of-type {\n",
       "        vertical-align: middle;\n",
       "    }\n",
       "\n",
       "    .dataframe tbody tr th {\n",
       "        vertical-align: top;\n",
       "    }\n",
       "\n",
       "    .dataframe thead th {\n",
       "        text-align: right;\n",
       "    }\n",
       "</style>\n",
       "<table border=\"1\" class=\"dataframe\">\n",
       "  <thead>\n",
       "    <tr style=\"text-align: right;\">\n",
       "      <th></th>\n",
       "      <th>gender</th>\n",
       "      <th>SeniorCitizen</th>\n",
       "      <th>Partner</th>\n",
       "      <th>Dependents</th>\n",
       "      <th>Tenure</th>\n",
       "      <th>PhoneService</th>\n",
       "      <th>MultipleLines</th>\n",
       "      <th>OnlineSecurity</th>\n",
       "      <th>OnlineBackup</th>\n",
       "      <th>DeviceProtection</th>\n",
       "      <th>...</th>\n",
       "      <th>InternetService_DSL</th>\n",
       "      <th>InternetService_Fiber optic</th>\n",
       "      <th>InternetService_No</th>\n",
       "      <th>Contract_Month-to-month</th>\n",
       "      <th>Contract_One year</th>\n",
       "      <th>Contract_Two year</th>\n",
       "      <th>PaymentMethod_Bank transfer (automatic)</th>\n",
       "      <th>PaymentMethod_Credit card (automatic)</th>\n",
       "      <th>PaymentMethod_Electronic check</th>\n",
       "      <th>PaymentMethod_Mailed check</th>\n",
       "    </tr>\n",
       "  </thead>\n",
       "  <tbody>\n",
       "    <tr>\n",
       "      <th>0</th>\n",
       "      <td>0</td>\n",
       "      <td>0</td>\n",
       "      <td>1</td>\n",
       "      <td>0</td>\n",
       "      <td>1</td>\n",
       "      <td>0</td>\n",
       "      <td>No phone service</td>\n",
       "      <td>No</td>\n",
       "      <td>Yes</td>\n",
       "      <td>No</td>\n",
       "      <td>...</td>\n",
       "      <td>True</td>\n",
       "      <td>False</td>\n",
       "      <td>False</td>\n",
       "      <td>True</td>\n",
       "      <td>False</td>\n",
       "      <td>False</td>\n",
       "      <td>False</td>\n",
       "      <td>False</td>\n",
       "      <td>True</td>\n",
       "      <td>False</td>\n",
       "    </tr>\n",
       "    <tr>\n",
       "      <th>1</th>\n",
       "      <td>1</td>\n",
       "      <td>0</td>\n",
       "      <td>0</td>\n",
       "      <td>0</td>\n",
       "      <td>34</td>\n",
       "      <td>1</td>\n",
       "      <td>No</td>\n",
       "      <td>Yes</td>\n",
       "      <td>No</td>\n",
       "      <td>Yes</td>\n",
       "      <td>...</td>\n",
       "      <td>True</td>\n",
       "      <td>False</td>\n",
       "      <td>False</td>\n",
       "      <td>False</td>\n",
       "      <td>True</td>\n",
       "      <td>False</td>\n",
       "      <td>False</td>\n",
       "      <td>False</td>\n",
       "      <td>False</td>\n",
       "      <td>True</td>\n",
       "    </tr>\n",
       "    <tr>\n",
       "      <th>2</th>\n",
       "      <td>1</td>\n",
       "      <td>0</td>\n",
       "      <td>0</td>\n",
       "      <td>0</td>\n",
       "      <td>2</td>\n",
       "      <td>1</td>\n",
       "      <td>No</td>\n",
       "      <td>Yes</td>\n",
       "      <td>Yes</td>\n",
       "      <td>No</td>\n",
       "      <td>...</td>\n",
       "      <td>True</td>\n",
       "      <td>False</td>\n",
       "      <td>False</td>\n",
       "      <td>True</td>\n",
       "      <td>False</td>\n",
       "      <td>False</td>\n",
       "      <td>False</td>\n",
       "      <td>False</td>\n",
       "      <td>False</td>\n",
       "      <td>True</td>\n",
       "    </tr>\n",
       "    <tr>\n",
       "      <th>3</th>\n",
       "      <td>1</td>\n",
       "      <td>0</td>\n",
       "      <td>0</td>\n",
       "      <td>0</td>\n",
       "      <td>45</td>\n",
       "      <td>0</td>\n",
       "      <td>No phone service</td>\n",
       "      <td>Yes</td>\n",
       "      <td>No</td>\n",
       "      <td>Yes</td>\n",
       "      <td>...</td>\n",
       "      <td>True</td>\n",
       "      <td>False</td>\n",
       "      <td>False</td>\n",
       "      <td>False</td>\n",
       "      <td>True</td>\n",
       "      <td>False</td>\n",
       "      <td>True</td>\n",
       "      <td>False</td>\n",
       "      <td>False</td>\n",
       "      <td>False</td>\n",
       "    </tr>\n",
       "    <tr>\n",
       "      <th>4</th>\n",
       "      <td>0</td>\n",
       "      <td>0</td>\n",
       "      <td>0</td>\n",
       "      <td>0</td>\n",
       "      <td>2</td>\n",
       "      <td>1</td>\n",
       "      <td>No</td>\n",
       "      <td>No</td>\n",
       "      <td>No</td>\n",
       "      <td>No</td>\n",
       "      <td>...</td>\n",
       "      <td>False</td>\n",
       "      <td>True</td>\n",
       "      <td>False</td>\n",
       "      <td>True</td>\n",
       "      <td>False</td>\n",
       "      <td>False</td>\n",
       "      <td>False</td>\n",
       "      <td>False</td>\n",
       "      <td>True</td>\n",
       "      <td>False</td>\n",
       "    </tr>\n",
       "    <tr>\n",
       "      <th>...</th>\n",
       "      <td>...</td>\n",
       "      <td>...</td>\n",
       "      <td>...</td>\n",
       "      <td>...</td>\n",
       "      <td>...</td>\n",
       "      <td>...</td>\n",
       "      <td>...</td>\n",
       "      <td>...</td>\n",
       "      <td>...</td>\n",
       "      <td>...</td>\n",
       "      <td>...</td>\n",
       "      <td>...</td>\n",
       "      <td>...</td>\n",
       "      <td>...</td>\n",
       "      <td>...</td>\n",
       "      <td>...</td>\n",
       "      <td>...</td>\n",
       "      <td>...</td>\n",
       "      <td>...</td>\n",
       "      <td>...</td>\n",
       "      <td>...</td>\n",
       "    </tr>\n",
       "    <tr>\n",
       "      <th>7038</th>\n",
       "      <td>1</td>\n",
       "      <td>0</td>\n",
       "      <td>1</td>\n",
       "      <td>1</td>\n",
       "      <td>24</td>\n",
       "      <td>1</td>\n",
       "      <td>Yes</td>\n",
       "      <td>Yes</td>\n",
       "      <td>No</td>\n",
       "      <td>Yes</td>\n",
       "      <td>...</td>\n",
       "      <td>True</td>\n",
       "      <td>False</td>\n",
       "      <td>False</td>\n",
       "      <td>False</td>\n",
       "      <td>True</td>\n",
       "      <td>False</td>\n",
       "      <td>False</td>\n",
       "      <td>False</td>\n",
       "      <td>False</td>\n",
       "      <td>True</td>\n",
       "    </tr>\n",
       "    <tr>\n",
       "      <th>7039</th>\n",
       "      <td>0</td>\n",
       "      <td>0</td>\n",
       "      <td>1</td>\n",
       "      <td>1</td>\n",
       "      <td>72</td>\n",
       "      <td>1</td>\n",
       "      <td>Yes</td>\n",
       "      <td>No</td>\n",
       "      <td>Yes</td>\n",
       "      <td>Yes</td>\n",
       "      <td>...</td>\n",
       "      <td>False</td>\n",
       "      <td>True</td>\n",
       "      <td>False</td>\n",
       "      <td>False</td>\n",
       "      <td>True</td>\n",
       "      <td>False</td>\n",
       "      <td>False</td>\n",
       "      <td>True</td>\n",
       "      <td>False</td>\n",
       "      <td>False</td>\n",
       "    </tr>\n",
       "    <tr>\n",
       "      <th>7040</th>\n",
       "      <td>0</td>\n",
       "      <td>0</td>\n",
       "      <td>1</td>\n",
       "      <td>1</td>\n",
       "      <td>11</td>\n",
       "      <td>0</td>\n",
       "      <td>No phone service</td>\n",
       "      <td>Yes</td>\n",
       "      <td>No</td>\n",
       "      <td>No</td>\n",
       "      <td>...</td>\n",
       "      <td>True</td>\n",
       "      <td>False</td>\n",
       "      <td>False</td>\n",
       "      <td>True</td>\n",
       "      <td>False</td>\n",
       "      <td>False</td>\n",
       "      <td>False</td>\n",
       "      <td>False</td>\n",
       "      <td>True</td>\n",
       "      <td>False</td>\n",
       "    </tr>\n",
       "    <tr>\n",
       "      <th>7041</th>\n",
       "      <td>1</td>\n",
       "      <td>1</td>\n",
       "      <td>1</td>\n",
       "      <td>0</td>\n",
       "      <td>4</td>\n",
       "      <td>1</td>\n",
       "      <td>Yes</td>\n",
       "      <td>No</td>\n",
       "      <td>No</td>\n",
       "      <td>No</td>\n",
       "      <td>...</td>\n",
       "      <td>False</td>\n",
       "      <td>True</td>\n",
       "      <td>False</td>\n",
       "      <td>True</td>\n",
       "      <td>False</td>\n",
       "      <td>False</td>\n",
       "      <td>False</td>\n",
       "      <td>False</td>\n",
       "      <td>False</td>\n",
       "      <td>True</td>\n",
       "    </tr>\n",
       "    <tr>\n",
       "      <th>7042</th>\n",
       "      <td>1</td>\n",
       "      <td>0</td>\n",
       "      <td>0</td>\n",
       "      <td>0</td>\n",
       "      <td>66</td>\n",
       "      <td>1</td>\n",
       "      <td>No</td>\n",
       "      <td>Yes</td>\n",
       "      <td>No</td>\n",
       "      <td>Yes</td>\n",
       "      <td>...</td>\n",
       "      <td>False</td>\n",
       "      <td>True</td>\n",
       "      <td>False</td>\n",
       "      <td>False</td>\n",
       "      <td>False</td>\n",
       "      <td>True</td>\n",
       "      <td>True</td>\n",
       "      <td>False</td>\n",
       "      <td>False</td>\n",
       "      <td>False</td>\n",
       "    </tr>\n",
       "  </tbody>\n",
       "</table>\n",
       "<p>7032 rows × 27 columns</p>\n",
       "</div>"
      ],
      "text/plain": [
       "      gender  SeniorCitizen  Partner  Dependents  Tenure  PhoneService  \\\n",
       "0          0              0        1           0       1             0   \n",
       "1          1              0        0           0      34             1   \n",
       "2          1              0        0           0       2             1   \n",
       "3          1              0        0           0      45             0   \n",
       "4          0              0        0           0       2             1   \n",
       "...      ...            ...      ...         ...     ...           ...   \n",
       "7038       1              0        1           1      24             1   \n",
       "7039       0              0        1           1      72             1   \n",
       "7040       0              0        1           1      11             0   \n",
       "7041       1              1        1           0       4             1   \n",
       "7042       1              0        0           0      66             1   \n",
       "\n",
       "         MultipleLines OnlineSecurity OnlineBackup DeviceProtection  ...  \\\n",
       "0     No phone service             No          Yes               No  ...   \n",
       "1                   No            Yes           No              Yes  ...   \n",
       "2                   No            Yes          Yes               No  ...   \n",
       "3     No phone service            Yes           No              Yes  ...   \n",
       "4                   No             No           No               No  ...   \n",
       "...                ...            ...          ...              ...  ...   \n",
       "7038               Yes            Yes           No              Yes  ...   \n",
       "7039               Yes             No          Yes              Yes  ...   \n",
       "7040  No phone service            Yes           No               No  ...   \n",
       "7041               Yes             No           No               No  ...   \n",
       "7042                No            Yes           No              Yes  ...   \n",
       "\n",
       "     InternetService_DSL InternetService_Fiber optic InternetService_No  \\\n",
       "0                   True                       False              False   \n",
       "1                   True                       False              False   \n",
       "2                   True                       False              False   \n",
       "3                   True                       False              False   \n",
       "4                  False                        True              False   \n",
       "...                  ...                         ...                ...   \n",
       "7038                True                       False              False   \n",
       "7039               False                        True              False   \n",
       "7040                True                       False              False   \n",
       "7041               False                        True              False   \n",
       "7042               False                        True              False   \n",
       "\n",
       "      Contract_Month-to-month  Contract_One year  Contract_Two year  \\\n",
       "0                        True              False              False   \n",
       "1                       False               True              False   \n",
       "2                        True              False              False   \n",
       "3                       False               True              False   \n",
       "4                        True              False              False   \n",
       "...                       ...                ...                ...   \n",
       "7038                    False               True              False   \n",
       "7039                    False               True              False   \n",
       "7040                     True              False              False   \n",
       "7041                     True              False              False   \n",
       "7042                    False              False               True   \n",
       "\n",
       "      PaymentMethod_Bank transfer (automatic)  \\\n",
       "0                                       False   \n",
       "1                                       False   \n",
       "2                                       False   \n",
       "3                                        True   \n",
       "4                                       False   \n",
       "...                                       ...   \n",
       "7038                                    False   \n",
       "7039                                    False   \n",
       "7040                                    False   \n",
       "7041                                    False   \n",
       "7042                                     True   \n",
       "\n",
       "      PaymentMethod_Credit card (automatic)  PaymentMethod_Electronic check  \\\n",
       "0                                     False                            True   \n",
       "1                                     False                           False   \n",
       "2                                     False                           False   \n",
       "3                                     False                           False   \n",
       "4                                     False                            True   \n",
       "...                                     ...                             ...   \n",
       "7038                                  False                           False   \n",
       "7039                                   True                           False   \n",
       "7040                                  False                            True   \n",
       "7041                                  False                           False   \n",
       "7042                                  False                           False   \n",
       "\n",
       "      PaymentMethod_Mailed check  \n",
       "0                          False  \n",
       "1                           True  \n",
       "2                           True  \n",
       "3                          False  \n",
       "4                          False  \n",
       "...                          ...  \n",
       "7038                        True  \n",
       "7039                       False  \n",
       "7040                       False  \n",
       "7041                        True  \n",
       "7042                       False  \n",
       "\n",
       "[7032 rows x 27 columns]"
      ]
     },
     "execution_count": 49,
     "metadata": {},
     "output_type": "execute_result"
    }
   ],
   "source": [
    "# Label encoding for binary columns\n",
    "df['gender'] = LabelEncoder().fit_transform(df['gender'])\n",
    "df['SeniorCitizen'] = LabelEncoder().fit_transform(df['SeniorCitizen'])\n",
    "df['Partner'] = LabelEncoder().fit_transform(df['Partner'])\n",
    "df['Dependents'] = LabelEncoder().fit_transform(df['Dependents'])\n",
    "df['PhoneService'] = LabelEncoder().fit_transform(df['PhoneService'])\n",
    "df['PaperlessBilling'] = LabelEncoder().fit_transform(df['PaperlessBilling'])\n",
    "df['Churn'] = LabelEncoder().fit_transform(df['Churn'])\n",
    "\n",
    "# for multi-class columns\n",
    "df = pd.get_dummies(df, columns=['InternetService', 'Contract', 'PaymentMethod'])\n",
    "df"
   ]
  },
  {
   "cell_type": "code",
   "execution_count": 50,
   "id": "7cfc56fd",
   "metadata": {
    "execution": {
     "iopub.execute_input": "2025-01-16T16:38:05.856032Z",
     "iopub.status.busy": "2025-01-16T16:38:05.855691Z",
     "iopub.status.idle": "2025-01-16T16:38:05.862140Z",
     "shell.execute_reply": "2025-01-16T16:38:05.860869Z"
    },
    "papermill": {
     "duration": 0.047395,
     "end_time": "2025-01-16T16:38:05.864007",
     "exception": false,
     "start_time": "2025-01-16T16:38:05.816612",
     "status": "completed"
    },
    "tags": []
   },
   "outputs": [
    {
     "data": {
      "text/plain": [
       "(7032, 27)"
      ]
     },
     "execution_count": 50,
     "metadata": {},
     "output_type": "execute_result"
    }
   ],
   "source": [
    "df.shape"
   ]
  },
  {
   "cell_type": "markdown",
   "id": "9e63e715",
   "metadata": {
    "papermill": {
     "duration": 0.036718,
     "end_time": "2025-01-16T16:38:05.937539",
     "exception": false,
     "start_time": "2025-01-16T16:38:05.900821",
     "status": "completed"
    },
    "tags": []
   },
   "source": [
    "> **Feature's column's encoding --> custom encoding is done here since it contains 3 categorical values.**"
   ]
  },
  {
   "cell_type": "code",
   "execution_count": 51,
   "id": "a48338d5",
   "metadata": {
    "execution": {
     "iopub.execute_input": "2025-01-16T16:38:06.013794Z",
     "iopub.status.busy": "2025-01-16T16:38:06.013445Z",
     "iopub.status.idle": "2025-01-16T16:38:06.045926Z",
     "shell.execute_reply": "2025-01-16T16:38:06.044621Z"
    },
    "papermill": {
     "duration": 0.072199,
     "end_time": "2025-01-16T16:38:06.047728",
     "exception": false,
     "start_time": "2025-01-16T16:38:05.975529",
     "status": "completed"
    },
    "tags": []
   },
   "outputs": [
    {
     "name": "stdout",
     "output_type": "stream",
     "text": [
      "   OnlineSecurity  OnlineBackup  DeviceProtection  TechSupport  StreamingTV  \\\n",
      "0               0             1                 0            0            0   \n",
      "1               1             0                 1            0            0   \n",
      "2               1             1                 0            0            0   \n",
      "3               1             0                 1            1            0   \n",
      "4               0             0                 0            0            0   \n",
      "\n",
      "   StreamingMovies  \n",
      "0                0  \n",
      "1                0  \n",
      "2                0  \n",
      "3                0  \n",
      "4                0  \n"
     ]
    }
   ],
   "source": [
    "def custom_encode(column):\n",
    "    return column.replace({'Yes': 1, 'No': 0, 'No internet service': 0})\n",
    "\n",
    "# Custom encoding to relevant columns\n",
    "columns_to_encode = ['OnlineSecurity', 'OnlineBackup', 'DeviceProtection', 'TechSupport', 'StreamingTV', 'StreamingMovies']\n",
    "for col in columns_to_encode:\n",
    "    df[col] = custom_encode(df[col])\n",
    "\n",
    "# Check the transformed data\n",
    "print(df[columns_to_encode].head())\n"
   ]
  },
  {
   "cell_type": "code",
   "execution_count": 52,
   "id": "8df5e68c",
   "metadata": {
    "execution": {
     "iopub.execute_input": "2025-01-16T16:38:06.123473Z",
     "iopub.status.busy": "2025-01-16T16:38:06.123043Z",
     "iopub.status.idle": "2025-01-16T16:38:06.144590Z",
     "shell.execute_reply": "2025-01-16T16:38:06.143359Z"
    },
    "papermill": {
     "duration": 0.061208,
     "end_time": "2025-01-16T16:38:06.146441",
     "exception": false,
     "start_time": "2025-01-16T16:38:06.085233",
     "status": "completed"
    },
    "tags": []
   },
   "outputs": [
    {
     "data": {
      "text/html": [
       "<div>\n",
       "<style scoped>\n",
       "    .dataframe tbody tr th:only-of-type {\n",
       "        vertical-align: middle;\n",
       "    }\n",
       "\n",
       "    .dataframe tbody tr th {\n",
       "        vertical-align: top;\n",
       "    }\n",
       "\n",
       "    .dataframe thead th {\n",
       "        text-align: right;\n",
       "    }\n",
       "</style>\n",
       "<table border=\"1\" class=\"dataframe\">\n",
       "  <thead>\n",
       "    <tr style=\"text-align: right;\">\n",
       "      <th></th>\n",
       "      <th>gender</th>\n",
       "      <th>SeniorCitizen</th>\n",
       "      <th>Partner</th>\n",
       "      <th>Dependents</th>\n",
       "      <th>Tenure</th>\n",
       "      <th>PhoneService</th>\n",
       "      <th>MultipleLines</th>\n",
       "      <th>OnlineSecurity</th>\n",
       "      <th>OnlineBackup</th>\n",
       "      <th>DeviceProtection</th>\n",
       "      <th>...</th>\n",
       "      <th>InternetService_DSL</th>\n",
       "      <th>InternetService_Fiber optic</th>\n",
       "      <th>InternetService_No</th>\n",
       "      <th>Contract_Month-to-month</th>\n",
       "      <th>Contract_One year</th>\n",
       "      <th>Contract_Two year</th>\n",
       "      <th>PaymentMethod_Bank transfer (automatic)</th>\n",
       "      <th>PaymentMethod_Credit card (automatic)</th>\n",
       "      <th>PaymentMethod_Electronic check</th>\n",
       "      <th>PaymentMethod_Mailed check</th>\n",
       "    </tr>\n",
       "  </thead>\n",
       "  <tbody>\n",
       "    <tr>\n",
       "      <th>0</th>\n",
       "      <td>0</td>\n",
       "      <td>0</td>\n",
       "      <td>1</td>\n",
       "      <td>0</td>\n",
       "      <td>1</td>\n",
       "      <td>0</td>\n",
       "      <td>No phone service</td>\n",
       "      <td>0</td>\n",
       "      <td>1</td>\n",
       "      <td>0</td>\n",
       "      <td>...</td>\n",
       "      <td>True</td>\n",
       "      <td>False</td>\n",
       "      <td>False</td>\n",
       "      <td>True</td>\n",
       "      <td>False</td>\n",
       "      <td>False</td>\n",
       "      <td>False</td>\n",
       "      <td>False</td>\n",
       "      <td>True</td>\n",
       "      <td>False</td>\n",
       "    </tr>\n",
       "    <tr>\n",
       "      <th>1</th>\n",
       "      <td>1</td>\n",
       "      <td>0</td>\n",
       "      <td>0</td>\n",
       "      <td>0</td>\n",
       "      <td>34</td>\n",
       "      <td>1</td>\n",
       "      <td>No</td>\n",
       "      <td>1</td>\n",
       "      <td>0</td>\n",
       "      <td>1</td>\n",
       "      <td>...</td>\n",
       "      <td>True</td>\n",
       "      <td>False</td>\n",
       "      <td>False</td>\n",
       "      <td>False</td>\n",
       "      <td>True</td>\n",
       "      <td>False</td>\n",
       "      <td>False</td>\n",
       "      <td>False</td>\n",
       "      <td>False</td>\n",
       "      <td>True</td>\n",
       "    </tr>\n",
       "    <tr>\n",
       "      <th>2</th>\n",
       "      <td>1</td>\n",
       "      <td>0</td>\n",
       "      <td>0</td>\n",
       "      <td>0</td>\n",
       "      <td>2</td>\n",
       "      <td>1</td>\n",
       "      <td>No</td>\n",
       "      <td>1</td>\n",
       "      <td>1</td>\n",
       "      <td>0</td>\n",
       "      <td>...</td>\n",
       "      <td>True</td>\n",
       "      <td>False</td>\n",
       "      <td>False</td>\n",
       "      <td>True</td>\n",
       "      <td>False</td>\n",
       "      <td>False</td>\n",
       "      <td>False</td>\n",
       "      <td>False</td>\n",
       "      <td>False</td>\n",
       "      <td>True</td>\n",
       "    </tr>\n",
       "    <tr>\n",
       "      <th>3</th>\n",
       "      <td>1</td>\n",
       "      <td>0</td>\n",
       "      <td>0</td>\n",
       "      <td>0</td>\n",
       "      <td>45</td>\n",
       "      <td>0</td>\n",
       "      <td>No phone service</td>\n",
       "      <td>1</td>\n",
       "      <td>0</td>\n",
       "      <td>1</td>\n",
       "      <td>...</td>\n",
       "      <td>True</td>\n",
       "      <td>False</td>\n",
       "      <td>False</td>\n",
       "      <td>False</td>\n",
       "      <td>True</td>\n",
       "      <td>False</td>\n",
       "      <td>True</td>\n",
       "      <td>False</td>\n",
       "      <td>False</td>\n",
       "      <td>False</td>\n",
       "    </tr>\n",
       "    <tr>\n",
       "      <th>4</th>\n",
       "      <td>0</td>\n",
       "      <td>0</td>\n",
       "      <td>0</td>\n",
       "      <td>0</td>\n",
       "      <td>2</td>\n",
       "      <td>1</td>\n",
       "      <td>No</td>\n",
       "      <td>0</td>\n",
       "      <td>0</td>\n",
       "      <td>0</td>\n",
       "      <td>...</td>\n",
       "      <td>False</td>\n",
       "      <td>True</td>\n",
       "      <td>False</td>\n",
       "      <td>True</td>\n",
       "      <td>False</td>\n",
       "      <td>False</td>\n",
       "      <td>False</td>\n",
       "      <td>False</td>\n",
       "      <td>True</td>\n",
       "      <td>False</td>\n",
       "    </tr>\n",
       "  </tbody>\n",
       "</table>\n",
       "<p>5 rows × 27 columns</p>\n",
       "</div>"
      ],
      "text/plain": [
       "   gender  SeniorCitizen  Partner  Dependents  Tenure  PhoneService  \\\n",
       "0       0              0        1           0       1             0   \n",
       "1       1              0        0           0      34             1   \n",
       "2       1              0        0           0       2             1   \n",
       "3       1              0        0           0      45             0   \n",
       "4       0              0        0           0       2             1   \n",
       "\n",
       "      MultipleLines  OnlineSecurity  OnlineBackup  DeviceProtection  ...  \\\n",
       "0  No phone service               0             1                 0  ...   \n",
       "1                No               1             0                 1  ...   \n",
       "2                No               1             1                 0  ...   \n",
       "3  No phone service               1             0                 1  ...   \n",
       "4                No               0             0                 0  ...   \n",
       "\n",
       "   InternetService_DSL  InternetService_Fiber optic  InternetService_No  \\\n",
       "0                 True                        False               False   \n",
       "1                 True                        False               False   \n",
       "2                 True                        False               False   \n",
       "3                 True                        False               False   \n",
       "4                False                         True               False   \n",
       "\n",
       "   Contract_Month-to-month  Contract_One year  Contract_Two year  \\\n",
       "0                     True              False              False   \n",
       "1                    False               True              False   \n",
       "2                     True              False              False   \n",
       "3                    False               True              False   \n",
       "4                     True              False              False   \n",
       "\n",
       "   PaymentMethod_Bank transfer (automatic)  \\\n",
       "0                                    False   \n",
       "1                                    False   \n",
       "2                                    False   \n",
       "3                                     True   \n",
       "4                                    False   \n",
       "\n",
       "   PaymentMethod_Credit card (automatic)  PaymentMethod_Electronic check  \\\n",
       "0                                  False                            True   \n",
       "1                                  False                           False   \n",
       "2                                  False                           False   \n",
       "3                                  False                           False   \n",
       "4                                  False                            True   \n",
       "\n",
       "   PaymentMethod_Mailed check  \n",
       "0                       False  \n",
       "1                        True  \n",
       "2                        True  \n",
       "3                       False  \n",
       "4                       False  \n",
       "\n",
       "[5 rows x 27 columns]"
      ]
     },
     "execution_count": 52,
     "metadata": {},
     "output_type": "execute_result"
    }
   ],
   "source": [
    "df.head()"
   ]
  },
  {
   "cell_type": "markdown",
   "id": "ef0e7668",
   "metadata": {
    "papermill": {
     "duration": 0.038079,
     "end_time": "2025-01-16T16:38:06.221715",
     "exception": false,
     "start_time": "2025-01-16T16:38:06.183636",
     "status": "completed"
    },
    "tags": []
   },
   "source": [
    "> **'Multiple Lines' column encoding.**"
   ]
  },
  {
   "cell_type": "code",
   "execution_count": 53,
   "id": "2ed012b0",
   "metadata": {
    "execution": {
     "iopub.execute_input": "2025-01-16T16:38:06.296225Z",
     "iopub.status.busy": "2025-01-16T16:38:06.295818Z",
     "iopub.status.idle": "2025-01-16T16:38:06.307918Z",
     "shell.execute_reply": "2025-01-16T16:38:06.306801Z"
    },
    "papermill": {
     "duration": 0.051316,
     "end_time": "2025-01-16T16:38:06.309674",
     "exception": false,
     "start_time": "2025-01-16T16:38:06.258358",
     "status": "completed"
    },
    "tags": []
   },
   "outputs": [
    {
     "name": "stdout",
     "output_type": "stream",
     "text": [
      "   MultipleLines\n",
      "0              0\n",
      "1              0\n",
      "2              0\n",
      "3              0\n",
      "4              0\n"
     ]
    }
   ],
   "source": [
    "def custom_encode(column):\n",
    "    return column.replace({'Yes': 1, 'No': 0, 'No phone service': 0})\n",
    "\n",
    "\n",
    "columns_to_encode = ['MultipleLines']\n",
    "for col in columns_to_encode:\n",
    "    df[col] = custom_encode(df[col])\n",
    "\n",
    "# Check the transformed data\n",
    "print(df[columns_to_encode].head())"
   ]
  },
  {
   "cell_type": "code",
   "execution_count": 54,
   "id": "e34b9feb",
   "metadata": {
    "execution": {
     "iopub.execute_input": "2025-01-16T16:38:06.385725Z",
     "iopub.status.busy": "2025-01-16T16:38:06.385323Z",
     "iopub.status.idle": "2025-01-16T16:38:06.397974Z",
     "shell.execute_reply": "2025-01-16T16:38:06.396704Z"
    },
    "papermill": {
     "duration": 0.052875,
     "end_time": "2025-01-16T16:38:06.400132",
     "exception": false,
     "start_time": "2025-01-16T16:38:06.347257",
     "status": "completed"
    },
    "tags": []
   },
   "outputs": [
    {
     "name": "stdout",
     "output_type": "stream",
     "text": [
      "[0 1]\n",
      "[0 1]\n",
      "[0 1]\n",
      "[1 0]\n",
      "[0 1]\n",
      "[0 1]\n",
      "[0 1]\n",
      "[0 1]\n"
     ]
    }
   ],
   "source": [
    "a=df['PhoneService'].unique()\n",
    "print(a)\n",
    "b=df['MultipleLines'].unique()\n",
    "print(b)\n",
    "d=df['OnlineSecurity'].unique()\n",
    "print(d)\n",
    "e=df['OnlineBackup'].unique()\n",
    "print(e)\n",
    "f=df['DeviceProtection'].unique()\n",
    "print(f)\n",
    "g=df['TechSupport'].unique()\n",
    "print(g)\n",
    "h=df['StreamingTV'].unique()\n",
    "print(h)\n",
    "i=df['StreamingMovies'].unique()\n",
    "print(i)"
   ]
  },
  {
   "cell_type": "markdown",
   "id": "103dad40",
   "metadata": {
    "papermill": {
     "duration": 0.037801,
     "end_time": "2025-01-16T16:38:06.475049",
     "exception": false,
     "start_time": "2025-01-16T16:38:06.437248",
     "status": "completed"
    },
    "tags": []
   },
   "source": [
    "**Feature Scaling --> this will help the numerical features column to perform better in the model**"
   ]
  },
  {
   "cell_type": "code",
   "execution_count": 55,
   "id": "2b413fd3",
   "metadata": {
    "execution": {
     "iopub.execute_input": "2025-01-16T16:38:06.552673Z",
     "iopub.status.busy": "2025-01-16T16:38:06.552318Z",
     "iopub.status.idle": "2025-01-16T16:38:06.559450Z",
     "shell.execute_reply": "2025-01-16T16:38:06.558371Z"
    },
    "papermill": {
     "duration": 0.048408,
     "end_time": "2025-01-16T16:38:06.561320",
     "exception": false,
     "start_time": "2025-01-16T16:38:06.512912",
     "status": "completed"
    },
    "tags": []
   },
   "outputs": [
    {
     "data": {
      "text/plain": [
       "8684.8"
      ]
     },
     "execution_count": 55,
     "metadata": {},
     "output_type": "execute_result"
    }
   ],
   "source": [
    "max(df['TotalCharges'])"
   ]
  },
  {
   "cell_type": "code",
   "execution_count": 56,
   "id": "c5a40118",
   "metadata": {
    "execution": {
     "iopub.execute_input": "2025-01-16T16:38:06.637255Z",
     "iopub.status.busy": "2025-01-16T16:38:06.636841Z",
     "iopub.status.idle": "2025-01-16T16:38:06.657439Z",
     "shell.execute_reply": "2025-01-16T16:38:06.656209Z"
    },
    "papermill": {
     "duration": 0.060988,
     "end_time": "2025-01-16T16:38:06.659550",
     "exception": false,
     "start_time": "2025-01-16T16:38:06.598562",
     "status": "completed"
    },
    "tags": []
   },
   "outputs": [
    {
     "data": {
      "text/html": [
       "<div>\n",
       "<style scoped>\n",
       "    .dataframe tbody tr th:only-of-type {\n",
       "        vertical-align: middle;\n",
       "    }\n",
       "\n",
       "    .dataframe tbody tr th {\n",
       "        vertical-align: top;\n",
       "    }\n",
       "\n",
       "    .dataframe thead th {\n",
       "        text-align: right;\n",
       "    }\n",
       "</style>\n",
       "<table border=\"1\" class=\"dataframe\">\n",
       "  <thead>\n",
       "    <tr style=\"text-align: right;\">\n",
       "      <th></th>\n",
       "      <th>gender</th>\n",
       "      <th>SeniorCitizen</th>\n",
       "      <th>Partner</th>\n",
       "      <th>Dependents</th>\n",
       "      <th>Tenure</th>\n",
       "      <th>PhoneService</th>\n",
       "      <th>MultipleLines</th>\n",
       "      <th>OnlineSecurity</th>\n",
       "      <th>OnlineBackup</th>\n",
       "      <th>DeviceProtection</th>\n",
       "      <th>...</th>\n",
       "      <th>InternetService_DSL</th>\n",
       "      <th>InternetService_Fiber optic</th>\n",
       "      <th>InternetService_No</th>\n",
       "      <th>Contract_Month-to-month</th>\n",
       "      <th>Contract_One year</th>\n",
       "      <th>Contract_Two year</th>\n",
       "      <th>PaymentMethod_Bank transfer (automatic)</th>\n",
       "      <th>PaymentMethod_Credit card (automatic)</th>\n",
       "      <th>PaymentMethod_Electronic check</th>\n",
       "      <th>PaymentMethod_Mailed check</th>\n",
       "    </tr>\n",
       "  </thead>\n",
       "  <tbody>\n",
       "    <tr>\n",
       "      <th>0</th>\n",
       "      <td>0</td>\n",
       "      <td>0</td>\n",
       "      <td>1</td>\n",
       "      <td>0</td>\n",
       "      <td>1</td>\n",
       "      <td>0</td>\n",
       "      <td>0</td>\n",
       "      <td>0</td>\n",
       "      <td>1</td>\n",
       "      <td>0</td>\n",
       "      <td>...</td>\n",
       "      <td>True</td>\n",
       "      <td>False</td>\n",
       "      <td>False</td>\n",
       "      <td>True</td>\n",
       "      <td>False</td>\n",
       "      <td>False</td>\n",
       "      <td>False</td>\n",
       "      <td>False</td>\n",
       "      <td>True</td>\n",
       "      <td>False</td>\n",
       "    </tr>\n",
       "    <tr>\n",
       "      <th>1</th>\n",
       "      <td>1</td>\n",
       "      <td>0</td>\n",
       "      <td>0</td>\n",
       "      <td>0</td>\n",
       "      <td>34</td>\n",
       "      <td>1</td>\n",
       "      <td>0</td>\n",
       "      <td>1</td>\n",
       "      <td>0</td>\n",
       "      <td>1</td>\n",
       "      <td>...</td>\n",
       "      <td>True</td>\n",
       "      <td>False</td>\n",
       "      <td>False</td>\n",
       "      <td>False</td>\n",
       "      <td>True</td>\n",
       "      <td>False</td>\n",
       "      <td>False</td>\n",
       "      <td>False</td>\n",
       "      <td>False</td>\n",
       "      <td>True</td>\n",
       "    </tr>\n",
       "    <tr>\n",
       "      <th>2</th>\n",
       "      <td>1</td>\n",
       "      <td>0</td>\n",
       "      <td>0</td>\n",
       "      <td>0</td>\n",
       "      <td>2</td>\n",
       "      <td>1</td>\n",
       "      <td>0</td>\n",
       "      <td>1</td>\n",
       "      <td>1</td>\n",
       "      <td>0</td>\n",
       "      <td>...</td>\n",
       "      <td>True</td>\n",
       "      <td>False</td>\n",
       "      <td>False</td>\n",
       "      <td>True</td>\n",
       "      <td>False</td>\n",
       "      <td>False</td>\n",
       "      <td>False</td>\n",
       "      <td>False</td>\n",
       "      <td>False</td>\n",
       "      <td>True</td>\n",
       "    </tr>\n",
       "    <tr>\n",
       "      <th>3</th>\n",
       "      <td>1</td>\n",
       "      <td>0</td>\n",
       "      <td>0</td>\n",
       "      <td>0</td>\n",
       "      <td>45</td>\n",
       "      <td>0</td>\n",
       "      <td>0</td>\n",
       "      <td>1</td>\n",
       "      <td>0</td>\n",
       "      <td>1</td>\n",
       "      <td>...</td>\n",
       "      <td>True</td>\n",
       "      <td>False</td>\n",
       "      <td>False</td>\n",
       "      <td>False</td>\n",
       "      <td>True</td>\n",
       "      <td>False</td>\n",
       "      <td>True</td>\n",
       "      <td>False</td>\n",
       "      <td>False</td>\n",
       "      <td>False</td>\n",
       "    </tr>\n",
       "    <tr>\n",
       "      <th>4</th>\n",
       "      <td>0</td>\n",
       "      <td>0</td>\n",
       "      <td>0</td>\n",
       "      <td>0</td>\n",
       "      <td>2</td>\n",
       "      <td>1</td>\n",
       "      <td>0</td>\n",
       "      <td>0</td>\n",
       "      <td>0</td>\n",
       "      <td>0</td>\n",
       "      <td>...</td>\n",
       "      <td>False</td>\n",
       "      <td>True</td>\n",
       "      <td>False</td>\n",
       "      <td>True</td>\n",
       "      <td>False</td>\n",
       "      <td>False</td>\n",
       "      <td>False</td>\n",
       "      <td>False</td>\n",
       "      <td>True</td>\n",
       "      <td>False</td>\n",
       "    </tr>\n",
       "  </tbody>\n",
       "</table>\n",
       "<p>5 rows × 27 columns</p>\n",
       "</div>"
      ],
      "text/plain": [
       "   gender  SeniorCitizen  Partner  Dependents  Tenure  PhoneService  \\\n",
       "0       0              0        1           0       1             0   \n",
       "1       1              0        0           0      34             1   \n",
       "2       1              0        0           0       2             1   \n",
       "3       1              0        0           0      45             0   \n",
       "4       0              0        0           0       2             1   \n",
       "\n",
       "   MultipleLines  OnlineSecurity  OnlineBackup  DeviceProtection  ...  \\\n",
       "0              0               0             1                 0  ...   \n",
       "1              0               1             0                 1  ...   \n",
       "2              0               1             1                 0  ...   \n",
       "3              0               1             0                 1  ...   \n",
       "4              0               0             0                 0  ...   \n",
       "\n",
       "   InternetService_DSL  InternetService_Fiber optic  InternetService_No  \\\n",
       "0                 True                        False               False   \n",
       "1                 True                        False               False   \n",
       "2                 True                        False               False   \n",
       "3                 True                        False               False   \n",
       "4                False                         True               False   \n",
       "\n",
       "   Contract_Month-to-month  Contract_One year  Contract_Two year  \\\n",
       "0                     True              False              False   \n",
       "1                    False               True              False   \n",
       "2                     True              False              False   \n",
       "3                    False               True              False   \n",
       "4                     True              False              False   \n",
       "\n",
       "   PaymentMethod_Bank transfer (automatic)  \\\n",
       "0                                    False   \n",
       "1                                    False   \n",
       "2                                    False   \n",
       "3                                     True   \n",
       "4                                    False   \n",
       "\n",
       "   PaymentMethod_Credit card (automatic)  PaymentMethod_Electronic check  \\\n",
       "0                                  False                            True   \n",
       "1                                  False                           False   \n",
       "2                                  False                           False   \n",
       "3                                  False                           False   \n",
       "4                                  False                            True   \n",
       "\n",
       "   PaymentMethod_Mailed check  \n",
       "0                       False  \n",
       "1                        True  \n",
       "2                        True  \n",
       "3                       False  \n",
       "4                       False  \n",
       "\n",
       "[5 rows x 27 columns]"
      ]
     },
     "execution_count": 56,
     "metadata": {},
     "output_type": "execute_result"
    }
   ],
   "source": [
    "df.head()"
   ]
  },
  {
   "cell_type": "markdown",
   "id": "1aae12ed",
   "metadata": {
    "papermill": {
     "duration": 0.042379,
     "end_time": "2025-01-16T16:38:06.740709",
     "exception": false,
     "start_time": "2025-01-16T16:38:06.698330",
     "status": "completed"
    },
    "tags": []
   },
   "source": [
    "> **Split Data -->Separate the target variable (Churn) from the features.**"
   ]
  },
  {
   "cell_type": "code",
   "execution_count": 57,
   "id": "e10b3ca0",
   "metadata": {
    "execution": {
     "iopub.execute_input": "2025-01-16T16:38:06.819384Z",
     "iopub.status.busy": "2025-01-16T16:38:06.818963Z",
     "iopub.status.idle": "2025-01-16T16:38:06.830899Z",
     "shell.execute_reply": "2025-01-16T16:38:06.829747Z"
    },
    "papermill": {
     "duration": 0.053261,
     "end_time": "2025-01-16T16:38:06.832992",
     "exception": false,
     "start_time": "2025-01-16T16:38:06.779731",
     "status": "completed"
    },
    "tags": []
   },
   "outputs": [],
   "source": [
    "# Target variable (Churn), so splitting is done by taking it.\n",
    "\n",
    "X = df.drop('Churn', axis=1)\n",
    "y = df['Churn']\n",
    "\n",
    "# Split the data into training and testing sets\n",
    "X_train, X_test, y_train, y_test = train_test_split(X, y, test_size=0.2, random_state=42)\n"
   ]
  },
  {
   "cell_type": "markdown",
   "id": "637d057f",
   "metadata": {
    "papermill": {
     "duration": 0.038308,
     "end_time": "2025-01-16T16:38:06.910009",
     "exception": false,
     "start_time": "2025-01-16T16:38:06.871701",
     "status": "completed"
    },
    "tags": []
   },
   "source": [
    "# Model Building and Training.\n",
    "Train a Random Forest Classifier,\n",
    "using Random Forest as it’s effective for classification tasks."
   ]
  },
  {
   "cell_type": "code",
   "execution_count": 58,
   "id": "5a661f61",
   "metadata": {
    "execution": {
     "iopub.execute_input": "2025-01-16T16:38:06.986742Z",
     "iopub.status.busy": "2025-01-16T16:38:06.986384Z",
     "iopub.status.idle": "2025-01-16T16:38:07.849911Z",
     "shell.execute_reply": "2025-01-16T16:38:07.848647Z"
    },
    "papermill": {
     "duration": 0.904056,
     "end_time": "2025-01-16T16:38:07.851683",
     "exception": false,
     "start_time": "2025-01-16T16:38:06.947627",
     "status": "completed"
    },
    "tags": []
   },
   "outputs": [
    {
     "data": {
      "text/html": [
       "<style>#sk-container-id-1 {color: black;background-color: white;}#sk-container-id-1 pre{padding: 0;}#sk-container-id-1 div.sk-toggleable {background-color: white;}#sk-container-id-1 label.sk-toggleable__label {cursor: pointer;display: block;width: 100%;margin-bottom: 0;padding: 0.3em;box-sizing: border-box;text-align: center;}#sk-container-id-1 label.sk-toggleable__label-arrow:before {content: \"▸\";float: left;margin-right: 0.25em;color: #696969;}#sk-container-id-1 label.sk-toggleable__label-arrow:hover:before {color: black;}#sk-container-id-1 div.sk-estimator:hover label.sk-toggleable__label-arrow:before {color: black;}#sk-container-id-1 div.sk-toggleable__content {max-height: 0;max-width: 0;overflow: hidden;text-align: left;background-color: #f0f8ff;}#sk-container-id-1 div.sk-toggleable__content pre {margin: 0.2em;color: black;border-radius: 0.25em;background-color: #f0f8ff;}#sk-container-id-1 input.sk-toggleable__control:checked~div.sk-toggleable__content {max-height: 200px;max-width: 100%;overflow: auto;}#sk-container-id-1 input.sk-toggleable__control:checked~label.sk-toggleable__label-arrow:before {content: \"▾\";}#sk-container-id-1 div.sk-estimator input.sk-toggleable__control:checked~label.sk-toggleable__label {background-color: #d4ebff;}#sk-container-id-1 div.sk-label input.sk-toggleable__control:checked~label.sk-toggleable__label {background-color: #d4ebff;}#sk-container-id-1 input.sk-hidden--visually {border: 0;clip: rect(1px 1px 1px 1px);clip: rect(1px, 1px, 1px, 1px);height: 1px;margin: -1px;overflow: hidden;padding: 0;position: absolute;width: 1px;}#sk-container-id-1 div.sk-estimator {font-family: monospace;background-color: #f0f8ff;border: 1px dotted black;border-radius: 0.25em;box-sizing: border-box;margin-bottom: 0.5em;}#sk-container-id-1 div.sk-estimator:hover {background-color: #d4ebff;}#sk-container-id-1 div.sk-parallel-item::after {content: \"\";width: 100%;border-bottom: 1px solid gray;flex-grow: 1;}#sk-container-id-1 div.sk-label:hover label.sk-toggleable__label {background-color: #d4ebff;}#sk-container-id-1 div.sk-serial::before {content: \"\";position: absolute;border-left: 1px solid gray;box-sizing: border-box;top: 0;bottom: 0;left: 50%;z-index: 0;}#sk-container-id-1 div.sk-serial {display: flex;flex-direction: column;align-items: center;background-color: white;padding-right: 0.2em;padding-left: 0.2em;position: relative;}#sk-container-id-1 div.sk-item {position: relative;z-index: 1;}#sk-container-id-1 div.sk-parallel {display: flex;align-items: stretch;justify-content: center;background-color: white;position: relative;}#sk-container-id-1 div.sk-item::before, #sk-container-id-1 div.sk-parallel-item::before {content: \"\";position: absolute;border-left: 1px solid gray;box-sizing: border-box;top: 0;bottom: 0;left: 50%;z-index: -1;}#sk-container-id-1 div.sk-parallel-item {display: flex;flex-direction: column;z-index: 1;position: relative;background-color: white;}#sk-container-id-1 div.sk-parallel-item:first-child::after {align-self: flex-end;width: 50%;}#sk-container-id-1 div.sk-parallel-item:last-child::after {align-self: flex-start;width: 50%;}#sk-container-id-1 div.sk-parallel-item:only-child::after {width: 0;}#sk-container-id-1 div.sk-dashed-wrapped {border: 1px dashed gray;margin: 0 0.4em 0.5em 0.4em;box-sizing: border-box;padding-bottom: 0.4em;background-color: white;}#sk-container-id-1 div.sk-label label {font-family: monospace;font-weight: bold;display: inline-block;line-height: 1.2em;}#sk-container-id-1 div.sk-label-container {text-align: center;}#sk-container-id-1 div.sk-container {/* jupyter's `normalize.less` sets `[hidden] { display: none; }` but bootstrap.min.css set `[hidden] { display: none !important; }` so we also need the `!important` here to be able to override the default hidden behavior on the sphinx rendered scikit-learn.org. See: https://github.com/scikit-learn/scikit-learn/issues/21755 */display: inline-block !important;position: relative;}#sk-container-id-1 div.sk-text-repr-fallback {display: none;}</style><div id=\"sk-container-id-1\" class=\"sk-top-container\"><div class=\"sk-text-repr-fallback\"><pre>RandomForestClassifier(random_state=42)</pre><b>In a Jupyter environment, please rerun this cell to show the HTML representation or trust the notebook. <br />On GitHub, the HTML representation is unable to render, please try loading this page with nbviewer.org.</b></div><div class=\"sk-container\" hidden><div class=\"sk-item\"><div class=\"sk-estimator sk-toggleable\"><input class=\"sk-toggleable__control sk-hidden--visually\" id=\"sk-estimator-id-1\" type=\"checkbox\" checked><label for=\"sk-estimator-id-1\" class=\"sk-toggleable__label sk-toggleable__label-arrow\">RandomForestClassifier</label><div class=\"sk-toggleable__content\"><pre>RandomForestClassifier(random_state=42)</pre></div></div></div></div></div>"
      ],
      "text/plain": [
       "RandomForestClassifier(random_state=42)"
      ]
     },
     "execution_count": 58,
     "metadata": {},
     "output_type": "execute_result"
    }
   ],
   "source": [
    "# Instantiate and train the model\n",
    "model = RandomForestClassifier(random_state=42)\n",
    "model.fit(X_train, y_train)"
   ]
  },
  {
   "cell_type": "markdown",
   "id": "cd055c46",
   "metadata": {
    "papermill": {
     "duration": 0.037167,
     "end_time": "2025-01-16T16:38:07.926814",
     "exception": false,
     "start_time": "2025-01-16T16:38:07.889647",
     "status": "completed"
    },
    "tags": []
   },
   "source": [
    "# Model Evaluation \n",
    "**--> Check accuracy and correctness of the model.**"
   ]
  },
  {
   "cell_type": "code",
   "execution_count": 59,
   "id": "2dde5c0e",
   "metadata": {
    "execution": {
     "iopub.execute_input": "2025-01-16T16:38:08.002678Z",
     "iopub.status.busy": "2025-01-16T16:38:08.002291Z",
     "iopub.status.idle": "2025-01-16T16:38:08.334566Z",
     "shell.execute_reply": "2025-01-16T16:38:08.333281Z"
    },
    "papermill": {
     "duration": 0.372275,
     "end_time": "2025-01-16T16:38:08.336265",
     "exception": false,
     "start_time": "2025-01-16T16:38:07.963990",
     "status": "completed"
    },
    "tags": []
   },
   "outputs": [
    {
     "name": "stdout",
     "output_type": "stream",
     "text": [
      "Accuracy: 0.783226723525231\n",
      "Classification Report:\n",
      "               precision    recall  f1-score   support\n",
      "\n",
      "           0       0.83      0.89      0.86      1033\n",
      "           1       0.62      0.49      0.54       374\n",
      "\n",
      "    accuracy                           0.78      1407\n",
      "   macro avg       0.72      0.69      0.70      1407\n",
      "weighted avg       0.77      0.78      0.77      1407\n",
      "\n"
     ]
    },
    {
     "data": {
      "image/png": "[encoded data removed]",
      "text/plain": [
       "<Figure size 640x480 with 2 Axes>"
      ]
     },
     "metadata": {},
     "output_type": "display_data"
    },
    {
     "name": "stdout",
     "output_type": "stream",
     "text": [
      "ROC-AUC Score: 0.8182413509274166\n"
     ]
    }
   ],
   "source": [
    "# Make predictions\n",
    "y_pred = model.predict(X_test)\n",
    "\n",
    "# Evaluate accuracy\n",
    "print(\"Accuracy:\", accuracy_score(y_test, y_pred))\n",
    "\n",
    "# Classification report for precision, recall, and F1-score\n",
    "print(\"Classification Report:\\n\", classification_report(y_test, y_pred))\n",
    "\n",
    "# Confusion matrix\n",
    "conf_matrix = confusion_matrix(y_test, y_pred)\n",
    "sns.heatmap(conf_matrix, annot=True, fmt=\"d\")\n",
    "plt.xlabel('Predicted')\n",
    "plt.ylabel('Actual')\n",
    "plt.show()\n",
    "\n",
    "# ROC-AUC Score\n",
    "roc_auc = roc_auc_score(y_test, model.predict_proba(X_test)[:,1])\n",
    "print(\"ROC-AUC Score:\", roc_auc)\n"
   ]
  },
  {
   "cell_type": "markdown",
   "id": "820c0d4b",
   "metadata": {
    "papermill": {
     "duration": 0.038292,
     "end_time": "2025-01-16T16:38:08.413841",
     "exception": false,
     "start_time": "2025-01-16T16:38:08.375549",
     "status": "completed"
    },
    "tags": []
   },
   "source": [
    "# Model Tuning -->\n",
    "**Use GridSearchCV for hyperparameter tuning to further improve model accuracy.**"
   ]
  },
  {
   "cell_type": "code",
   "execution_count": 60,
   "id": "b9206e18",
   "metadata": {
    "execution": {
     "iopub.execute_input": "2025-01-16T16:38:08.492277Z",
     "iopub.status.busy": "2025-01-16T16:38:08.491849Z",
     "iopub.status.idle": "2025-01-16T16:39:20.332988Z",
     "shell.execute_reply": "2025-01-16T16:39:20.331708Z"
    },
    "papermill": {
     "duration": 71.92139,
     "end_time": "2025-01-16T16:39:20.373932",
     "exception": false,
     "start_time": "2025-01-16T16:38:08.452542",
     "status": "completed"
    },
    "tags": []
   },
   "outputs": [
    {
     "name": "stdout",
     "output_type": "stream",
     "text": [
      "Best Parameters: {'max_depth': 20, 'min_samples_split': 10, 'n_estimators': 50}\n",
      "DONE\n"
     ]
    }
   ],
   "source": [
    "from sklearn.model_selection import GridSearchCV\n",
    "\n",
    "param_grid = {\n",
    "    'n_estimators': [50, 100, 200],\n",
    "    'max_depth': [None, 10, 20, 30],\n",
    "    'min_samples_split': [2, 5, 10]\n",
    "}\n",
    "\n",
    "grid_search = GridSearchCV(estimator=model, param_grid=param_grid, cv=3, scoring='accuracy')\n",
    "grid_search.fit(X_train, y_train)\n",
    "\n",
    "print(\"Best Parameters:\", grid_search.best_params_)\n",
    "print('DONE')"
   ]
  },
  {
   "cell_type": "code",
   "execution_count": 61,
   "id": "535d2730",
   "metadata": {
    "execution": {
     "iopub.execute_input": "2025-01-16T16:39:20.458445Z",
     "iopub.status.busy": "2025-01-16T16:39:20.457719Z",
     "iopub.status.idle": "2025-01-16T16:39:31.390440Z",
     "shell.execute_reply": "2025-01-16T16:39:31.388828Z"
    },
    "papermill": {
     "duration": 10.980212,
     "end_time": "2025-01-16T16:39:31.392738",
     "exception": false,
     "start_time": "2025-01-16T16:39:20.412526",
     "status": "completed"
    },
    "tags": []
   },
   "outputs": [
    {
     "name": "stdout",
     "output_type": "stream",
     "text": [
      "Collecting scikit-learn==1.6.1\r\n",
      "  Downloading scikit_learn-1.6.1-cp310-cp310-manylinux_2_17_x86_64.manylinux2014_x86_64.whl.metadata (18 kB)\r\n",
      "Requirement already satisfied: numpy>=1.19.5 in /usr/local/lib/python3.10/dist-packages (from scikit-learn==1.6.1) (1.26.4)\r\n",
      "Requirement already satisfied: scipy>=1.6.0 in /usr/local/lib/python3.10/dist-packages (from scikit-learn==1.6.1) (1.13.1)\r\n",
      "Requirement already satisfied: joblib>=1.2.0 in /usr/local/lib/python3.10/dist-packages (from scikit-learn==1.6.1) (1.4.2)\r\n",
      "Requirement already satisfied: threadpoolctl>=3.1.0 in /usr/local/lib/python3.10/dist-packages (from scikit-learn==1.6.1) (3.5.0)\r\n",
      "Downloading scikit_learn-1.6.1-cp310-cp310-manylinux_2_17_x86_64.manylinux2014_x86_64.whl (13.5 MB)\r\n",
      "\u001b[2K   \u001b[90m━━━━━━━━━━━━━━━━━━━━━━━━━━━━━━━━━━━━━━━━\u001b[0m \u001b[32m13.5/13.5 MB\u001b[0m \u001b[31m36.9 MB/s\u001b[0m eta \u001b[36m0:00:00\u001b[0m\r\n",
      "\u001b[?25hInstalling collected packages: scikit-learn\r\n",
      "  Attempting uninstall: scikit-learn\r\n",
      "    Found existing installation: scikit-learn 1.2.2\r\n",
      "    Uninstalling scikit-learn-1.2.2:\r\n",
      "      Successfully uninstalled scikit-learn-1.2.2\r\n",
      "Successfully installed scikit-learn-1.6.1\r\n"
     ]
    }
   ],
   "source": [
    "!pip install --upgrade scikit-learn==1.6.1"
   ]
  },
  {
   "cell_type": "code",
   "execution_count": 62,
   "id": "30f54b26",
   "metadata": {
    "execution": {
     "iopub.execute_input": "2025-01-16T16:39:31.475002Z",
     "iopub.status.busy": "2025-01-16T16:39:31.474596Z",
     "iopub.status.idle": "2025-01-16T16:39:31.480574Z",
     "shell.execute_reply": "2025-01-16T16:39:31.479385Z"
    },
    "papermill": {
     "duration": 0.049767,
     "end_time": "2025-01-16T16:39:31.482404",
     "exception": false,
     "start_time": "2025-01-16T16:39:31.432637",
     "status": "completed"
    },
    "tags": []
   },
   "outputs": [
    {
     "name": "stdout",
     "output_type": "stream",
     "text": [
      "1.2.2\n"
     ]
    }
   ],
   "source": [
    "import sklearn\n",
    "print(sklearn.__version__)"
   ]
  },
  {
   "cell_type": "code",
   "execution_count": 63,
   "id": "4d59119f",
   "metadata": {
    "execution": {
     "iopub.execute_input": "2025-01-16T16:39:31.562799Z",
     "iopub.status.busy": "2025-01-16T16:39:31.562402Z",
     "iopub.status.idle": "2025-01-16T16:39:31.599550Z",
     "shell.execute_reply": "2025-01-16T16:39:31.598267Z"
    },
    "papermill": {
     "duration": 0.079412,
     "end_time": "2025-01-16T16:39:31.601578",
     "exception": false,
     "start_time": "2025-01-16T16:39:31.522166",
     "status": "completed"
    },
    "tags": []
   },
   "outputs": [],
   "source": [
    "import pickle\n",
    "\n",
    "with open('mymodel.pkl','wb') as f :\n",
    "    pickle.dump(model,f)"
   ]
  },
  {
   "cell_type": "code",
   "execution_count": 64,
   "id": "dd5b9f09",
   "metadata": {
    "execution": {
     "iopub.execute_input": "2025-01-16T16:39:31.682280Z",
     "iopub.status.busy": "2025-01-16T16:39:31.681847Z",
     "iopub.status.idle": "2025-01-16T16:39:31.706436Z",
     "shell.execute_reply": "2025-01-16T16:39:31.705201Z"
    },
    "papermill": {
     "duration": 0.066562,
     "end_time": "2025-01-16T16:39:31.708288",
     "exception": false,
     "start_time": "2025-01-16T16:39:31.641726",
     "status": "completed"
    },
    "tags": []
   },
   "outputs": [
    {
     "data": {
      "text/html": [
       "<div>\n",
       "<style scoped>\n",
       "    .dataframe tbody tr th:only-of-type {\n",
       "        vertical-align: middle;\n",
       "    }\n",
       "\n",
       "    .dataframe tbody tr th {\n",
       "        vertical-align: top;\n",
       "    }\n",
       "\n",
       "    .dataframe thead th {\n",
       "        text-align: right;\n",
       "    }\n",
       "</style>\n",
       "<table border=\"1\" class=\"dataframe\">\n",
       "  <thead>\n",
       "    <tr style=\"text-align: right;\">\n",
       "      <th></th>\n",
       "      <th>gender</th>\n",
       "      <th>SeniorCitizen</th>\n",
       "      <th>Partner</th>\n",
       "      <th>Dependents</th>\n",
       "      <th>Tenure</th>\n",
       "      <th>PhoneService</th>\n",
       "      <th>MultipleLines</th>\n",
       "      <th>OnlineSecurity</th>\n",
       "      <th>OnlineBackup</th>\n",
       "      <th>DeviceProtection</th>\n",
       "      <th>...</th>\n",
       "      <th>InternetService_DSL</th>\n",
       "      <th>InternetService_Fiber optic</th>\n",
       "      <th>InternetService_No</th>\n",
       "      <th>Contract_Month-to-month</th>\n",
       "      <th>Contract_One year</th>\n",
       "      <th>Contract_Two year</th>\n",
       "      <th>PaymentMethod_Bank transfer (automatic)</th>\n",
       "      <th>PaymentMethod_Credit card (automatic)</th>\n",
       "      <th>PaymentMethod_Electronic check</th>\n",
       "      <th>PaymentMethod_Mailed check</th>\n",
       "    </tr>\n",
       "  </thead>\n",
       "  <tbody>\n",
       "    <tr>\n",
       "      <th>0</th>\n",
       "      <td>0</td>\n",
       "      <td>0</td>\n",
       "      <td>1</td>\n",
       "      <td>0</td>\n",
       "      <td>1</td>\n",
       "      <td>0</td>\n",
       "      <td>0</td>\n",
       "      <td>0</td>\n",
       "      <td>1</td>\n",
       "      <td>0</td>\n",
       "      <td>...</td>\n",
       "      <td>True</td>\n",
       "      <td>False</td>\n",
       "      <td>False</td>\n",
       "      <td>True</td>\n",
       "      <td>False</td>\n",
       "      <td>False</td>\n",
       "      <td>False</td>\n",
       "      <td>False</td>\n",
       "      <td>True</td>\n",
       "      <td>False</td>\n",
       "    </tr>\n",
       "    <tr>\n",
       "      <th>1</th>\n",
       "      <td>1</td>\n",
       "      <td>0</td>\n",
       "      <td>0</td>\n",
       "      <td>0</td>\n",
       "      <td>34</td>\n",
       "      <td>1</td>\n",
       "      <td>0</td>\n",
       "      <td>1</td>\n",
       "      <td>0</td>\n",
       "      <td>1</td>\n",
       "      <td>...</td>\n",
       "      <td>True</td>\n",
       "      <td>False</td>\n",
       "      <td>False</td>\n",
       "      <td>False</td>\n",
       "      <td>True</td>\n",
       "      <td>False</td>\n",
       "      <td>False</td>\n",
       "      <td>False</td>\n",
       "      <td>False</td>\n",
       "      <td>True</td>\n",
       "    </tr>\n",
       "    <tr>\n",
       "      <th>2</th>\n",
       "      <td>1</td>\n",
       "      <td>0</td>\n",
       "      <td>0</td>\n",
       "      <td>0</td>\n",
       "      <td>2</td>\n",
       "      <td>1</td>\n",
       "      <td>0</td>\n",
       "      <td>1</td>\n",
       "      <td>1</td>\n",
       "      <td>0</td>\n",
       "      <td>...</td>\n",
       "      <td>True</td>\n",
       "      <td>False</td>\n",
       "      <td>False</td>\n",
       "      <td>True</td>\n",
       "      <td>False</td>\n",
       "      <td>False</td>\n",
       "      <td>False</td>\n",
       "      <td>False</td>\n",
       "      <td>False</td>\n",
       "      <td>True</td>\n",
       "    </tr>\n",
       "    <tr>\n",
       "      <th>3</th>\n",
       "      <td>1</td>\n",
       "      <td>0</td>\n",
       "      <td>0</td>\n",
       "      <td>0</td>\n",
       "      <td>45</td>\n",
       "      <td>0</td>\n",
       "      <td>0</td>\n",
       "      <td>1</td>\n",
       "      <td>0</td>\n",
       "      <td>1</td>\n",
       "      <td>...</td>\n",
       "      <td>True</td>\n",
       "      <td>False</td>\n",
       "      <td>False</td>\n",
       "      <td>False</td>\n",
       "      <td>True</td>\n",
       "      <td>False</td>\n",
       "      <td>True</td>\n",
       "      <td>False</td>\n",
       "      <td>False</td>\n",
       "      <td>False</td>\n",
       "    </tr>\n",
       "    <tr>\n",
       "      <th>4</th>\n",
       "      <td>0</td>\n",
       "      <td>0</td>\n",
       "      <td>0</td>\n",
       "      <td>0</td>\n",
       "      <td>2</td>\n",
       "      <td>1</td>\n",
       "      <td>0</td>\n",
       "      <td>0</td>\n",
       "      <td>0</td>\n",
       "      <td>0</td>\n",
       "      <td>...</td>\n",
       "      <td>False</td>\n",
       "      <td>True</td>\n",
       "      <td>False</td>\n",
       "      <td>True</td>\n",
       "      <td>False</td>\n",
       "      <td>False</td>\n",
       "      <td>False</td>\n",
       "      <td>False</td>\n",
       "      <td>True</td>\n",
       "      <td>False</td>\n",
       "    </tr>\n",
       "  </tbody>\n",
       "</table>\n",
       "<p>5 rows × 27 columns</p>\n",
       "</div>"
      ],
      "text/plain": [
       "   gender  SeniorCitizen  Partner  Dependents  Tenure  PhoneService  \\\n",
       "0       0              0        1           0       1             0   \n",
       "1       1              0        0           0      34             1   \n",
       "2       1              0        0           0       2             1   \n",
       "3       1              0        0           0      45             0   \n",
       "4       0              0        0           0       2             1   \n",
       "\n",
       "   MultipleLines  OnlineSecurity  OnlineBackup  DeviceProtection  ...  \\\n",
       "0              0               0             1                 0  ...   \n",
       "1              0               1             0                 1  ...   \n",
       "2              0               1             1                 0  ...   \n",
       "3              0               1             0                 1  ...   \n",
       "4              0               0             0                 0  ...   \n",
       "\n",
       "   InternetService_DSL  InternetService_Fiber optic  InternetService_No  \\\n",
       "0                 True                        False               False   \n",
       "1                 True                        False               False   \n",
       "2                 True                        False               False   \n",
       "3                 True                        False               False   \n",
       "4                False                         True               False   \n",
       "\n",
       "   Contract_Month-to-month  Contract_One year  Contract_Two year  \\\n",
       "0                     True              False              False   \n",
       "1                    False               True              False   \n",
       "2                     True              False              False   \n",
       "3                    False               True              False   \n",
       "4                     True              False              False   \n",
       "\n",
       "   PaymentMethod_Bank transfer (automatic)  \\\n",
       "0                                    False   \n",
       "1                                    False   \n",
       "2                                    False   \n",
       "3                                     True   \n",
       "4                                    False   \n",
       "\n",
       "   PaymentMethod_Credit card (automatic)  PaymentMethod_Electronic check  \\\n",
       "0                                  False                            True   \n",
       "1                                  False                           False   \n",
       "2                                  False                           False   \n",
       "3                                  False                           False   \n",
       "4                                  False                            True   \n",
       "\n",
       "   PaymentMethod_Mailed check  \n",
       "0                       False  \n",
       "1                        True  \n",
       "2                        True  \n",
       "3                       False  \n",
       "4                       False  \n",
       "\n",
       "[5 rows x 27 columns]"
      ]
     },
     "execution_count": 64,
     "metadata": {},
     "output_type": "execute_result"
    }
   ],
   "source": [
    "df.head()"
   ]
  },
  {
   "cell_type": "code",
   "execution_count": 65,
   "id": "c40c21b1",
   "metadata": {
    "execution": {
     "iopub.execute_input": "2025-01-16T16:39:31.788868Z",
     "iopub.status.busy": "2025-01-16T16:39:31.788440Z",
     "iopub.status.idle": "2025-01-16T16:39:31.794055Z",
     "shell.execute_reply": "2025-01-16T16:39:31.792785Z"
    },
    "papermill": {
     "duration": 0.047697,
     "end_time": "2025-01-16T16:39:31.795902",
     "exception": false,
     "start_time": "2025-01-16T16:39:31.748205",
     "status": "completed"
    },
    "tags": []
   },
   "outputs": [
    {
     "name": "stdout",
     "output_type": "stream",
     "text": [
      "(7032, 26)\n"
     ]
    }
   ],
   "source": [
    "print(X.shape)\n"
   ]
  },
  {
   "cell_type": "code",
   "execution_count": null,
   "id": "f8cfafb6",
   "metadata": {
    "papermill": {
     "duration": 0.040328,
     "end_time": "2025-01-16T16:39:31.876869",
     "exception": false,
     "start_time": "2025-01-16T16:39:31.836541",
     "status": "completed"
    },
    "tags": []
   },
   "outputs": [],
   "source": []
  }
 ],
 "metadata": {
  "kaggle": {
   "accelerator": "none",
   "dataSources": [
    {
     "datasetId": 13996,
     "sourceId": 18858,
     "sourceType": "datasetVersion"
    }
   ],
   "dockerImageVersionId": 30822,
   "isGpuEnabled": false,
   "isInternetEnabled": true,
   "language": "python",
   "sourceType": "notebook"
  },
  "kernelspec": {
   "display_name": "Python 3",
   "language": "python",
   "name": "python3"
  },
  "language_info": {
   "codemirror_mode": {
    "name": "ipython",
    "version": 3
   },
   "file_extension": ".py",
   "mimetype": "text/x-python",
   "name": "python",
   "nbconvert_exporter": "python",
   "pygments_lexer": "ipython3",
   "version": "3.10.12"
  },
  "papermill": {
   "default_parameters": {},
   "duration": 102.763735,
   "end_time": "2025-01-16T16:39:32.639416",
   "environment_variables": {},
   "exception": null,
   "input_path": "__notebook__.ipynb",
   "output_path": "__notebook__.ipynb",
   "parameters": {},
   "start_time": "2025-01-16T16:37:49.875681",
   "version": "2.6.0"
  }
 },
 "nbformat": 4,
 "nbformat_minor": 5
}
